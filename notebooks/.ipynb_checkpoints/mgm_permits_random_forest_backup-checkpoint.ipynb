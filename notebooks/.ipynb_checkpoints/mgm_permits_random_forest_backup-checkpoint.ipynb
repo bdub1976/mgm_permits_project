{
 "cells": [
  {
   "cell_type": "code",
   "execution_count": 16,
   "metadata": {},
   "outputs": [],
   "source": [
    "import numpy as np\n",
    "import pandas as pd\n",
    "import matplotlib.pyplot as plt\n",
    "from sklearn.feature_extraction import text\n",
    "from sklearn.ensemble import RandomForestClassifier\n",
    "from sklearn.model_selection import train_test_split\n",
    "from sklearn.metrics import accuracy_score\n",
    "from sklearn.model_selection import cross_val_score\n",
    "from scipy import interp\n",
    "from sklearn.metrics import roc_curve, auc\n",
    "from sklearn.preprocessing import label_binarize"
   ]
  },
  {
   "cell_type": "markdown",
   "metadata": {},
   "source": [
    "### Load the data"
   ]
  },
  {
   "cell_type": "code",
   "execution_count": 17,
   "metadata": {},
   "outputs": [],
   "source": [
    "#open the locally saved csv\n",
    "df = pd.read_csv('C:/Users/595217/general-assembly/project-final/data/mgm.csv', usecols=['description', 'jobtype', 'usetype'])"
   ]
  },
  {
   "cell_type": "code",
   "execution_count": 18,
   "metadata": {},
   "outputs": [
    {
     "name": "stdout",
     "output_type": "stream",
     "text": [
      "<class 'pandas.core.frame.DataFrame'>\n",
      "RangeIndex: 17669 entries, 0 to 17668\n",
      "Data columns (total 3 columns):\n",
      "description    17669 non-null object\n",
      "jobtype        17669 non-null object\n",
      "usetype        17669 non-null object\n",
      "dtypes: object(3)\n",
      "memory usage: 414.2+ KB\n"
     ]
    }
   ],
   "source": [
    "df.info()"
   ]
  },
  {
   "cell_type": "markdown",
   "metadata": {},
   "source": [
    "### Create the features and target variables"
   ]
  },
  {
   "cell_type": "code",
   "execution_count": 19,
   "metadata": {},
   "outputs": [],
   "source": [
    "df = df[df.usetype != 'Mixed Occupancy']"
   ]
  },
  {
   "cell_type": "code",
   "execution_count": 20,
   "metadata": {},
   "outputs": [],
   "source": [
    "X = df['description']\n",
    "z = df['usetype']\n",
    "y = df['jobtype']"
   ]
  },
  {
   "cell_type": "code",
   "execution_count": 21,
   "metadata": {},
   "outputs": [],
   "source": [
    "# y = y.map({'Commercial': 0, 'Residential': 1})\n",
    "y = y.map({'New': 0, 'Existing': 1, 'Alteration': 2, 'Repair': 3, 'Other': 4, 'Addition': 5})"
   ]
  },
  {
   "cell_type": "code",
   "execution_count": 51,
   "metadata": {
    "scrolled": false
   },
   "outputs": [
    {
     "data": {
      "text/plain": [
       "(0    4820\n",
       " 1    4017\n",
       " 2    3083\n",
       " 3    2322\n",
       " 4    2264\n",
       " 5    1143\n",
       " Name: jobtype, dtype: int64, Residential    10439\n",
       " Commercial      7210\n",
       " Name: usetype, dtype: int64)"
      ]
     },
     "execution_count": 51,
     "metadata": {},
     "output_type": "execute_result"
    }
   ],
   "source": [
    "y.value_counts(), z.value_counts()"
   ]
  },
  {
   "cell_type": "code",
   "execution_count": 23,
   "metadata": {},
   "outputs": [],
   "source": [
    "# y_bin = label_binarize(y, classes=[0,1,2])\n",
    "# n_y_bin_classes = y_bin.shape[1]\n",
    "z_bin = label_binarize(z, classes=[0,1,2,3,4,5])\n",
    "n_z_bin_classes = z_bin.shape[1]"
   ]
  },
  {
   "cell_type": "code",
   "execution_count": 24,
   "metadata": {},
   "outputs": [],
   "source": [
    "X_tr, X_te, y_tr, y_te, = train_test_split(X, y, test_size=0.30, random_state=42)"
   ]
  },
  {
   "cell_type": "code",
   "execution_count": 25,
   "metadata": {},
   "outputs": [
    {
     "data": {
      "text/plain": [
       "8190"
      ]
     },
     "execution_count": 25,
     "metadata": {},
     "output_type": "execute_result"
    }
   ],
   "source": [
    "# create the BOW representation\n",
    "bow_transform = text.CountVectorizer(min_df=0, stop_words=\"english\")\n",
    "X_tr_bow = bow_transform.fit_transform(X_tr)\n",
    "X_te_bow = bow_transform.transform(X_te)\n",
    "len(bow_transform.vocabulary_)"
   ]
  },
  {
   "cell_type": "code",
   "execution_count": 26,
   "metadata": {},
   "outputs": [
    {
     "data": {
      "text/plain": [
       "(5295, 8190)"
      ]
     },
     "execution_count": 26,
     "metadata": {},
     "output_type": "execute_result"
    }
   ],
   "source": [
    "#create tf-idf representation using the bow matrix\n",
    "tfidf_trfm = text.TfidfTransformer(norm=None)\n",
    "X_tr_tfidf = tfidf_trfm.fit_transform(X_tr_bow)\n",
    "X_te_tfidf = tfidf_trfm.transform(X_te_bow)\n",
    "X_te_tfidf.shape"
   ]
  },
  {
   "cell_type": "markdown",
   "metadata": {},
   "source": [
    "### Instantiate a random forest classifier, run on the target variables and score the model"
   ]
  },
  {
   "cell_type": "code",
   "execution_count": null,
   "metadata": {},
   "outputs": [],
   "source": [
    "from sklearn.multiclass import OneVsRestClassifier"
   ]
  },
  {
   "cell_type": "code",
   "execution_count": 27,
   "metadata": {},
   "outputs": [],
   "source": [
    "#instantiate the classifier\n",
    "rf = OneVsRestClassifier(RandomForestClassifier())"
   ]
  },
  {
   "cell_type": "code",
   "execution_count": 28,
   "metadata": {},
   "outputs": [
    {
     "data": {
      "text/plain": [
       "RandomForestClassifier(bootstrap=True, class_weight=None, criterion='gini',\n",
       "            max_depth=None, max_features='auto', max_leaf_nodes=None,\n",
       "            min_impurity_decrease=0.0, min_impurity_split=None,\n",
       "            min_samples_leaf=1, min_samples_split=2,\n",
       "            min_weight_fraction_leaf=0.0, n_estimators=10, n_jobs=1,\n",
       "            oob_score=False, random_state=None, verbose=0,\n",
       "            warm_start=False)"
      ]
     },
     "execution_count": 28,
     "metadata": {},
     "output_type": "execute_result"
    }
   ],
   "source": [
    "rf.fit(X_tr_tfidf, y_tr)"
   ]
  },
  {
   "cell_type": "code",
   "execution_count": 29,
   "metadata": {},
   "outputs": [
    {
     "name": "stdout",
     "output_type": "stream",
     "text": [
      "RandomForestClassifier 0.9242681775259679\n"
     ]
    }
   ],
   "source": [
    "y_pred = rf.predict(X_te_tfidf)\n",
    "print(rf.__class__.__name__, accuracy_score(y_te, y_pred))"
   ]
  },
  {
   "cell_type": "code",
   "execution_count": 30,
   "metadata": {},
   "outputs": [],
   "source": [
    "def display_scores(scores):\n",
    "    print(\"Scores:\", scores)\n",
    "    print(\"Mean:\", scores.mean())\n",
    "    print(\"StDev:\", scores.std())"
   ]
  },
  {
   "cell_type": "code",
   "execution_count": 31,
   "metadata": {},
   "outputs": [],
   "source": [
    "y_tr_tfidf_scores = cross_val_score(rf, X_tr_tfidf, y_tr, cv=10, scoring=\"accuracy\")"
   ]
  },
  {
   "cell_type": "code",
   "execution_count": 32,
   "metadata": {},
   "outputs": [
    {
     "name": "stdout",
     "output_type": "stream",
     "text": [
      "Scores: [0.90153349 0.9135004  0.90703314 0.90850202 0.91255061 0.91093117\n",
      " 0.90923825 0.91247974 0.91247974 0.89384117]\n",
      "Mean: 0.9082089747223531\n",
      "StDev: 0.005867384824918001\n"
     ]
    }
   ],
   "source": [
    "display_scores(y_tr_tfidf_scores)"
   ]
  },
  {
   "cell_type": "code",
   "execution_count": 33,
   "metadata": {},
   "outputs": [],
   "source": [
    "y_te_tfidf_scores = cross_val_score(rf, X_te_tfidf, y_te, cv=10, scoring=\"accuracy\")"
   ]
  },
  {
   "cell_type": "code",
   "execution_count": 34,
   "metadata": {},
   "outputs": [
    {
     "name": "stdout",
     "output_type": "stream",
     "text": [
      "Scores: [0.85928705 0.82330827 0.86037736 0.85849057 0.82986767 0.83175803\n",
      " 0.84877127 0.86174242 0.84469697 0.81024668]\n",
      "Mean: 0.8428546298295612\n",
      "StDev: 0.017186729511305333\n"
     ]
    }
   ],
   "source": [
    "display_scores(y_te_tfidf_scores)"
   ]
  },
  {
   "cell_type": "code",
   "execution_count": 35,
   "metadata": {
    "scrolled": true
   },
   "outputs": [
    {
     "name": "stderr",
     "output_type": "stream",
     "text": [
      "C:\\Users\\595217\\AppData\\Local\\Continuum\\anaconda3\\lib\\site-packages\\h5py\\__init__.py:36: FutureWarning: Conversion of the second argument of issubdtype from `float` to `np.floating` is deprecated. In future, it will be treated as `np.float64 == np.dtype(float).type`.\n",
      "  from ._conv import register_converters as _register_converters\n",
      "Using TensorFlow backend.\n"
     ]
    }
   ],
   "source": [
    "import tensorflow as tf\n",
    "from keras.models import Sequential\n",
    "from keras.layers import Dense"
   ]
  },
  {
   "cell_type": "code",
   "execution_count": 36,
   "metadata": {},
   "outputs": [],
   "source": [
    "model = Sequential()"
   ]
  },
  {
   "cell_type": "code",
   "execution_count": 37,
   "metadata": {},
   "outputs": [],
   "source": [
    "model.add(Dense(12, input_dim=8190, kernel_initializer='uniform', activation='relu'))\n",
    "model.add(Dense(8, input_dim=8190, kernel_initializer='uniform', activation='relu'))\n",
    "model.add(Dense(8, input_dim=8190, kernel_initializer='uniform', activation='relu'))\n",
    "model.add(Dense(1, input_dim=8190, kernel_initializer='uniform', activation='sigmoid'))"
   ]
  },
  {
   "cell_type": "code",
   "execution_count": 38,
   "metadata": {},
   "outputs": [
    {
     "data": {
      "text/plain": [
       "(None, 1)"
      ]
     },
     "execution_count": 38,
     "metadata": {},
     "output_type": "execute_result"
    }
   ],
   "source": [
    "model.output_shape"
   ]
  },
  {
   "cell_type": "code",
   "execution_count": 39,
   "metadata": {},
   "outputs": [
    {
     "name": "stdout",
     "output_type": "stream",
     "text": [
      "_________________________________________________________________\n",
      "Layer (type)                 Output Shape              Param #   \n",
      "=================================================================\n",
      "dense_1 (Dense)              (None, 12)                98292     \n",
      "_________________________________________________________________\n",
      "dense_2 (Dense)              (None, 8)                 104       \n",
      "_________________________________________________________________\n",
      "dense_3 (Dense)              (None, 8)                 72        \n",
      "_________________________________________________________________\n",
      "dense_4 (Dense)              (None, 1)                 9         \n",
      "=================================================================\n",
      "Total params: 98,477\n",
      "Trainable params: 98,477\n",
      "Non-trainable params: 0\n",
      "_________________________________________________________________\n"
     ]
    }
   ],
   "source": [
    "model.summary()"
   ]
  },
  {
   "cell_type": "code",
   "execution_count": 40,
   "metadata": {},
   "outputs": [],
   "source": [
    "model.compile(optimizer='adam', loss='binary_crossentropy', metrics=['accuracy'])"
   ]
  },
  {
   "cell_type": "code",
   "execution_count": 41,
   "metadata": {},
   "outputs": [
    {
     "name": "stdout",
     "output_type": "stream",
     "text": [
      "Train on 12354 samples, validate on 5295 samples\n",
      "Epoch 1/100\n",
      "12354/12354 [==============================] - 3s 275us/step - loss: -10.1633 - acc: 0.3555 - val_loss: -15.7314 - val_acc: 0.4465\n",
      "Epoch 2/100\n",
      "12354/12354 [==============================] - 3s 230us/step - loss: -16.7011 - acc: 0.4424 - val_loss: -16.0067 - val_acc: 0.4616\n",
      "Epoch 3/100\n",
      "12354/12354 [==============================] - 3s 229us/step - loss: -16.9430 - acc: 0.4555 - val_loss: -16.1285 - val_acc: 0.4752\n",
      "Epoch 4/100\n",
      "12354/12354 [==============================] - 3s 228us/step - loss: -17.0443 - acc: 0.4645 - val_loss: -16.1777 - val_acc: 0.4795\n",
      "Epoch 5/100\n",
      "12354/12354 [==============================] - 3s 229us/step - loss: -17.0888 - acc: 0.4679 - val_loss: -16.2015 - val_acc: 0.4799\n",
      "Epoch 6/100\n",
      "12354/12354 [==============================] - 4s 285us/step - loss: -17.1171 - acc: 0.4698 - val_loss: -16.2227 - val_acc: 0.4856\n",
      "Epoch 7/100\n",
      "12354/12354 [==============================] - 3s 241us/step - loss: -17.1406 - acc: 0.4716 - val_loss: -16.2307 - val_acc: 0.4840\n",
      "Epoch 8/100\n",
      "12354/12354 [==============================] - 3s 228us/step - loss: -17.1574 - acc: 0.4729 - val_loss: -16.2311 - val_acc: 0.4867\n",
      "Epoch 9/100\n",
      "12354/12354 [==============================] - 3s 235us/step - loss: -17.1681 - acc: 0.4735 - val_loss: -16.2555 - val_acc: 0.4867\n",
      "Epoch 10/100\n",
      "12354/12354 [==============================] - 3s 245us/step - loss: -17.1779 - acc: 0.4752 - val_loss: -16.2499 - val_acc: 0.4880\n",
      "Epoch 11/100\n",
      "12354/12354 [==============================] - 4s 334us/step - loss: -17.1797 - acc: 0.4749 - val_loss: -16.2603 - val_acc: 0.4878\n",
      "Epoch 12/100\n",
      "12354/12354 [==============================] - 3s 249us/step - loss: -17.1836 - acc: 0.4757 - val_loss: -16.2548 - val_acc: 0.4880\n",
      "Epoch 13/100\n",
      "12354/12354 [==============================] - 3s 242us/step - loss: -17.1873 - acc: 0.4758 - val_loss: -16.2545 - val_acc: 0.4869\n",
      "Epoch 14/100\n",
      "12354/12354 [==============================] - 3s 243us/step - loss: -17.1887 - acc: 0.4760 - val_loss: -16.2646 - val_acc: 0.4893\n",
      "Epoch 15/100\n",
      "12354/12354 [==============================] - 3s 248us/step - loss: -17.1895 - acc: 0.4760 - val_loss: -16.2583 - val_acc: 0.4886\n",
      "Epoch 16/100\n",
      "12354/12354 [==============================] - 4s 321us/step - loss: -17.1880 - acc: 0.4759 - val_loss: -16.2643 - val_acc: 0.4888\n",
      "Epoch 17/100\n",
      "12354/12354 [==============================] - 4s 291us/step - loss: -17.1908 - acc: 0.4761 - val_loss: -16.2608 - val_acc: 0.4901\n",
      "Epoch 18/100\n",
      "12354/12354 [==============================] - 3s 261us/step - loss: -17.1926 - acc: 0.4766 - val_loss: -16.2595 - val_acc: 0.4897\n",
      "Epoch 19/100\n",
      "12354/12354 [==============================] - 3s 245us/step - loss: -17.1927 - acc: 0.4764 - val_loss: -16.2560 - val_acc: 0.4899\n",
      "Epoch 20/100\n",
      "12354/12354 [==============================] - 3s 262us/step - loss: -17.1953 - acc: 0.4768 - val_loss: -16.2491 - val_acc: 0.4895\n",
      "Epoch 21/100\n",
      "12354/12354 [==============================] - 4s 287us/step - loss: -17.1963 - acc: 0.4767 - val_loss: -16.2415 - val_acc: 0.4890\n",
      "Epoch 22/100\n",
      "12354/12354 [==============================] - 3s 248us/step - loss: -17.1981 - acc: 0.4768 - val_loss: -16.2422 - val_acc: 0.4893\n",
      "Epoch 23/100\n",
      "12354/12354 [==============================] - 3s 246us/step - loss: -17.1983 - acc: 0.4768 - val_loss: -16.2334 - val_acc: 0.4890\n",
      "Epoch 24/100\n",
      "12354/12354 [==============================] - 3s 247us/step - loss: -17.1961 - acc: 0.4768 - val_loss: -16.2423 - val_acc: 0.4891\n",
      "Epoch 25/100\n",
      "12354/12354 [==============================] - 3s 280us/step - loss: -17.1984 - acc: 0.4768 - val_loss: -16.2280 - val_acc: 0.4873\n",
      "Epoch 26/100\n",
      "12354/12354 [==============================] - 3s 283us/step - loss: -17.1962 - acc: 0.4765 - val_loss: -16.2488 - val_acc: 0.4888\n",
      "Epoch 27/100\n",
      "12354/12354 [==============================] - 3s 264us/step - loss: -17.1989 - acc: 0.4769 - val_loss: -16.2360 - val_acc: 0.4895\n",
      "Epoch 28/100\n",
      "12354/12354 [==============================] - 3s 257us/step - loss: -17.2003 - acc: 0.4769 - val_loss: -16.2461 - val_acc: 0.4888\n",
      "Epoch 29/100\n",
      "12354/12354 [==============================] - 3s 248us/step - loss: -17.2032 - acc: 0.4774 - val_loss: -16.2498 - val_acc: 0.4891\n",
      "Epoch 30/100\n",
      "12354/12354 [==============================] - 3s 268us/step - loss: -17.2035 - acc: 0.4774 - val_loss: -16.2456 - val_acc: 0.4888\n",
      "Epoch 31/100\n",
      "12354/12354 [==============================] - 4s 284us/step - loss: -17.2008 - acc: 0.4773 - val_loss: -16.2379 - val_acc: 0.4890\n",
      "Epoch 32/100\n",
      "12354/12354 [==============================] - 3s 250us/step - loss: -17.2000 - acc: 0.4772 - val_loss: -16.2498 - val_acc: 0.4895\n",
      "Epoch 33/100\n",
      "12354/12354 [==============================] - 3s 246us/step - loss: -17.1869 - acc: 0.4764 - val_loss: -16.2397 - val_acc: 0.4897\n",
      "Epoch 34/100\n",
      "12354/12354 [==============================] - 3s 247us/step - loss: -17.2001 - acc: 0.4772 - val_loss: -16.2413 - val_acc: 0.4880\n",
      "Epoch 35/100\n",
      "12354/12354 [==============================] - 3s 281us/step - loss: -17.2001 - acc: 0.4773 - val_loss: -16.2329 - val_acc: 0.4899\n",
      "Epoch 36/100\n",
      "12354/12354 [==============================] - 4s 299us/step - loss: -17.2002 - acc: 0.4773 - val_loss: -16.2325 - val_acc: 0.4882\n",
      "Epoch 37/100\n",
      "12354/12354 [==============================] - 3s 231us/step - loss: -17.2012 - acc: 0.4774 - val_loss: -16.2277 - val_acc: 0.4884\n",
      "Epoch 38/100\n",
      "12354/12354 [==============================] - 3s 229us/step - loss: -17.2013 - acc: 0.4774 - val_loss: -16.2195 - val_acc: 0.4890\n",
      "Epoch 39/100\n",
      "12354/12354 [==============================] - 3s 229us/step - loss: -17.1987 - acc: 0.4770 - val_loss: -16.2361 - val_acc: 0.4876\n",
      "Epoch 40/100\n",
      "12354/12354 [==============================] - 3s 240us/step - loss: -17.2006 - acc: 0.4772 - val_loss: -16.2343 - val_acc: 0.4891\n",
      "Epoch 41/100\n",
      "12354/12354 [==============================] - 3s 277us/step - loss: -17.2012 - acc: 0.4773 - val_loss: -16.2375 - val_acc: 0.4890\n",
      "Epoch 42/100\n",
      "12354/12354 [==============================] - 3s 228us/step - loss: -17.2014 - acc: 0.4774 - val_loss: -16.2378 - val_acc: 0.4890\n",
      "Epoch 43/100\n",
      "12354/12354 [==============================] - 3s 229us/step - loss: -17.2014 - acc: 0.4774 - val_loss: -16.2385 - val_acc: 0.4890\n",
      "Epoch 44/100\n",
      "12354/12354 [==============================] - 3s 228us/step - loss: -17.1987 - acc: 0.4770 - val_loss: -16.2032 - val_acc: 0.4893\n",
      "Epoch 45/100\n",
      "12354/12354 [==============================] - 3s 231us/step - loss: -17.2053 - acc: 0.4772 - val_loss: -16.1876 - val_acc: 0.4888\n",
      "Epoch 46/100\n",
      "12354/12354 [==============================] - 3s 276us/step - loss: -17.1996 - acc: 0.4773 - val_loss: -16.1922 - val_acc: 0.4884\n",
      "Epoch 47/100\n",
      "12354/12354 [==============================] - 3s 241us/step - loss: -17.2057 - acc: 0.4776 - val_loss: -16.1814 - val_acc: 0.4886\n",
      "Epoch 48/100\n",
      "12354/12354 [==============================] - 3s 230us/step - loss: -17.2091 - acc: 0.4778 - val_loss: -16.1846 - val_acc: 0.4886\n",
      "Epoch 49/100\n",
      "12354/12354 [==============================] - 3s 229us/step - loss: -17.2079 - acc: 0.4778 - val_loss: -16.1815 - val_acc: 0.4886\n",
      "Epoch 50/100\n",
      "12354/12354 [==============================] - 3s 232us/step - loss: -17.2070 - acc: 0.4777 - val_loss: -16.1766 - val_acc: 0.4888\n",
      "Epoch 51/100\n",
      "12354/12354 [==============================] - 3s 268us/step - loss: -17.2078 - acc: 0.4778 - val_loss: -16.1752 - val_acc: 0.4888\n",
      "Epoch 52/100\n",
      "12354/12354 [==============================] - 3s 262us/step - loss: -17.2071 - acc: 0.4776 - val_loss: -16.1938 - val_acc: 0.4893\n",
      "Epoch 53/100\n",
      "12354/12354 [==============================] - 3s 236us/step - loss: -17.2065 - acc: 0.4775 - val_loss: -16.1714 - val_acc: 0.4888\n",
      "Epoch 54/100\n",
      "12354/12354 [==============================] - 3s 235us/step - loss: -17.2076 - acc: 0.4777 - val_loss: -16.1736 - val_acc: 0.4890\n",
      "Epoch 55/100\n",
      "12354/12354 [==============================] - 3s 233us/step - loss: -17.2080 - acc: 0.4778 - val_loss: -16.1727 - val_acc: 0.4888\n",
      "Epoch 56/100\n",
      "12354/12354 [==============================] - 4s 285us/step - loss: -17.2075 - acc: 0.4777 - val_loss: -16.1618 - val_acc: 0.4891\n",
      "Epoch 57/100\n"
     ]
    },
    {
     "name": "stdout",
     "output_type": "stream",
     "text": [
      "12354/12354 [==============================] - 3s 258us/step - loss: -17.2076 - acc: 0.4777 - val_loss: -16.1729 - val_acc: 0.4886\n",
      "Epoch 58/100\n",
      "12354/12354 [==============================] - 3s 225us/step - loss: -17.2080 - acc: 0.4778 - val_loss: -16.1715 - val_acc: 0.4886\n",
      "Epoch 59/100\n",
      "12354/12354 [==============================] - 3s 225us/step - loss: -17.2079 - acc: 0.4778 - val_loss: -16.1702 - val_acc: 0.4888\n",
      "Epoch 60/100\n",
      "12354/12354 [==============================] - 3s 225us/step - loss: -17.2081 - acc: 0.4778 - val_loss: -16.1673 - val_acc: 0.4890\n",
      "Epoch 61/100\n",
      "12354/12354 [==============================] - 3s 224us/step - loss: -17.2077 - acc: 0.4778 - val_loss: -16.1795 - val_acc: 0.4891\n",
      "Epoch 62/100\n",
      "12354/12354 [==============================] - 3s 269us/step - loss: -17.2044 - acc: 0.4773 - val_loss: -16.1607 - val_acc: 0.4886\n",
      "Epoch 63/100\n",
      "12354/12354 [==============================] - 3s 237us/step - loss: -17.2092 - acc: 0.4779 - val_loss: -16.1710 - val_acc: 0.4890\n",
      "Epoch 64/100\n",
      "12354/12354 [==============================] - 3s 225us/step - loss: -17.2092 - acc: 0.4779 - val_loss: -16.1677 - val_acc: 0.4890\n",
      "Epoch 65/100\n",
      "12354/12354 [==============================] - 3s 228us/step - loss: -17.2091 - acc: 0.4779 - val_loss: -16.1636 - val_acc: 0.4888\n",
      "Epoch 66/100\n",
      "12354/12354 [==============================] - 3s 226us/step - loss: -17.2090 - acc: 0.4777 - val_loss: -16.1591 - val_acc: 0.4893\n",
      "Epoch 67/100\n",
      "12354/12354 [==============================] - 3s 245us/step - loss: -17.2071 - acc: 0.4777 - val_loss: -16.1754 - val_acc: 0.4891\n",
      "Epoch 68/100\n",
      "12354/12354 [==============================] - 3s 258us/step - loss: -17.2084 - acc: 0.4777 - val_loss: -16.1641 - val_acc: 0.4897\n",
      "Epoch 69/100\n",
      "12354/12354 [==============================] - 3s 228us/step - loss: -17.1870 - acc: 0.4773 - val_loss: -16.1443 - val_acc: 0.4876\n",
      "Epoch 70/100\n",
      "12354/12354 [==============================] - 3s 226us/step - loss: -17.2005 - acc: 0.4773 - val_loss: -16.1467 - val_acc: 0.4882\n",
      "Epoch 71/100\n",
      "12354/12354 [==============================] - 3s 226us/step - loss: -17.2005 - acc: 0.4777 - val_loss: -16.1599 - val_acc: 0.4891\n",
      "Epoch 72/100\n",
      "12354/12354 [==============================] - 3s 226us/step - loss: -17.2118 - acc: 0.4781 - val_loss: -16.1594 - val_acc: 0.4891\n",
      "Epoch 73/100\n",
      "12354/12354 [==============================] - 3s 274us/step - loss: -17.2113 - acc: 0.4780 - val_loss: -16.1582 - val_acc: 0.4891\n",
      "Epoch 74/100\n",
      "12354/12354 [==============================] - 3s 237us/step - loss: -17.2117 - acc: 0.4781 - val_loss: -16.1581 - val_acc: 0.4891\n",
      "Epoch 75/100\n",
      "12354/12354 [==============================] - 3s 228us/step - loss: -17.2117 - acc: 0.4781 - val_loss: -16.1573 - val_acc: 0.4891\n",
      "Epoch 76/100\n",
      "12354/12354 [==============================] - 3s 239us/step - loss: -17.2119 - acc: 0.4781 - val_loss: -16.1561 - val_acc: 0.4893\n",
      "Epoch 77/100\n",
      "12354/12354 [==============================] - 3s 240us/step - loss: -17.2118 - acc: 0.4781 - val_loss: -16.1504 - val_acc: 0.4882\n",
      "Epoch 78/100\n",
      "12354/12354 [==============================] - 3s 263us/step - loss: -17.2093 - acc: 0.4779 - val_loss: -16.1509 - val_acc: 0.4891\n",
      "Epoch 79/100\n",
      "12354/12354 [==============================] - 3s 253us/step - loss: -17.2119 - acc: 0.4779 - val_loss: -16.1623 - val_acc: 0.4888\n",
      "Epoch 80/100\n",
      "12354/12354 [==============================] - 3s 229us/step - loss: -17.2147 - acc: 0.4781 - val_loss: -16.1640 - val_acc: 0.4895\n",
      "Epoch 81/100\n",
      "12354/12354 [==============================] - 3s 230us/step - loss: -17.2152 - acc: 0.4781 - val_loss: -16.1588 - val_acc: 0.4895\n",
      "Epoch 82/100\n",
      "12354/12354 [==============================] - 3s 228us/step - loss: -17.2157 - acc: 0.4783 - val_loss: -16.1576 - val_acc: 0.4895\n",
      "Epoch 83/100\n",
      "12354/12354 [==============================] - 3s 227us/step - loss: -17.2158 - acc: 0.4783 - val_loss: -16.1576 - val_acc: 0.4895\n",
      "Epoch 84/100\n",
      "12354/12354 [==============================] - 4s 286us/step - loss: -17.2156 - acc: 0.4783 - val_loss: -16.1565 - val_acc: 0.4893\n",
      "Epoch 85/100\n",
      "12354/12354 [==============================] - 3s 232us/step - loss: -17.2157 - acc: 0.4783 - val_loss: -16.1549 - val_acc: 0.4893\n",
      "Epoch 86/100\n",
      "12354/12354 [==============================] - 3s 228us/step - loss: -17.2157 - acc: 0.4783 - val_loss: -16.1518 - val_acc: 0.4893\n",
      "Epoch 87/100\n",
      "12354/12354 [==============================] - 3s 235us/step - loss: -17.2158 - acc: 0.4783 - val_loss: -16.1513 - val_acc: 0.4893\n",
      "Epoch 88/100\n",
      "12354/12354 [==============================] - 3s 229us/step - loss: -17.2159 - acc: 0.4783 - val_loss: -16.1471 - val_acc: 0.4891\n",
      "Epoch 89/100\n",
      "12354/12354 [==============================] - 3s 275us/step - loss: -17.2158 - acc: 0.4783 - val_loss: -16.1599 - val_acc: 0.4891\n",
      "Epoch 90/100\n",
      "12354/12354 [==============================] - 3s 246us/step - loss: -17.2158 - acc: 0.4783 - val_loss: -16.1432 - val_acc: 0.4893\n",
      "Epoch 91/100\n",
      "12354/12354 [==============================] - 3s 231us/step - loss: -17.2159 - acc: 0.4783 - val_loss: -16.1423 - val_acc: 0.4893\n",
      "Epoch 92/100\n",
      "12354/12354 [==============================] - 3s 229us/step - loss: -17.2159 - acc: 0.4783 - val_loss: -16.1384 - val_acc: 0.4893\n",
      "Epoch 93/100\n",
      "12354/12354 [==============================] - 3s 247us/step - loss: -17.2158 - acc: 0.4783 - val_loss: -16.1373 - val_acc: 0.4893\n",
      "Epoch 94/100\n",
      "12354/12354 [==============================] - 4s 291us/step - loss: -17.2162 - acc: 0.4783 - val_loss: -16.1389 - val_acc: 0.4897\n",
      "Epoch 95/100\n",
      "12354/12354 [==============================] - 4s 296us/step - loss: -17.2158 - acc: 0.4783 - val_loss: -16.1370 - val_acc: 0.4895\n",
      "Epoch 96/100\n",
      "12354/12354 [==============================] - 3s 278us/step - loss: -17.2158 - acc: 0.4783 - val_loss: -16.1328 - val_acc: 0.4903\n",
      "Epoch 97/100\n",
      "12354/12354 [==============================] - 3s 252us/step - loss: -17.2159 - acc: 0.4783 - val_loss: -16.1262 - val_acc: 0.4903\n",
      "Epoch 98/100\n",
      "12354/12354 [==============================] - 3s 256us/step - loss: -17.2159 - acc: 0.4782 - val_loss: -16.1270 - val_acc: 0.4897\n",
      "Epoch 99/100\n",
      "12354/12354 [==============================] - 4s 322us/step - loss: -17.2159 - acc: 0.4783 - val_loss: -16.1146 - val_acc: 0.4895\n",
      "Epoch 100/100\n",
      "12354/12354 [==============================] - 3s 270us/step - loss: -17.2159 - acc: 0.4783 - val_loss: -16.1112 - val_acc: 0.4891\n"
     ]
    },
    {
     "data": {
      "text/plain": [
       "<keras.callbacks.History at 0x15e0c2a54e0>"
      ]
     },
     "execution_count": 41,
     "metadata": {},
     "output_type": "execute_result"
    }
   ],
   "source": [
    "model.fit(X_tr_tfidf, y_tr, batch_size=32, epochs=100, verbose=1, validation_data=(X_te_tfidf, y_te))"
   ]
  },
  {
   "cell_type": "code",
   "execution_count": 42,
   "metadata": {},
   "outputs": [
    {
     "name": "stdout",
     "output_type": "stream",
     "text": [
      "5295/5295 [==============================] - 1s 116us/step\n"
     ]
    }
   ],
   "source": [
    "score = model.evaluate(X_te_tfidf, y_te, batch_size=32)"
   ]
  },
  {
   "cell_type": "code",
   "execution_count": 43,
   "metadata": {},
   "outputs": [],
   "source": [
    "y_pred = model.predict(X_te_tfidf, batch_size=32)"
   ]
  },
  {
   "cell_type": "markdown",
   "metadata": {},
   "source": [
    "### Convert predictions to text labels and join with the main dataframe to see where the errors occurred "
   ]
  },
  {
   "cell_type": "code",
   "execution_count": 44,
   "metadata": {},
   "outputs": [],
   "source": [
    "y_pred_classes = []\n",
    "for i in y_pred:\n",
    "    if i >= .5:\n",
    "        y_pred_classes.append(1)\n",
    "    else:\n",
    "        y_pred_classes.append(0)"
   ]
  },
  {
   "cell_type": "code",
   "execution_count": 45,
   "metadata": {},
   "outputs": [],
   "source": [
    "real_v_pred = pd.concat([y_te.reset_index(), pd.Series(y_pred_classes)], axis=1, join='inner', ignore_index=True).reset_index(drop=True).set_index([1])"
   ]
  },
  {
   "cell_type": "code",
   "execution_count": 46,
   "metadata": {},
   "outputs": [],
   "source": [
    "real_v_pred.reset_index(inplace=True)\n",
    "real_v_pred.columns = ['test', 'index', 'pred']"
   ]
  },
  {
   "cell_type": "code",
   "execution_count": 47,
   "metadata": {},
   "outputs": [],
   "source": [
    "errors = real_v_pred[real_v_pred.test != real_v_pred.pred]\n",
    "errors.set_index(keys='index', inplace=True)"
   ]
  },
  {
   "cell_type": "code",
   "execution_count": 48,
   "metadata": {},
   "outputs": [],
   "source": [
    "df_errors = df.join(errors, how='inner')"
   ]
  },
  {
   "cell_type": "code",
   "execution_count": 49,
   "metadata": {},
   "outputs": [],
   "source": [
    "df_errors.to_csv('df_errors.csv')"
   ]
  },
  {
   "cell_type": "markdown",
   "metadata": {},
   "source": [
    "### Create a deep learning model with keras and compare to the random forest"
   ]
  },
  {
   "cell_type": "code",
   "execution_count": 50,
   "metadata": {},
   "outputs": [
    {
     "ename": "ValueError",
     "evalue": "multiclass format is not supported",
     "output_type": "error",
     "traceback": [
      "\u001b[1;31m---------------------------------------------------------------------------\u001b[0m",
      "\u001b[1;31mValueError\u001b[0m                                Traceback (most recent call last)",
      "\u001b[1;32m<ipython-input-50-7d8e71f6c2cd>\u001b[0m in \u001b[0;36m<module>\u001b[1;34m()\u001b[0m\n\u001b[0;32m      1\u001b[0m \u001b[1;32mfrom\u001b[0m \u001b[0msklearn\u001b[0m\u001b[1;33m.\u001b[0m\u001b[0mmetrics\u001b[0m \u001b[1;32mimport\u001b[0m \u001b[0mroc_curve\u001b[0m\u001b[1;33m\u001b[0m\u001b[0m\n\u001b[0;32m      2\u001b[0m \u001b[0my_pred_keras\u001b[0m \u001b[1;33m=\u001b[0m \u001b[0mmodel\u001b[0m\u001b[1;33m.\u001b[0m\u001b[0mpredict\u001b[0m\u001b[1;33m(\u001b[0m\u001b[0mX_te_tfidf\u001b[0m\u001b[1;33m)\u001b[0m\u001b[1;33m.\u001b[0m\u001b[0mravel\u001b[0m\u001b[1;33m(\u001b[0m\u001b[1;33m)\u001b[0m\u001b[1;33m\u001b[0m\u001b[0m\n\u001b[1;32m----> 3\u001b[1;33m \u001b[0mfpr_keras\u001b[0m\u001b[1;33m,\u001b[0m \u001b[0mtpr_keras\u001b[0m\u001b[1;33m,\u001b[0m \u001b[0mthresholds_keras\u001b[0m \u001b[1;33m=\u001b[0m \u001b[0mroc_curve\u001b[0m\u001b[1;33m(\u001b[0m\u001b[0my_te\u001b[0m\u001b[1;33m,\u001b[0m \u001b[0my_pred_keras\u001b[0m\u001b[1;33m)\u001b[0m\u001b[1;33m\u001b[0m\u001b[0m\n\u001b[0m",
      "\u001b[1;32m~\\AppData\\Local\\Continuum\\anaconda3\\lib\\site-packages\\sklearn\\metrics\\ranking.py\u001b[0m in \u001b[0;36mroc_curve\u001b[1;34m(y_true, y_score, pos_label, sample_weight, drop_intermediate)\u001b[0m\n\u001b[0;32m    532\u001b[0m     \"\"\"\n\u001b[0;32m    533\u001b[0m     fps, tps, thresholds = _binary_clf_curve(\n\u001b[1;32m--> 534\u001b[1;33m         y_true, y_score, pos_label=pos_label, sample_weight=sample_weight)\n\u001b[0m\u001b[0;32m    535\u001b[0m \u001b[1;33m\u001b[0m\u001b[0m\n\u001b[0;32m    536\u001b[0m     \u001b[1;31m# Attempt to drop thresholds corresponding to points in between and\u001b[0m\u001b[1;33m\u001b[0m\u001b[1;33m\u001b[0m\u001b[0m\n",
      "\u001b[1;32m~\\AppData\\Local\\Continuum\\anaconda3\\lib\\site-packages\\sklearn\\metrics\\ranking.py\u001b[0m in \u001b[0;36m_binary_clf_curve\u001b[1;34m(y_true, y_score, pos_label, sample_weight)\u001b[0m\n\u001b[0;32m    316\u001b[0m     if not (y_type == \"binary\" or\n\u001b[0;32m    317\u001b[0m             (y_type == \"multiclass\" and pos_label is not None)):\n\u001b[1;32m--> 318\u001b[1;33m         \u001b[1;32mraise\u001b[0m \u001b[0mValueError\u001b[0m\u001b[1;33m(\u001b[0m\u001b[1;34m\"{0} format is not supported\"\u001b[0m\u001b[1;33m.\u001b[0m\u001b[0mformat\u001b[0m\u001b[1;33m(\u001b[0m\u001b[0my_type\u001b[0m\u001b[1;33m)\u001b[0m\u001b[1;33m)\u001b[0m\u001b[1;33m\u001b[0m\u001b[0m\n\u001b[0m\u001b[0;32m    319\u001b[0m \u001b[1;33m\u001b[0m\u001b[0m\n\u001b[0;32m    320\u001b[0m     \u001b[0mcheck_consistent_length\u001b[0m\u001b[1;33m(\u001b[0m\u001b[0my_true\u001b[0m\u001b[1;33m,\u001b[0m \u001b[0my_score\u001b[0m\u001b[1;33m,\u001b[0m \u001b[0msample_weight\u001b[0m\u001b[1;33m)\u001b[0m\u001b[1;33m\u001b[0m\u001b[0m\n",
      "\u001b[1;31mValueError\u001b[0m: multiclass format is not supported"
     ]
    }
   ],
   "source": [
    "from sklearn.metrics import roc_curve\n",
    "y_pred_keras = model.predict(X_te_tfidf).ravel()\n",
    "fpr_keras, tpr_keras, thresholds_keras = roc_curve(y_te, y_pred_keras)"
   ]
  },
  {
   "cell_type": "code",
   "execution_count": null,
   "metadata": {},
   "outputs": [],
   "source": [
    "y_pred_keras = model.predict(X_te_tfidf, batch_size=32).ravel()"
   ]
  },
  {
   "cell_type": "code",
   "execution_count": null,
   "metadata": {},
   "outputs": [],
   "source": [
    "fpr_keras, tpr_keras, thresholds_keras = roc_curve(y_te, y_pred_keras)"
   ]
  },
  {
   "cell_type": "code",
   "execution_count": null,
   "metadata": {},
   "outputs": [],
   "source": [
    "from sklearn.metrics import auc\n",
    "auc_keras = auc(fpr_keras, tpr_keras)"
   ]
  },
  {
   "cell_type": "code",
   "execution_count": null,
   "metadata": {},
   "outputs": [],
   "source": [
    "y_pred_rf = rf.predict_proba(X_te_tfidf)[:, 1]\n",
    "fpr_rf, tpr_rf, thresholds_rf = roc_curve(y_te, y_pred_rf)\n",
    "auc_rf = auc(fpr_rf, tpr_rf)"
   ]
  },
  {
   "cell_type": "code",
   "execution_count": null,
   "metadata": {},
   "outputs": [],
   "source": [
    "plt.figure(1)\n",
    "plt.plot([0, 1], [0, 1], 'k--')\n",
    "plt.plot(fpr_keras, tpr_keras, label='Keras (area = {:.3f})'.format(auc_keras))\n",
    "plt.plot(fpr_rf, tpr_rf, label='RF (area = {:.3f})'.format(auc_rf))\n",
    "plt.xlabel('False positive rate')\n",
    "plt.ylabel('True positive rate')\n",
    "plt.title('ROC curve')\n",
    "plt.legend(loc='best')\n",
    "plt.show()\n",
    "# Zoom in view of the upper left corner.\n",
    "plt.figure(2)\n",
    "plt.xlim(0, 0.2)\n",
    "plt.ylim(0.98, 1)\n",
    "plt.plot([0, 1], [0, 1], 'k--')\n",
    "plt.plot(fpr_keras, tpr_keras, label='Keras (area = {:.3f})'.format(auc_keras))\n",
    "plt.plot(fpr_rf, tpr_rf, label='RF (area = {:.3f})'.format(auc_rf))\n",
    "plt.xlabel('False positive rate')\n",
    "plt.ylabel('True positive rate')\n",
    "plt.title('ROC curve (zoomed in at top left)')\n",
    "plt.legend(loc='best')\n",
    "plt.show()"
   ]
  }
 ],
 "metadata": {
  "kernelspec": {
   "display_name": "Python 3",
   "language": "python",
   "name": "python3"
  },
  "language_info": {
   "codemirror_mode": {
    "name": "ipython",
    "version": 3
   },
   "file_extension": ".py",
   "mimetype": "text/x-python",
   "name": "python",
   "nbconvert_exporter": "python",
   "pygments_lexer": "ipython3",
   "version": "3.6.4"
  }
 },
 "nbformat": 4,
 "nbformat_minor": 1
}
