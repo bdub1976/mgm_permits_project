{
 "cells": [
  {
   "cell_type": "code",
   "execution_count": 1,
   "metadata": {},
   "outputs": [],
   "source": [
    "import numpy as np\n",
    "import pandas as pd\n",
    "import matplotlib.pyplot as plt\n",
    "%matplotlib inline\n",
    "import seaborn as sns\n",
    "from sklearn.feature_extraction import text\n",
    "from sklearn.ensemble import RandomForestClassifier\n",
    "from sklearn.model_selection import train_test_split\n",
    "from sklearn.metrics import accuracy_score\n",
    "from sklearn.model_selection import cross_val_score\n",
    "from scipy import interp\n",
    "from sklearn.metrics import roc_curve, auc\n",
    "from sklearn.preprocessing import label_binarize\n",
    "\n",
    "seed = 42\n",
    "np.random.seed(seed)"
   ]
  },
  {
   "cell_type": "markdown",
   "metadata": {},
   "source": [
    "### Set plotting defaults"
   ]
  },
  {
   "cell_type": "code",
   "execution_count": 2,
   "metadata": {},
   "outputs": [],
   "source": [
    "plt.style.use('seaborn-colorblind')\n",
    "plt.rcParams['figure.figsize'] = (12, 8)\n",
    "plt.rcParams['font.size'] = 12\n",
    "plt.rcParams['axes.labelsize'] = 14\n",
    "plt.rcParams['xtick.labelsize'] = 12\n",
    "plt.rcParams['ytick.labelsize'] = 12\n",
    "plt.rcParams['axes.titlesize'] = 16\n",
    "plt.rcParams['axes.titleweight'] = 'bold'\n",
    "\n",
    "sns.set_style(\"whitegrid\", rc={\"figure.figsize\": (12, 8)})\n",
    "sns.set_palette(\"colorblind\")\n",
    "\n",
    "# Where to save the figures\n",
    "PROJECT_ROOT_DIR = \".\"\n",
    "IMAGE_FLDR = \"eda\"\n",
    "\n",
    "def save_fig(fig_id, tight_layout=True):\n",
    "    path = os.path.join(PROJECT_ROOT_DIR, \"images\", IMAGE_FLDR, fig_id + \".png\")\n",
    "    print(\"Saving figure\", fig_id)\n",
    "    if tight_layout:\n",
    "        plt.tight_layout()\n",
    "    plt.savefig(path, format='png', dpi=300)"
   ]
  },
  {
   "cell_type": "markdown",
   "metadata": {},
   "source": [
    "### Load the data"
   ]
  },
  {
   "cell_type": "code",
   "execution_count": 3,
   "metadata": {},
   "outputs": [],
   "source": [
    "#open the locally saved csv\n",
    "df = pd.read_csv('C:/Users/595217/general-assembly/project-final/data/mgm.csv', usecols=['description', 'jobtype', 'usetype'])"
   ]
  },
  {
   "cell_type": "code",
   "execution_count": 4,
   "metadata": {},
   "outputs": [
    {
     "name": "stdout",
     "output_type": "stream",
     "text": [
      "<class 'pandas.core.frame.DataFrame'>\n",
      "RangeIndex: 18000 entries, 0 to 17999\n",
      "Data columns (total 3 columns):\n",
      "description    18000 non-null object\n",
      "jobtype        18000 non-null object\n",
      "usetype        18000 non-null object\n",
      "dtypes: object(3)\n",
      "memory usage: 422.0+ KB\n"
     ]
    }
   ],
   "source": [
    "df.info()"
   ]
  },
  {
   "cell_type": "markdown",
   "metadata": {},
   "source": [
    "### Create the features and target variables"
   ]
  },
  {
   "cell_type": "code",
   "execution_count": 5,
   "metadata": {},
   "outputs": [],
   "source": [
    "df = df[df.usetype != 'Mixed Occupancy']"
   ]
  },
  {
   "cell_type": "code",
   "execution_count": 6,
   "metadata": {},
   "outputs": [],
   "source": [
    "X = df['description']\n",
    "y = df['usetype']\n",
    "z = df['jobtype']"
   ]
  },
  {
   "cell_type": "code",
   "execution_count": 7,
   "metadata": {},
   "outputs": [],
   "source": [
    "y = y.map({'Commercial': 0, 'Residential': 1})\n",
    "z = z.map({'New': 0, 'Existing': 1, 'Alteration': 2, 'Repair': 3, 'Other': 4, 'Addition': 5})"
   ]
  },
  {
   "cell_type": "code",
   "execution_count": 8,
   "metadata": {
    "scrolled": true
   },
   "outputs": [
    {
     "data": {
      "text/plain": [
       "(1    10651\n",
       " 0     7329\n",
       " Name: usetype, dtype: int64, 0    4906\n",
       " 1    4137\n",
       " 2    3127\n",
       " 3    2386\n",
       " 4    2275\n",
       " 5    1149\n",
       " Name: jobtype, dtype: int64)"
      ]
     },
     "execution_count": 8,
     "metadata": {},
     "output_type": "execute_result"
    }
   ],
   "source": [
    "y.value_counts(), z.value_counts()"
   ]
  },
  {
   "cell_type": "code",
   "execution_count": 9,
   "metadata": {},
   "outputs": [],
   "source": [
    "# y_bin = label_binarize(y, classes=[0,1,2])\n",
    "# n_y_bin_classes = y_bin.shape[1]\n",
    "z_bin = label_binarize(z, classes=[0,1,2,3,4,5])\n",
    "n_z_bin_classes = z_bin.shape[1]"
   ]
  },
  {
   "cell_type": "code",
   "execution_count": 10,
   "metadata": {},
   "outputs": [],
   "source": [
    "X_tr, X_te, y_tr, y_te, = train_test_split(X, y, test_size=0.20, random_state=42)"
   ]
  },
  {
   "cell_type": "code",
   "execution_count": 11,
   "metadata": {},
   "outputs": [
    {
     "data": {
      "text/plain": [
       "92461"
      ]
     },
     "execution_count": 11,
     "metadata": {},
     "output_type": "execute_result"
    }
   ],
   "source": [
    "# create the BOW representation\n",
    "bow_transform = text.CountVectorizer(min_df=0, \n",
    "                                     stop_words=\"english\", \n",
    "                                     ngram_range=(1, 3))\n",
    "X_tr_bow = bow_transform.fit_transform(X_tr)\n",
    "X_te_bow = bow_transform.transform(X_te)\n",
    "\n",
    "matrix_len = len(bow_transform.vocabulary_)\n",
    "matrix_len"
   ]
  },
  {
   "cell_type": "code",
   "execution_count": 12,
   "metadata": {},
   "outputs": [
    {
     "data": {
      "text/plain": [
       "(3596, 92461)"
      ]
     },
     "execution_count": 12,
     "metadata": {},
     "output_type": "execute_result"
    }
   ],
   "source": [
    "#create tf-idf representation using the bow matrix\n",
    "tfidf_trfm = text.TfidfTransformer(norm=None)\n",
    "X_tr_tfidf = tfidf_trfm.fit_transform(X_tr_bow)\n",
    "X_te_tfidf = tfidf_trfm.transform(X_te_bow)\n",
    "X_te_tfidf.shape"
   ]
  },
  {
   "cell_type": "markdown",
   "metadata": {},
   "source": [
    "### Instantiate a random forest classifier, run on the target variables and score the model"
   ]
  },
  {
   "cell_type": "code",
   "execution_count": 13,
   "metadata": {},
   "outputs": [],
   "source": [
    "#instantiate the classifier\n",
    "rf = RandomForestClassifier()"
   ]
  },
  {
   "cell_type": "code",
   "execution_count": 14,
   "metadata": {},
   "outputs": [
    {
     "data": {
      "text/plain": [
       "RandomForestClassifier(bootstrap=True, class_weight=None, criterion='gini',\n",
       "            max_depth=None, max_features='auto', max_leaf_nodes=None,\n",
       "            min_impurity_decrease=0.0, min_impurity_split=None,\n",
       "            min_samples_leaf=1, min_samples_split=2,\n",
       "            min_weight_fraction_leaf=0.0, n_estimators=10, n_jobs=1,\n",
       "            oob_score=False, random_state=None, verbose=0,\n",
       "            warm_start=False)"
      ]
     },
     "execution_count": 14,
     "metadata": {},
     "output_type": "execute_result"
    }
   ],
   "source": [
    "rf.fit(X_tr_tfidf, y_tr)"
   ]
  },
  {
   "cell_type": "code",
   "execution_count": 15,
   "metadata": {},
   "outputs": [
    {
     "name": "stdout",
     "output_type": "stream",
     "text": [
      "RandomForestClassifier 0.9961067853170189\n"
     ]
    }
   ],
   "source": [
    "y_pred = rf.predict(X_te_tfidf)\n",
    "print(rf.__class__.__name__, accuracy_score(y_te, y_pred))"
   ]
  },
  {
   "cell_type": "code",
   "execution_count": 16,
   "metadata": {},
   "outputs": [],
   "source": [
    "def display_scores(scores):\n",
    "    print(\"Scores:\", scores)\n",
    "    print(\"Mean:\", scores.mean())\n",
    "    print(\"StDev:\", scores.std())"
   ]
  },
  {
   "cell_type": "code",
   "execution_count": 17,
   "metadata": {},
   "outputs": [],
   "source": [
    "y_tr_tfidf_scores = cross_val_score(rf, X_tr_tfidf, y_tr, cv=10, scoring=\"accuracy\")"
   ]
  },
  {
   "cell_type": "code",
   "execution_count": 18,
   "metadata": {},
   "outputs": [
    {
     "name": "stdout",
     "output_type": "stream",
     "text": [
      "Scores: [0.99513551 0.99166088 0.99374566 0.99374566 0.98748261 0.9930459\n",
      " 0.99165508 0.99095967 0.99443672 0.99374131]\n",
      "Mean: 0.9925608979346461\n",
      "StDev: 0.0021110822845105516\n"
     ]
    }
   ],
   "source": [
    "display_scores(y_tr_tfidf_scores)"
   ]
  },
  {
   "cell_type": "code",
   "execution_count": 19,
   "metadata": {},
   "outputs": [],
   "source": [
    "y_te_tfidf_scores = cross_val_score(rf, X_te_tfidf, y_te, cv=10, scoring=\"accuracy\")"
   ]
  },
  {
   "cell_type": "code",
   "execution_count": 20,
   "metadata": {},
   "outputs": [
    {
     "name": "stdout",
     "output_type": "stream",
     "text": [
      "Scores: [0.98333333 0.97777778 0.98888889 0.975      0.98611111 0.97777778\n",
      " 0.975      0.98607242 0.97214485 0.9972067 ]\n",
      "Mean: 0.981931286299449\n",
      "StDev: 0.007380348423699696\n"
     ]
    }
   ],
   "source": [
    "display_scores(y_te_tfidf_scores)"
   ]
  },
  {
   "cell_type": "code",
   "execution_count": 21,
   "metadata": {},
   "outputs": [
    {
     "data": {
      "image/png": "[encoded data removed]",
      "text/plain": [
       "<matplotlib.figure.Figure at 0x19ee5241828>"
      ]
     },
     "metadata": {},
     "output_type": "display_data"
    }
   ],
   "source": [
    "# Plot the confusion matrix\n",
    "from sklearn.metrics import confusion_matrix\n",
    "confmat_y = confusion_matrix(y_te, y_pred)\n",
    "\n",
    "fig, ax = plt.subplots(figsize=(6, 6))\n",
    "ax.matshow(confmat_y, cmap=plt.cm.Blues, alpha=0.3)\n",
    "for i in range(confmat_y.shape[0]):\n",
    "    for j in range(confmat_y.shape[1]):\n",
    "        ax.text(x=j, y=i, s=confmat_y[i, j], va='center', ha='center')\n",
    "\n",
    "plt.xlabel('Predicted label')\n",
    "plt.ylabel('True label')\n",
    "plt.xticks([0, 1], ['Commercial', 'Residential'])\n",
    "plt.yticks([0, 1], ['Commercial', 'Residential'], rotation='vertical', va='center')\n",
    "ax.grid(False)\n",
    "plt.tight_layout()\n",
    "plt.show()"
   ]
  },
  {
   "cell_type": "markdown",
   "metadata": {},
   "source": [
    "### Create a deep learning model with keras and compare to the random forest"
   ]
  },
  {
   "cell_type": "code",
   "execution_count": 22,
   "metadata": {
    "scrolled": true
   },
   "outputs": [
    {
     "name": "stderr",
     "output_type": "stream",
     "text": [
      "Using TensorFlow backend.\n"
     ]
    }
   ],
   "source": [
    "import tensorflow as tf\n",
    "from keras.models import Sequential\n",
    "from keras.layers import Dense"
   ]
  },
  {
   "cell_type": "code",
   "execution_count": 23,
   "metadata": {},
   "outputs": [],
   "source": [
    "model = Sequential()"
   ]
  },
  {
   "cell_type": "code",
   "execution_count": 24,
   "metadata": {},
   "outputs": [],
   "source": [
    "model.add(Dense(12, input_dim=matrix_len, kernel_initializer='uniform', activation='relu'))\n",
    "model.add(Dense(8, input_dim=matrix_len, kernel_initializer='uniform', activation='relu'))\n",
    "model.add(Dense(1, input_dim=matrix_len, kernel_initializer='uniform', activation='sigmoid'))"
   ]
  },
  {
   "cell_type": "code",
   "execution_count": 25,
   "metadata": {},
   "outputs": [
    {
     "data": {
      "text/plain": [
       "(None, 1)"
      ]
     },
     "execution_count": 25,
     "metadata": {},
     "output_type": "execute_result"
    }
   ],
   "source": [
    "model.output_shape"
   ]
  },
  {
   "cell_type": "code",
   "execution_count": 26,
   "metadata": {},
   "outputs": [
    {
     "name": "stdout",
     "output_type": "stream",
     "text": [
      "_________________________________________________________________\n",
      "Layer (type)                 Output Shape              Param #   \n",
      "=================================================================\n",
      "dense_1 (Dense)              (None, 12)                1109544   \n",
      "_________________________________________________________________\n",
      "dense_2 (Dense)              (None, 8)                 104       \n",
      "_________________________________________________________________\n",
      "dense_3 (Dense)              (None, 1)                 9         \n",
      "=================================================================\n",
      "Total params: 1,109,657\n",
      "Trainable params: 1,109,657\n",
      "Non-trainable params: 0\n",
      "_________________________________________________________________\n"
     ]
    }
   ],
   "source": [
    "model.summary()"
   ]
  },
  {
   "cell_type": "code",
   "execution_count": 27,
   "metadata": {},
   "outputs": [],
   "source": [
    "model.compile(optimizer='adam', loss='binary_crossentropy', metrics=['accuracy'])"
   ]
  },
  {
   "cell_type": "code",
   "execution_count": 28,
   "metadata": {},
   "outputs": [
    {
     "name": "stdout",
     "output_type": "stream",
     "text": [
      "Train on 14384 samples, validate on 3596 samples\n",
      "Epoch 1/50\n",
      "14384/14384 [==============================] - 35s 2ms/step - loss: 0.1326 - acc: 0.9650 - val_loss: 0.0365 - val_acc: 0.9917\n",
      "Epoch 2/50\n",
      "14384/14384 [==============================] - 31s 2ms/step - loss: 0.0171 - acc: 0.9956 - val_loss: 0.0247 - val_acc: 0.9944\n",
      "Epoch 3/50\n",
      "14384/14384 [==============================] - 32s 2ms/step - loss: 0.0068 - acc: 0.9973 - val_loss: 0.0336 - val_acc: 0.9914\n",
      "Epoch 4/50\n",
      "14384/14384 [==============================] - 35s 2ms/step - loss: 0.0045 - acc: 0.9987 - val_loss: 0.0249 - val_acc: 0.9961\n",
      "Epoch 5/50\n",
      "14384/14384 [==============================] - 35s 2ms/step - loss: 0.0035 - acc: 0.9992 - val_loss: 0.0259 - val_acc: 0.9956\n",
      "Epoch 6/50\n",
      "14384/14384 [==============================] - 32s 2ms/step - loss: 0.0031 - acc: 0.9992 - val_loss: 0.0276 - val_acc: 0.9950\n",
      "Epoch 7/50\n",
      "14384/14384 [==============================] - 32s 2ms/step - loss: 0.0024 - acc: 0.9992 - val_loss: 0.0279 - val_acc: 0.9950\n",
      "Epoch 8/50\n",
      "14384/14384 [==============================] - 32s 2ms/step - loss: 0.0021 - acc: 0.9992 - val_loss: 0.0298 - val_acc: 0.9956\n",
      "Epoch 9/50\n",
      "14384/14384 [==============================] - 32s 2ms/step - loss: 0.0020 - acc: 0.9992 - val_loss: 0.0319 - val_acc: 0.9956\n",
      "Epoch 10/50\n",
      "14384/14384 [==============================] - 32s 2ms/step - loss: 0.0019 - acc: 0.9992 - val_loss: 0.0324 - val_acc: 0.9947\n",
      "Epoch 11/50\n",
      "14384/14384 [==============================] - 32s 2ms/step - loss: 0.0018 - acc: 0.9992 - val_loss: 0.0333 - val_acc: 0.9950\n",
      "Epoch 12/50\n",
      "14384/14384 [==============================] - 31s 2ms/step - loss: 0.0018 - acc: 0.9992 - val_loss: 0.0328 - val_acc: 0.9947\n",
      "Epoch 13/50\n",
      "14384/14384 [==============================] - 33s 2ms/step - loss: 0.0018 - acc: 0.9992 - val_loss: 0.0344 - val_acc: 0.9947\n",
      "Epoch 14/50\n",
      "14384/14384 [==============================] - 32s 2ms/step - loss: 0.0017 - acc: 0.9992 - val_loss: 0.0349 - val_acc: 0.9947\n",
      "Epoch 15/50\n",
      "14384/14384 [==============================] - 32s 2ms/step - loss: 0.0017 - acc: 0.9993 - val_loss: 0.0359 - val_acc: 0.9944\n",
      "Epoch 16/50\n",
      "14384/14384 [==============================] - 32s 2ms/step - loss: 0.0018 - acc: 0.9993 - val_loss: 0.0356 - val_acc: 0.9942\n",
      "Epoch 17/50\n",
      "14384/14384 [==============================] - 32s 2ms/step - loss: 0.0016 - acc: 0.9993 - val_loss: 0.0367 - val_acc: 0.9942\n",
      "Epoch 18/50\n",
      "14384/14384 [==============================] - 32s 2ms/step - loss: 0.0017 - acc: 0.9992 - val_loss: 0.0364 - val_acc: 0.9942\n",
      "Epoch 19/50\n",
      "14384/14384 [==============================] - 32s 2ms/step - loss: 0.0019 - acc: 0.9993 - val_loss: 0.0364 - val_acc: 0.9950\n",
      "Epoch 20/50\n",
      "14384/14384 [==============================] - 32s 2ms/step - loss: 0.0016 - acc: 0.9992 - val_loss: 0.0368 - val_acc: 0.9950\n",
      "Epoch 21/50\n",
      "14384/14384 [==============================] - 32s 2ms/step - loss: 0.0018 - acc: 0.9994 - val_loss: 0.0364 - val_acc: 0.9944\n",
      "Epoch 22/50\n",
      "14384/14384 [==============================] - 32s 2ms/step - loss: 0.0016 - acc: 0.9994 - val_loss: 0.0361 - val_acc: 0.9942\n",
      "Epoch 23/50\n",
      "14384/14384 [==============================] - 32s 2ms/step - loss: 0.0016 - acc: 0.9994 - val_loss: 0.0375 - val_acc: 0.9944\n",
      "Epoch 24/50\n",
      "14384/14384 [==============================] - 33s 2ms/step - loss: 0.0016 - acc: 0.9994 - val_loss: 0.0371 - val_acc: 0.9944\n",
      "Epoch 25/50\n",
      "14384/14384 [==============================] - 32s 2ms/step - loss: 0.0018 - acc: 0.9994 - val_loss: 0.0353 - val_acc: 0.9944\n",
      "Epoch 26/50\n",
      "14384/14384 [==============================] - 32s 2ms/step - loss: 0.0016 - acc: 0.9994 - val_loss: 0.0393 - val_acc: 0.9942\n",
      "Epoch 27/50\n",
      "14384/14384 [==============================] - 32s 2ms/step - loss: 0.0016 - acc: 0.9994 - val_loss: 0.0395 - val_acc: 0.9944\n",
      "Epoch 28/50\n",
      "14384/14384 [==============================] - 33s 2ms/step - loss: 0.0016 - acc: 0.9994 - val_loss: 0.0379 - val_acc: 0.9944\n",
      "Epoch 29/50\n",
      "14384/14384 [==============================] - 32s 2ms/step - loss: 0.0015 - acc: 0.9994 - val_loss: 0.0392 - val_acc: 0.9944\n",
      "Epoch 30/50\n",
      "14384/14384 [==============================] - 33s 2ms/step - loss: 0.0016 - acc: 0.9994 - val_loss: 0.0387 - val_acc: 0.9947\n",
      "Epoch 31/50\n",
      "14384/14384 [==============================] - 32s 2ms/step - loss: 0.0015 - acc: 0.9994 - val_loss: 0.0400 - val_acc: 0.9944\n",
      "Epoch 32/50\n",
      "14384/14384 [==============================] - 32s 2ms/step - loss: 0.0016 - acc: 0.9994 - val_loss: 0.0396 - val_acc: 0.9944\n",
      "Epoch 33/50\n",
      "14384/14384 [==============================] - 32s 2ms/step - loss: 0.0015 - acc: 0.9994 - val_loss: 0.0402 - val_acc: 0.9944\n",
      "Epoch 34/50\n",
      "14384/14384 [==============================] - 33s 2ms/step - loss: 0.0016 - acc: 0.9994 - val_loss: 0.0387 - val_acc: 0.9950\n",
      "Epoch 35/50\n",
      "14384/14384 [==============================] - 33s 2ms/step - loss: 0.0015 - acc: 0.9994 - val_loss: 0.0394 - val_acc: 0.9947\n",
      "Epoch 36/50\n",
      "14384/14384 [==============================] - 36s 2ms/step - loss: 0.0015 - acc: 0.9994 - val_loss: 0.0421 - val_acc: 0.9944\n",
      "Epoch 37/50\n",
      "14384/14384 [==============================] - 35s 2ms/step - loss: 0.0015 - acc: 0.9994 - val_loss: 0.0410 - val_acc: 0.9950\n",
      "Epoch 38/50\n",
      "14384/14384 [==============================] - 32s 2ms/step - loss: 0.0015 - acc: 0.9994 - val_loss: 0.0416 - val_acc: 0.9947\n",
      "Epoch 39/50\n",
      "14384/14384 [==============================] - 33s 2ms/step - loss: 0.0015 - acc: 0.9994 - val_loss: 0.0425 - val_acc: 0.9947\n",
      "Epoch 40/50\n",
      "14384/14384 [==============================] - 32s 2ms/step - loss: 0.0025 - acc: 0.9993 - val_loss: 0.0367 - val_acc: 0.9950\n",
      "Epoch 41/50\n",
      "14384/14384 [==============================] - 33s 2ms/step - loss: 0.0015 - acc: 0.9994 - val_loss: 0.0424 - val_acc: 0.9944\n",
      "Epoch 42/50\n",
      "14384/14384 [==============================] - 33s 2ms/step - loss: 0.0015 - acc: 0.9994 - val_loss: 0.0417 - val_acc: 0.9942\n",
      "Epoch 43/50\n",
      "14384/14384 [==============================] - 32s 2ms/step - loss: 0.0015 - acc: 0.9994 - val_loss: 0.0415 - val_acc: 0.9939\n",
      "Epoch 44/50\n",
      "14384/14384 [==============================] - 32s 2ms/step - loss: 0.0014 - acc: 0.9994 - val_loss: 0.0410 - val_acc: 0.9942\n",
      "Epoch 45/50\n",
      "14384/14384 [==============================] - 33s 2ms/step - loss: 0.0014 - acc: 0.9994 - val_loss: 0.0406 - val_acc: 0.9936\n",
      "Epoch 46/50\n",
      "14384/14384 [==============================] - 33s 2ms/step - loss: 0.0014 - acc: 0.9994 - val_loss: 0.0428 - val_acc: 0.9950\n",
      "Epoch 47/50\n",
      "14384/14384 [==============================] - 34s 2ms/step - loss: 0.0014 - acc: 0.9994 - val_loss: 0.0401 - val_acc: 0.9947\n",
      "Epoch 48/50\n",
      "14384/14384 [==============================] - 33s 2ms/step - loss: 0.0015 - acc: 0.9994 - val_loss: 0.0397 - val_acc: 0.9947\n",
      "Epoch 49/50\n",
      "14384/14384 [==============================] - 33s 2ms/step - loss: 0.0014 - acc: 0.9994 - val_loss: 0.0400 - val_acc: 0.9939\n",
      "Epoch 50/50\n",
      "14384/14384 [==============================] - 32s 2ms/step - loss: 0.0015 - acc: 0.9994 - val_loss: 0.0386 - val_acc: 0.9947\n"
     ]
    },
    {
     "data": {
      "text/plain": [
       "<keras.callbacks.History at 0x19eeb994eb8>"
      ]
     },
     "execution_count": 28,
     "metadata": {},
     "output_type": "execute_result"
    }
   ],
   "source": [
    "model.fit(X_tr_tfidf, y_tr, batch_size=32, epochs=50, verbose=1, validation_data=(X_te_tfidf, y_te))"
   ]
  },
  {
   "cell_type": "code",
   "execution_count": 29,
   "metadata": {},
   "outputs": [
    {
     "name": "stdout",
     "output_type": "stream",
     "text": [
      "3596/3596 [==============================] - 3s 864us/step\n"
     ]
    }
   ],
   "source": [
    "score = model.evaluate(X_te_tfidf, y_te, batch_size=32)"
   ]
  },
  {
   "cell_type": "code",
   "execution_count": 30,
   "metadata": {},
   "outputs": [],
   "source": [
    "y_pred = model.predict(X_te_tfidf, batch_size=32)"
   ]
  },
  {
   "cell_type": "markdown",
   "metadata": {},
   "source": [
    "### Compare the models"
   ]
  },
  {
   "cell_type": "code",
   "execution_count": 31,
   "metadata": {},
   "outputs": [],
   "source": [
    "from sklearn.metrics import roc_curve\n",
    "y_pred_keras = model.predict(X_te_tfidf).ravel()\n",
    "fpr_keras, tpr_keras, thresholds_keras = roc_curve(y_te, y_pred_keras)"
   ]
  },
  {
   "cell_type": "code",
   "execution_count": 32,
   "metadata": {},
   "outputs": [],
   "source": [
    "y_pred_keras = model.predict(X_te_tfidf, batch_size=32).ravel()"
   ]
  },
  {
   "cell_type": "code",
   "execution_count": 33,
   "metadata": {},
   "outputs": [],
   "source": [
    "fpr_keras, tpr_keras, thresholds_keras = roc_curve(y_te, y_pred_keras)"
   ]
  },
  {
   "cell_type": "code",
   "execution_count": 34,
   "metadata": {},
   "outputs": [],
   "source": [
    "from sklearn.metrics import auc\n",
    "auc_keras = auc(fpr_keras, tpr_keras)"
   ]
  },
  {
   "cell_type": "code",
   "execution_count": 35,
   "metadata": {},
   "outputs": [],
   "source": [
    "y_pred_rf = rf.predict_proba(X_te_tfidf)[:, 1]\n",
    "fpr_rf, tpr_rf, thresholds_rf = roc_curve(y_te, y_pred_rf)\n",
    "auc_rf = auc(fpr_rf, tpr_rf)"
   ]
  },
  {
   "cell_type": "code",
   "execution_count": 36,
   "metadata": {},
   "outputs": [
    {
     "data": {
      "image/png": "[encoded data removed]",
      "text/plain": [
       "<matplotlib.figure.Figure at 0x19eed50d7f0>"
      ]
     },
     "metadata": {},
     "output_type": "display_data"
    },
    {
     "data": {
      "image/png": "[encoded data removed]",
      "text/plain": [
       "<matplotlib.figure.Figure at 0x19eed4d3cc0>"
      ]
     },
     "metadata": {},
     "output_type": "display_data"
    }
   ],
   "source": [
    "plt.figure(1)\n",
    "plt.plot([0, 1], [0, 1], 'k--')\n",
    "plt.plot(fpr_keras, tpr_keras, label='Keras (area = {:.4f})'.format(auc_keras))\n",
    "plt.plot(fpr_rf, tpr_rf, label='RF (area = {:.4f})'.format(auc_rf))\n",
    "plt.xlabel('False positive rate')\n",
    "plt.ylabel('True positive rate')\n",
    "plt.title('ROC curve')\n",
    "plt.legend(loc='best')\n",
    "plt.show()\n",
    "# Zoom in view of the upper left corner.\n",
    "plt.figure(2)\n",
    "plt.xlim(0, 0.2)\n",
    "plt.ylim(0.98, 1)\n",
    "plt.plot([0, 1], [0, 1], 'k--')\n",
    "plt.plot(fpr_keras, tpr_keras, label='Keras (area = {:.3f})'.format(auc_keras))\n",
    "plt.plot(fpr_rf, tpr_rf, label='RF (area = {:.3f})'.format(auc_rf))\n",
    "plt.xlabel('False positive rate')\n",
    "plt.ylabel('True positive rate')\n",
    "plt.title('ROC curve (zoomed in at top left)')\n",
    "plt.legend(loc='best')\n",
    "plt.show()"
   ]
  },
  {
   "cell_type": "code",
   "execution_count": 37,
   "metadata": {},
   "outputs": [],
   "source": [
    "y_pred_classes = []\n",
    "for i in y_pred:\n",
    "    if i > .5:\n",
    "        y_pred_classes.append(1)\n",
    "    else:\n",
    "        y_pred_classes.append(0)"
   ]
  },
  {
   "cell_type": "code",
   "execution_count": 38,
   "metadata": {},
   "outputs": [
    {
     "data": {
      "image/png": "[encoded data removed]",
      "text/plain": [
       "<matplotlib.figure.Figure at 0x19eed50dd68>"
      ]
     },
     "metadata": {},
     "output_type": "display_data"
    }
   ],
   "source": [
    "# Plot the confusion matrix\n",
    "confmat_y = confusion_matrix(y_te, y_pred_classes)\n",
    "\n",
    "fig, ax = plt.subplots(figsize=(6, 6))\n",
    "ax.matshow(confmat_y, cmap=plt.cm.Blues, alpha=0.3)\n",
    "for i in range(confmat_y.shape[0]):\n",
    "    for j in range(confmat_y.shape[1]):\n",
    "        ax.text(x=j, y=i, s=confmat_y[i, j], va='center', ha='center')\n",
    "\n",
    "plt.xlabel('Predicted label')\n",
    "plt.ylabel('True label')\n",
    "plt.xticks([0, 1], ['Commercial', 'Residential'])\n",
    "plt.yticks([0, 1], ['Commercial', 'Residential'], rotation='vertical', va='center')\n",
    "ax.grid(False)\n",
    "plt.tight_layout()\n",
    "plt.show()"
   ]
  },
  {
   "cell_type": "markdown",
   "metadata": {},
   "source": [
    "### Convert predictions to text labels and join with the main dataframe to see where the errors occurred "
   ]
  },
  {
   "cell_type": "code",
   "execution_count": 39,
   "metadata": {},
   "outputs": [],
   "source": [
    "real_v_pred = pd.concat([y_te.reset_index(), pd.Series(y_pred_classes)], axis=1, join='inner', ignore_index=True).reset_index(drop=True).set_index([1])"
   ]
  },
  {
   "cell_type": "code",
   "execution_count": 40,
   "metadata": {},
   "outputs": [],
   "source": [
    "real_v_pred.reset_index(inplace=True)\n",
    "real_v_pred.columns = ['test', 'index', 'pred']"
   ]
  },
  {
   "cell_type": "code",
   "execution_count": 41,
   "metadata": {},
   "outputs": [],
   "source": [
    "errors = real_v_pred[real_v_pred.test != real_v_pred.pred]\n",
    "errors.set_index(keys='index', inplace=True)"
   ]
  },
  {
   "cell_type": "code",
   "execution_count": 42,
   "metadata": {},
   "outputs": [],
   "source": [
    "df_errors = df.join(errors, how='inner')"
   ]
  },
  {
   "cell_type": "markdown",
   "metadata": {},
   "source": [
    "### Descriptions of where 'Residential' was misclassified"
   ]
  },
  {
   "cell_type": "code",
   "execution_count": 43,
   "metadata": {},
   "outputs": [
    {
     "name": "stdout",
     "output_type": "stream",
     "text": [
      "- GRADING PERMIT TO CLEAR NEW SUBDIVISION FOR RYAN RIDGE  RESIDENTIAL LOTS. PROPERTY IS IN A PRIORITY CONSTRUCTION SITE. NPDES PERMIT NO. ALR108382. TO MEET ALL APPLICABLE CODES.\n",
      "- DEMOLISH commercial STRUCTURE TO CLEAR LOT. BOND #321705, WATER WORKS 5416 AND HEALTH DEPT LETTER ON FILE.  THIS PERMIT IS GOOD FOR 30 DAYS.  FINAL INSPECTION WILL BE REQUIRED BY HOUSING CODES. TO MEET ALL APPLICABLE CODERS.\n",
      "- GRADING PERMIT TO ERECT  TWO STORY  SINGLE FAMILY RESIDENCE WITH 5462 SF TOTAL. PROPERTY NOT IN A PRIORITY CONSTRUCTION SITE. MUST COMPLY WITH CITY’S GUIDELINES.  TO MEET ALL APPLICABLE CODES.\n",
      "- Law Offices of Jennifer Thompkins  (334)356-2888  OFFICE SPACE to be Used for OFFICE SPACE\n",
      "- CERTIFICATE OF OCCUPANCY FOR A BUSINESS LIC TO BE USED FOR MECHANIC SHOP.  POINT OF CONTACT CRYSTAL FOWLER 334-261-3372.\n",
      "- RENOVATIONS TO INTERIOR OF EXISTING SINGLE FAMILY DWELLING. DUE TO CAR DAMAGE. WILL NEED FRAMING AND ELECTRICAL.  ALL APPLICABLE DEPARTMENT INSPECTIONS AS REQUIRED. TO MEET ALL APPLICABLE CODES.\n",
      "- RENOVATIONS TO INTERIOR OF EXISTING SINGLE FAMILY DWELLING. DUE TO CAR DAMAGE. WILL NEED FRAMING AND ELECTRICAL.  ALL APPLICABLE DEPARTMENT INSPECTIONS AS REQUIRED. TO MEET ALL APPLICABLE CODES.\n",
      "- DEMOLISH EXISTING WOOD FRAME DWELLING TO CLEAR LOT. HEALTH DEPT APPROVAL ON FILE. WATER WORKS NO. 5062. BOND NO. 32178. DEMOLITION MUST BE COMPLETED WITHIN 30 DAYS. FINAL INSPECTION WILL BE REQUIRED BY HOUSING CODES 625-2069 AND WATER WORKS. TO MEET ALL APPLICABLE CODES.\n",
      "- DEMOLISH EXISTING WOOD FRAME DWELLING TO CLEAR LOT. HEALTH DEPT APPROVAL ON FILE. WATER WORKS 4763. BOND NO. 427611. DEMOLITION MUST BE COMPLETED WITHIN 30 DAYS. MUST COMPLY EROSION CONTROL. TO MEET ALL APPLICABLE CODES.\n",
      "- GRADING PERMIT FOR THE NEW SUBDIVISION STONEYBROOKE 6B. PROPERTY IS IN A PRIORITY CONSTRUCTION SITE. NPDES PERMIT NO. ALR108799. TO MEET ALL APPLICABLE CODES.\n",
      "- GRADING PERMIT FOR THE NEW SUBDIVISION STONEYBROOKE 6B. PROPERTY IS IN A PRIORITY CONSTRUCTION SITE. NPDES PERMIT NO. ALR108799. TO MEET ALL APPLICABLE CODES.\n",
      "- LOCATE A 80' X 32' MOBILE HOME FOR LIVING PURPOSES. BORAD OF ADJ APPROVAL ON FILE. TIE DOWN INSPECTION WILL BE REQUIRED. HOLD HARMLESS AGREEMENT ON FILE. FLOODPLAN DEVELOPMENT PERMIT ON FILE. FLOOD ELEV CERTIFICATE OF 167 FOR (CONSTRUCTION DRAWINGS) ON FILE. FLOOD ELEVATION CERT OF 167 FOR(FINISHED CONSTRUCTION) ON FILE. TO MEET ALL APPLICABLE CODES.\n"
     ]
    }
   ],
   "source": [
    "for row in df_errors['description'][df_errors.usetype == 'Residential']:\n",
    "    print(\"-\", row)"
   ]
  },
  {
   "cell_type": "markdown",
   "metadata": {},
   "source": [
    "### Descriptions of where 'Commercial' was misclassified"
   ]
  },
  {
   "cell_type": "code",
   "execution_count": 44,
   "metadata": {
    "scrolled": false
   },
   "outputs": [
    {
     "name": "stdout",
     "output_type": "stream",
     "text": [
      "- GENERAL REPAIRS TO EXISTING SINGLE FAMILY DWELLING DUE TO ROTTEN WOOD. ALL APPLICABLE DEPARTMENT INSPECTIONS AS REQUIRED. TO MEET ALL APPLICABLE CODES.\n",
      "- INSTALL A 18' X 36' SWIMMING POOL IN REAR OF EXISTING DWELLING. 44\" FENCE IS REQUIRED THE POOL AREA WITH A LOCKABLE GATE. DIRT WILL BE DUMPED AT THE AREA SAND AND GRAVEL ON REDLAND ROAD IN WETUMPKA. NOT TO ENCROACH ON 10 REAR EASEMENT. TO MEET ALL APPLICABLE CODES.\n",
      "- RENOVATIONS TO INTERIOR OF EXISTING APARTMENT 163. DUE TO FIRE DAMAGE. WILL NEED ELECTRICAL AND PLUMBING. ALL APPLICABLE DEPARTMENT INSPECTIONS AS REQUIRED. MUST COMPLY WITH STATE ENERGY CODE. TO MEET ALL APPLICABLE CODES.\n",
      "- RENOVATIONS TO INTERIOR OF EXISTING APARTMENT 163. DUE TO FIRE DAMAGE. WILL NEED ELECTRICAL AND PLUMBING. ALL APPLICABLE DEPARTMENT INSPECTIONS AS REQUIRED. MUST COMPLY WITH STATE ENERGY CODE. TO MEET ALL APPLICABLE CODES.\n",
      "- ERECT TWO 20' X 44' METAL CARPORT TO BE USED FOR FOR PARKING/STORAGE OF VEHICLES. MAINTAIN 8' MINIMUM HEADROOM. VERIFY FOOTINGS PER IBC CHAPTER 21. LETTER OF APPROVAL ON FILE FROM THOMAS TYSON/PLANNING CONTROLS. MUST COMPLY WITH STATE ENERGY CODE. TO MEET ALL APPLICABLE CODES.\n",
      "- ERECT TWO 20' X 44' METAL CARPORT TO BE USED FOR FOR PARKING/STORAGE OF VEHICLES. MAINTAIN 8' MINIMUM HEADROOM. VERIFY FOOTINGS PER IBC CHAPTER 21. LETTER OF APPROVAL ON FILE FROM THOMAS TYSON/PLANNING CONTROLS. MUST COMPLY WITH STATE ENERGY CODE. TO MEET ALL APPLICABLE CODES.\n",
      "- DEMOLISH RESIDENTIAL STRUCTURE TO CLEAR LOT.  WORK TO BE COMPLETED BY CITY OF MONTGOMERY LANDFILL DEPT. ****NO FEE PERMIT****\n"
     ]
    }
   ],
   "source": [
    "for row in df_errors['description'][df_errors.usetype == 'Commercial']:\n",
    "    print(\"-\", row)"
   ]
  }
 ],
 "metadata": {
  "kernelspec": {
   "display_name": "Python 3",
   "language": "python",
   "name": "python3"
  },
  "language_info": {
   "codemirror_mode": {
    "name": "ipython",
    "version": 3
   },
   "file_extension": ".py",
   "mimetype": "text/x-python",
   "name": "python",
   "nbconvert_exporter": "python",
   "pygments_lexer": "ipython3",
   "version": "3.6.4"
  }
 },
 "nbformat": 4,
 "nbformat_minor": 1
}
