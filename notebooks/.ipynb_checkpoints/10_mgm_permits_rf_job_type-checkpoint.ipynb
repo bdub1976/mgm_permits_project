{
 "cells": [
  {
   "cell_type": "code",
   "execution_count": 1,
   "metadata": {},
   "outputs": [],
   "source": [
    "import numpy as np\n",
    "import pandas as pd\n",
    "import matplotlib.pyplot as plt\n",
    "\n",
    "from sklearn.feature_extraction.text import CountVectorizer, TfidfTransformer\n",
    "from sklearn.ensemble import RandomForestClassifier\n",
    "from sklearn.model_selection import train_test_split\n",
    "from sklearn.metrics import accuracy_score\n",
    "from sklearn.model_selection import cross_val_score\n",
    "from scipy import interp\n",
    "from sklearn.metrics import roc_curve, auc\n",
    "\n",
    "\n",
    "seed = 42\n",
    "np.random.seed(seed)"
   ]
  },
  {
   "cell_type": "markdown",
   "metadata": {},
   "source": [
    "### Load the data"
   ]
  },
  {
   "cell_type": "code",
   "execution_count": 2,
   "metadata": {},
   "outputs": [],
   "source": [
    "#open the locally saved csv\n",
    "df = pd.read_csv('data/mgm.csv', usecols=['description', 'jobtype', 'usetype'])"
   ]
  },
  {
   "cell_type": "code",
   "execution_count": 3,
   "metadata": {},
   "outputs": [
    {
     "name": "stdout",
     "output_type": "stream",
     "text": [
      "<class 'pandas.core.frame.DataFrame'>\n",
      "RangeIndex: 17514 entries, 0 to 17513\n",
      "Data columns (total 3 columns):\n",
      "description    17514 non-null object\n",
      "jobtype        17514 non-null object\n",
      "usetype        17514 non-null object\n",
      "dtypes: object(3)\n",
      "memory usage: 410.6+ KB\n"
     ]
    }
   ],
   "source": [
    "df.info()"
   ]
  },
  {
   "cell_type": "markdown",
   "metadata": {},
   "source": [
    "### Create the features and target variables"
   ]
  },
  {
   "cell_type": "code",
   "execution_count": 27,
   "metadata": {},
   "outputs": [],
   "source": [
    "df = df[df.usetype != 'Mixed Occupancy']"
   ]
  },
  {
   "cell_type": "code",
   "execution_count": 28,
   "metadata": {},
   "outputs": [],
   "source": [
    "X = df['description']\n",
    "y = df['jobtype']"
   ]
  },
  {
   "cell_type": "code",
   "execution_count": 29,
   "metadata": {},
   "outputs": [],
   "source": [
    "#y = y.map({'New': 0, 'Existing': 1, 'Alteration': 2, 'Repair': 3, 'Other': 4, 'Addition': 5})"
   ]
  },
  {
   "cell_type": "code",
   "execution_count": 30,
   "metadata": {
    "scrolled": true
   },
   "outputs": [
    {
     "data": {
      "text/plain": [
       "New           4802\n",
       "Existing      3942\n",
       "Alteration    3058\n",
       "Repair        2302\n",
       "Other         2255\n",
       "Addition      1135\n",
       "Name: jobtype, dtype: int64"
      ]
     },
     "execution_count": 30,
     "metadata": {},
     "output_type": "execute_result"
    }
   ],
   "source": [
    "y.value_counts()"
   ]
  },
  {
   "cell_type": "code",
   "execution_count": 31,
   "metadata": {},
   "outputs": [],
   "source": [
    "# y_bin = label_binarize(y, classes=[0,1,2])\n",
    "# n_y_bin_classes = y_bin.shape[1]\n",
    "# y_bin = label_binarize(y, classes=[0,1,2,3,4,5])\n",
    "# n_y_bin_classes = y_bin.shape[1]"
   ]
  },
  {
   "cell_type": "code",
   "execution_count": 32,
   "metadata": {},
   "outputs": [],
   "source": [
    "# y_bin.value_counts()"
   ]
  },
  {
   "cell_type": "code",
   "execution_count": 33,
   "metadata": {},
   "outputs": [],
   "source": [
    "from sklearn.pipeline import Pipeline"
   ]
  },
  {
   "cell_type": "code",
   "execution_count": 34,
   "metadata": {},
   "outputs": [],
   "source": [
    "pipeline = Pipeline([\n",
    "    ('vect', CountVectorizer(min_df=0, \n",
    "                               stop_words=\"english\", \n",
    "                               ngram_range=(1, 3))),\n",
    "    ('tfidf', TfidfTransformer(norm=None))\n",
    "])"
   ]
  },
  {
   "cell_type": "code",
   "execution_count": 35,
   "metadata": {},
   "outputs": [],
   "source": [
    "X = pipeline.fit_transform(X)"
   ]
  },
  {
   "cell_type": "code",
   "execution_count": 36,
   "metadata": {},
   "outputs": [
    {
     "data": {
      "text/plain": [
       "(17494, 94526)"
      ]
     },
     "execution_count": 36,
     "metadata": {},
     "output_type": "execute_result"
    }
   ],
   "source": [
    "X.shape"
   ]
  },
  {
   "cell_type": "code",
   "execution_count": 37,
   "metadata": {},
   "outputs": [],
   "source": [
    "X_tr, X_te, y_tr, y_te, = train_test_split(X, y, test_size=0.20, random_state=42)"
   ]
  },
  {
   "cell_type": "code",
   "execution_count": 39,
   "metadata": {},
   "outputs": [
    {
     "name": "stdout",
     "output_type": "stream",
     "text": [
      "Shape of Sparse Matrix:  (17494, 94526)\n",
      "Amount of Non-Zero occurences:  1198610\n",
      "sparsity: 0.07%\n"
     ]
    }
   ],
   "source": [
    "print ('Shape of Sparse Matrix: ', X.shape)\n",
    "print ('Amount of Non-Zero occurences: ', X.nnz)\n",
    "print ('sparsity: %.2f%%' % (100.0 * X.nnz /\n",
    "                             (X.shape[0] * X.shape[1])))"
   ]
  },
  {
   "cell_type": "markdown",
   "metadata": {},
   "source": [
    "### Instantiate a random forest classifier, run on the target variables and score the model"
   ]
  },
  {
   "cell_type": "code",
   "execution_count": 40,
   "metadata": {},
   "outputs": [],
   "source": [
    "#instantiate the classifier\n",
    "rf = RandomForestClassifier(random_state=42)"
   ]
  },
  {
   "cell_type": "code",
   "execution_count": 42,
   "metadata": {},
   "outputs": [
    {
     "data": {
      "text/plain": [
       "RandomForestClassifier(bootstrap=True, class_weight=None, criterion='gini',\n",
       "            max_depth=None, max_features='auto', max_leaf_nodes=None,\n",
       "            min_impurity_decrease=0.0, min_impurity_split=None,\n",
       "            min_samples_leaf=1, min_samples_split=2,\n",
       "            min_weight_fraction_leaf=0.0, n_estimators=10, n_jobs=1,\n",
       "            oob_score=False, random_state=42, verbose=0, warm_start=False)"
      ]
     },
     "execution_count": 42,
     "metadata": {},
     "output_type": "execute_result"
    }
   ],
   "source": [
    "rf.fit(X_tr, y_tr)"
   ]
  },
  {
   "cell_type": "code",
   "execution_count": 43,
   "metadata": {},
   "outputs": [
    {
     "name": "stdout",
     "output_type": "stream",
     "text": [
      "RandomForestClassifier 0.9285510145755931\n"
     ]
    }
   ],
   "source": [
    "y_pred = rf.predict(X_te)\n",
    "print(rf.__class__.__name__, accuracy_score(y_te, y_pred))"
   ]
  },
  {
   "cell_type": "code",
   "execution_count": 44,
   "metadata": {},
   "outputs": [
    {
     "name": "stdout",
     "output_type": "stream",
     "text": [
      "             precision    recall  f1-score   support\n",
      "\n",
      "   Addition       0.92      0.92      0.92       217\n",
      " Alteration       0.93      0.91      0.92       650\n",
      "   Existing       0.87      0.88      0.88       795\n",
      "        New       0.97      0.97      0.97       908\n",
      "      Other       0.96      0.93      0.94       483\n",
      "     Repair       0.93      0.96      0.94       446\n",
      "\n",
      "avg / total       0.93      0.93      0.93      3499\n",
      "\n"
     ]
    }
   ],
   "source": [
    "from sklearn.metrics import classification_report\n",
    "print (classification_report(y_te, y_pred))"
   ]
  },
  {
   "cell_type": "code",
   "execution_count": 49,
   "metadata": {},
   "outputs": [],
   "source": [
    "def display_scores(scores):\n",
    "    print(\"Scores:\", scores)\n",
    "    print(\"Mean:\", scores.mean())\n",
    "    print(\"StDev:\", scores.std())"
   ]
  },
  {
   "cell_type": "code",
   "execution_count": 50,
   "metadata": {},
   "outputs": [],
   "source": [
    "from sklearn.model_selection import KFold\n",
    "kfold = KFold(n_splits=10, shuffle=True, random_state=seed)"
   ]
  },
  {
   "cell_type": "code",
   "execution_count": 51,
   "metadata": {},
   "outputs": [],
   "source": [
    "y_tr_scores = cross_val_score(rf, X_tr, y_tr, cv=kfold, scoring=\"accuracy\")"
   ]
  },
  {
   "cell_type": "code",
   "execution_count": 52,
   "metadata": {},
   "outputs": [
    {
     "name": "stdout",
     "output_type": "stream",
     "text": [
      "Scores: [0.91       0.91785714 0.925      0.91785714 0.92428571 0.9235168\n",
      " 0.92566119 0.922802   0.91708363 0.9235168 ]\n",
      "Mean: 0.9207580414581844\n",
      "StDev: 0.004689839407364397\n"
     ]
    }
   ],
   "source": [
    "display_scores(y_tr_scores)"
   ]
  },
  {
   "cell_type": "code",
   "execution_count": null,
   "metadata": {},
   "outputs": [],
   "source": []
  },
  {
   "cell_type": "code",
   "execution_count": 53,
   "metadata": {},
   "outputs": [
    {
     "ename": "NameError",
     "evalue": "name 'learning_curve' is not defined",
     "output_type": "error",
     "traceback": [
      "\u001b[1;31m---------------------------------------------------------------------------\u001b[0m",
      "\u001b[1;31mNameError\u001b[0m                                 Traceback (most recent call last)",
      "\u001b[1;32m<ipython-input-53-08eccab1dded>\u001b[0m in \u001b[0;36m<module>\u001b[1;34m()\u001b[0m\n\u001b[0;32m      1\u001b[0m \u001b[1;31m# Plot a learning curve chart\u001b[0m\u001b[1;33m\u001b[0m\u001b[1;33m\u001b[0m\u001b[0m\n\u001b[0;32m      2\u001b[0m \u001b[1;33m\u001b[0m\u001b[0m\n\u001b[1;32m----> 3\u001b[1;33m train_sizes, train_scores, test_scores =                learning_curve(estimator=rf,\n\u001b[0m\u001b[0;32m      4\u001b[0m                                \u001b[0mX\u001b[0m\u001b[1;33m=\u001b[0m\u001b[0mX_tr\u001b[0m\u001b[1;33m,\u001b[0m\u001b[1;33m\u001b[0m\u001b[0m\n\u001b[0;32m      5\u001b[0m                                \u001b[0my\u001b[0m\u001b[1;33m=\u001b[0m\u001b[0my_tr\u001b[0m\u001b[1;33m,\u001b[0m\u001b[1;33m\u001b[0m\u001b[0m\n",
      "\u001b[1;31mNameError\u001b[0m: name 'learning_curve' is not defined"
     ]
    }
   ],
   "source": [
    "# Plot a learning curve chart\n",
    "from sklearn.model_selection import learning_curve\n",
    "train_sizes, train_scores, test_scores =\\\n",
    "                learning_curve(estimator=rf,\n",
    "                               X=X_tr,\n",
    "                               y=y_tr,\n",
    "                               train_sizes=np.linspace(0.1, 1.0, 10),\n",
    "                               cv=kfold,\n",
    "                               n_jobs=1)\n",
    "\n",
    "train_mean = np.mean(train_scores, axis=1)\n",
    "train_std = np.std(train_scores, axis=1)\n",
    "test_mean = np.mean(test_scores, axis=1)\n",
    "test_std = np.std(test_scores, axis=1)\n",
    "\n",
    "plt.plot(train_sizes, train_mean,\n",
    "         color='blue', marker='o',\n",
    "         markersize=5, label='training accuracy')\n",
    "\n",
    "plt.fill_between(train_sizes,\n",
    "                 train_mean + train_std,\n",
    "                 train_mean - train_std,\n",
    "                 alpha=0.15, color='blue')\n",
    "\n",
    "plt.plot(train_sizes, test_mean,\n",
    "         color='green', linestyle='--',\n",
    "         marker='s', markersize=5,\n",
    "         label='validation accuracy')\n",
    "\n",
    "plt.fill_between(train_sizes,\n",
    "                 test_mean + test_std,\n",
    "                 test_mean - test_std,\n",
    "                 alpha=0.15, color='green')\n",
    "plt.title('Accuracy')\n",
    "plt.xlabel('Number of training samples')\n",
    "plt.ylabel('Accuracy')\n",
    "plt.legend(loc='lower right')\n",
    "plt.ylim([0.95, 1.01])\n",
    "plt.tight_layout()\n",
    "plt.show()"
   ]
  },
  {
   "cell_type": "code",
   "execution_count": null,
   "metadata": {},
   "outputs": [],
   "source": []
  },
  {
   "cell_type": "code",
   "execution_count": null,
   "metadata": {},
   "outputs": [],
   "source": []
  },
  {
   "cell_type": "code",
   "execution_count": null,
   "metadata": {},
   "outputs": [],
   "source": [
    "y_te_ = cross_val_score(rf, X_te, y_te, cv=10, scoring=\"accuracy\")"
   ]
  },
  {
   "cell_type": "code",
   "execution_count": null,
   "metadata": {},
   "outputs": [],
   "source": [
    "display_scores(y_te_tfidf_scores)"
   ]
  },
  {
   "cell_type": "code",
   "execution_count": 25,
   "metadata": {
    "scrolled": true
   },
   "outputs": [
    {
     "name": "stderr",
     "output_type": "stream",
     "text": [
      "Using TensorFlow backend.\n"
     ]
    }
   ],
   "source": [
    "import tensorflow as tf\n",
    "from keras.models import Sequential\n",
    "from keras.layers import Dense"
   ]
  },
  {
   "cell_type": "code",
   "execution_count": 26,
   "metadata": {},
   "outputs": [],
   "source": [
    "model = Sequential()"
   ]
  },
  {
   "cell_type": "code",
   "execution_count": 27,
   "metadata": {},
   "outputs": [],
   "source": [
    "model.add(Dense(12, input_dim=matrix_len, kernel_initializer='uniform', activation='relu'))\n",
    "model.add(Dense(8, input_dim=matrix_len, kernel_initializer='uniform', activation='relu'))\n",
    "model.add(Dense(1, input_dim=matrix_len, kernel_initializer='uniform', activation='sigmoid'))"
   ]
  },
  {
   "cell_type": "code",
   "execution_count": 28,
   "metadata": {},
   "outputs": [
    {
     "data": {
      "text/plain": [
       "(None, 1)"
      ]
     },
     "execution_count": 28,
     "metadata": {},
     "output_type": "execute_result"
    }
   ],
   "source": [
    "model.output_shape"
   ]
  },
  {
   "cell_type": "code",
   "execution_count": 29,
   "metadata": {
    "scrolled": true
   },
   "outputs": [
    {
     "name": "stdout",
     "output_type": "stream",
     "text": [
      "_________________________________________________________________\n",
      "Layer (type)                 Output Shape              Param #   \n",
      "=================================================================\n",
      "dense_1 (Dense)              (None, 12)                100212    \n",
      "_________________________________________________________________\n",
      "dense_2 (Dense)              (None, 8)                 104       \n",
      "_________________________________________________________________\n",
      "dense_3 (Dense)              (None, 1)                 9         \n",
      "=================================================================\n",
      "Total params: 100,325\n",
      "Trainable params: 100,325\n",
      "Non-trainable params: 0\n",
      "_________________________________________________________________\n"
     ]
    }
   ],
   "source": [
    "model.summary()"
   ]
  },
  {
   "cell_type": "code",
   "execution_count": 30,
   "metadata": {},
   "outputs": [],
   "source": [
    "model.compile(optimizer='adam', loss='binary_crossentropy', metrics=['accuracy'])"
   ]
  },
  {
   "cell_type": "code",
   "execution_count": 31,
   "metadata": {
    "scrolled": false
   },
   "outputs": [
    {
     "name": "stdout",
     "output_type": "stream",
     "text": [
      "Train on 12586 samples, validate on 5394 samples\n",
      "Epoch 1/100\n",
      "12586/12586 [==============================] - 10s 778us/step - loss: 0.1839 - acc: 0.9430 - val_loss: 0.0488 - val_acc: 0.9904\n",
      "Epoch 2/100\n",
      "12586/12586 [==============================] - 7s 591us/step - loss: 0.0340 - acc: 0.9924 - val_loss: 0.0416 - val_acc: 0.9918\n",
      "Epoch 3/100\n",
      "12586/12586 [==============================] - 9s 679us/step - loss: 0.0228 - acc: 0.9944 - val_loss: 0.0414 - val_acc: 0.9928\n",
      "Epoch 4/100\n",
      "12586/12586 [==============================] - 9s 702us/step - loss: 0.0158 - acc: 0.9961 - val_loss: 0.0386 - val_acc: 0.9931\n",
      "Epoch 5/100\n",
      "12586/12586 [==============================] - 10s 762us/step - loss: 0.0112 - acc: 0.9973 - val_loss: 0.0394 - val_acc: 0.9926\n",
      "Epoch 6/100\n",
      "12586/12586 [==============================] - 9s 740us/step - loss: 0.0090 - acc: 0.9976 - val_loss: 0.0407 - val_acc: 0.9920\n",
      "Epoch 7/100\n",
      "12586/12586 [==============================] - 9s 682us/step - loss: 0.0070 - acc: 0.9982 - val_loss: 0.0391 - val_acc: 0.9931\n",
      "Epoch 8/100\n",
      "12586/12586 [==============================] - 9s 681us/step - loss: 0.0056 - acc: 0.9983 - val_loss: 0.0420 - val_acc: 0.9937\n",
      "Epoch 9/100\n",
      "12586/12586 [==============================] - 7s 590us/step - loss: 0.0051 - acc: 0.9988 - val_loss: 0.0463 - val_acc: 0.9922\n",
      "Epoch 10/100\n",
      "12586/12586 [==============================] - 9s 735us/step - loss: 0.0044 - acc: 0.9990 - val_loss: 0.0468 - val_acc: 0.9931\n",
      "Epoch 11/100\n",
      "12586/12586 [==============================] - 8s 633us/step - loss: 0.0040 - acc: 0.9990 - val_loss: 0.0456 - val_acc: 0.9931\n",
      "Epoch 12/100\n",
      "12586/12586 [==============================] - 8s 661us/step - loss: 0.0037 - acc: 0.9990 - val_loss: 0.0476 - val_acc: 0.9930\n",
      "Epoch 13/100\n",
      "12586/12586 [==============================] - 8s 630us/step - loss: 0.0033 - acc: 0.9990 - val_loss: 0.0505 - val_acc: 0.9920\n",
      "Epoch 14/100\n",
      "12586/12586 [==============================] - 7s 542us/step - loss: 0.0035 - acc: 0.9990 - val_loss: 0.0469 - val_acc: 0.9937\n",
      "Epoch 15/100\n",
      "12586/12586 [==============================] - 8s 621us/step - loss: 0.0039 - acc: 0.9990 - val_loss: 0.0498 - val_acc: 0.9928\n",
      "Epoch 16/100\n",
      "12586/12586 [==============================] - 8s 630us/step - loss: 0.0032 - acc: 0.9991 - val_loss: 0.0516 - val_acc: 0.9924\n",
      "Epoch 17/100\n",
      "12586/12586 [==============================] - 9s 678us/step - loss: 0.0032 - acc: 0.9990 - val_loss: 0.0539 - val_acc: 0.9922\n",
      "Epoch 18/100\n",
      "12586/12586 [==============================] - 7s 571us/step - loss: 0.0029 - acc: 0.9990 - val_loss: 0.0522 - val_acc: 0.9933\n",
      "Epoch 19/100\n",
      "12586/12586 [==============================] - 7s 564us/step - loss: 0.0029 - acc: 0.9990 - val_loss: 0.0537 - val_acc: 0.9931\n",
      "Epoch 20/100\n",
      "12586/12586 [==============================] - 7s 549us/step - loss: 0.0028 - acc: 0.9991 - val_loss: 0.0537 - val_acc: 0.9930\n",
      "Epoch 21/100\n",
      "12586/12586 [==============================] - 7s 576us/step - loss: 0.0030 - acc: 0.9989 - val_loss: 0.0544 - val_acc: 0.9935\n",
      "Epoch 22/100\n",
      "12586/12586 [==============================] - 7s 579us/step - loss: 0.0027 - acc: 0.9990 - val_loss: 0.0564 - val_acc: 0.9928\n",
      "Epoch 23/100\n",
      "12586/12586 [==============================] - 8s 599us/step - loss: 0.0027 - acc: 0.9990 - val_loss: 0.0572 - val_acc: 0.9931\n",
      "Epoch 24/100\n",
      "12586/12586 [==============================] - 8s 610us/step - loss: 0.0025 - acc: 0.9990 - val_loss: 0.0565 - val_acc: 0.9930\n",
      "Epoch 25/100\n",
      "12586/12586 [==============================] - 7s 584us/step - loss: 0.0027 - acc: 0.9990 - val_loss: 0.0567 - val_acc: 0.9917\n",
      "Epoch 26/100\n",
      "12586/12586 [==============================] - 8s 642us/step - loss: 0.0024 - acc: 0.9989 - val_loss: 0.0590 - val_acc: 0.9928\n",
      "Epoch 27/100\n",
      "12586/12586 [==============================] - 9s 690us/step - loss: 0.0028 - acc: 0.9990 - val_loss: 0.0582 - val_acc: 0.9931\n",
      "Epoch 28/100\n",
      "12586/12586 [==============================] - 8s 644us/step - loss: 0.0030 - acc: 0.9991 - val_loss: 0.0568 - val_acc: 0.9933\n",
      "Epoch 29/100\n",
      "12586/12586 [==============================] - 8s 617us/step - loss: 0.0025 - acc: 0.9991 - val_loss: 0.0559 - val_acc: 0.9937\n",
      "Epoch 30/100\n",
      "12586/12586 [==============================] - 12s 992us/step - loss: 0.0024 - acc: 0.9991 - val_loss: 0.0571 - val_acc: 0.9937\n",
      "Epoch 31/100\n",
      "12586/12586 [==============================] - 11s 894us/step - loss: 0.0026 - acc: 0.9990 - val_loss: 0.0567 - val_acc: 0.9935\n",
      "Epoch 32/100\n",
      "12586/12586 [==============================] - 10s 833us/step - loss: 0.0026 - acc: 0.9991 - val_loss: 0.0569 - val_acc: 0.9933\n",
      "Epoch 33/100\n",
      "12586/12586 [==============================] - 9s 690us/step - loss: 0.0024 - acc: 0.9991 - val_loss: 0.0565 - val_acc: 0.9933\n",
      "Epoch 34/100\n",
      "12586/12586 [==============================] - 10s 834us/step - loss: 0.0023 - acc: 0.9990 - val_loss: 0.0588 - val_acc: 0.9933\n",
      "Epoch 35/100\n",
      "12586/12586 [==============================] - 8s 633us/step - loss: 0.0024 - acc: 0.9991 - val_loss: 0.0568 - val_acc: 0.9933\n",
      "Epoch 36/100\n",
      "12586/12586 [==============================] - 8s 647us/step - loss: 0.0023 - acc: 0.9991 - val_loss: 0.0563 - val_acc: 0.9941\n",
      "Epoch 37/100\n",
      "12586/12586 [==============================] - 7s 570us/step - loss: 0.0025 - acc: 0.9990 - val_loss: 0.0572 - val_acc: 0.9943\n",
      "Epoch 38/100\n",
      "12586/12586 [==============================] - 9s 689us/step - loss: 0.0023 - acc: 0.9990 - val_loss: 0.0569 - val_acc: 0.9944\n",
      "Epoch 39/100\n",
      "12586/12586 [==============================] - 8s 639us/step - loss: 0.0022 - acc: 0.9990 - val_loss: 0.0586 - val_acc: 0.9939\n",
      "Epoch 40/100\n",
      "12586/12586 [==============================] - 9s 688us/step - loss: 0.0023 - acc: 0.9990 - val_loss: 0.0584 - val_acc: 0.9933\n",
      "Epoch 41/100\n",
      "12586/12586 [==============================] - 9s 712us/step - loss: 0.0021 - acc: 0.9991 - val_loss: 0.0595 - val_acc: 0.9939\n",
      "Epoch 42/100\n",
      "12586/12586 [==============================] - 8s 641us/step - loss: 0.0022 - acc: 0.9991 - val_loss: 0.0605 - val_acc: 0.9935\n",
      "Epoch 43/100\n",
      "12586/12586 [==============================] - 9s 683us/step - loss: 0.0023 - acc: 0.9991 - val_loss: 0.0623 - val_acc: 0.9931\n",
      "Epoch 44/100\n",
      "12586/12586 [==============================] - 8s 613us/step - loss: 0.0021 - acc: 0.9991 - val_loss: 0.0659 - val_acc: 0.9917\n",
      "Epoch 45/100\n",
      "12586/12586 [==============================] - 8s 628us/step - loss: 0.0022 - acc: 0.9991 - val_loss: 0.0595 - val_acc: 0.9941\n",
      "Epoch 46/100\n",
      "12586/12586 [==============================] - 9s 683us/step - loss: 0.0022 - acc: 0.9991 - val_loss: 0.0606 - val_acc: 0.9937\n",
      "Epoch 47/100\n",
      "12586/12586 [==============================] - 9s 732us/step - loss: 0.0020 - acc: 0.9991 - val_loss: 0.0624 - val_acc: 0.9935\n",
      "Epoch 48/100\n",
      "12586/12586 [==============================] - 9s 680us/step - loss: 0.0023 - acc: 0.9990 - val_loss: 0.0605 - val_acc: 0.9943\n",
      "Epoch 49/100\n",
      "12586/12586 [==============================] - 9s 732us/step - loss: 0.0021 - acc: 0.9991 - val_loss: 0.0615 - val_acc: 0.9937\n",
      "Epoch 50/100\n",
      "12586/12586 [==============================] - 5s 400us/step - loss: 0.0021 - acc: 0.9990 - val_loss: 0.0616 - val_acc: 0.9935\n",
      "Epoch 51/100\n",
      "12586/12586 [==============================] - 5s 391us/step - loss: 0.0020 - acc: 0.9991 - val_loss: 0.0642 - val_acc: 0.9924\n",
      "Epoch 52/100\n",
      "12586/12586 [==============================] - 8s 612us/step - loss: 0.0022 - acc: 0.9991 - val_loss: 0.0620 - val_acc: 0.9933\n",
      "Epoch 53/100\n",
      "12586/12586 [==============================] - 9s 748us/step - loss: 0.0021 - acc: 0.9991 - val_loss: 0.0629 - val_acc: 0.9926\n",
      "Epoch 54/100\n",
      "12586/12586 [==============================] - 11s 877us/step - loss: 0.0021 - acc: 0.9991 - val_loss: 0.0632 - val_acc: 0.9933\n",
      "Epoch 55/100\n",
      "12586/12586 [==============================] - 9s 716us/step - loss: 0.0020 - acc: 0.9990 - val_loss: 0.0637 - val_acc: 0.9943\n",
      "Epoch 56/100\n",
      "12586/12586 [==============================] - 8s 646us/step - loss: 0.0021 - acc: 0.9990 - val_loss: 0.0647 - val_acc: 0.9935\n",
      "Epoch 57/100\n",
      "12586/12586 [==============================] - 11s 914us/step - loss: 0.0020 - acc: 0.9990 - val_loss: 0.0622 - val_acc: 0.9939\n",
      "Epoch 58/100\n",
      "12586/12586 [==============================] - 8s 668us/step - loss: 0.0020 - acc: 0.9991 - val_loss: 0.0649 - val_acc: 0.9928\n",
      "Epoch 59/100\n",
      "12586/12586 [==============================] - 10s 795us/step - loss: 0.0023 - acc: 0.9991 - val_loss: 0.0609 - val_acc: 0.9933\n",
      "Epoch 60/100\n",
      "12586/12586 [==============================] - 9s 724us/step - loss: 0.0020 - acc: 0.9991 - val_loss: 0.0631 - val_acc: 0.9941c: - ETA: 0s - loss: 0.0018 \n",
      "Epoch 61/100\n",
      "12586/12586 [==============================] - 11s 837us/step - loss: 0.0019 - acc: 0.9991 - val_loss: 0.0641 - val_acc: 0.9935\n",
      "Epoch 62/100\n",
      "12586/12586 [==============================] - 11s 914us/step - loss: 0.0020 - acc: 0.9990 - val_loss: 0.0633 - val_acc: 0.9939\n",
      "Epoch 63/100\n",
      "12586/12586 [==============================] - 8s 611us/step - loss: 0.0020 - acc: 0.9990 - val_loss: 0.0632 - val_acc: 0.9935\n",
      "Epoch 64/100\n",
      "12586/12586 [==============================] - 7s 578us/step - loss: 0.0020 - acc: 0.9990 - val_loss: 0.0639 - val_acc: 0.9933\n",
      "Epoch 65/100\n",
      "12586/12586 [==============================] - 7s 522us/step - loss: 0.0020 - acc: 0.9990 - val_loss: 0.0641 - val_acc: 0.9933\n",
      "Epoch 66/100\n",
      "12586/12586 [==============================] - 6s 493us/step - loss: 0.0019 - acc: 0.9990 - val_loss: 0.0660 - val_acc: 0.9924\n",
      "Epoch 67/100\n",
      "12586/12586 [==============================] - 4s 335us/step - loss: 0.0023 - acc: 0.9991 - val_loss: 0.0626 - val_acc: 0.9935\n",
      "Epoch 68/100\n",
      "12586/12586 [==============================] - 7s 574us/step - loss: 0.0019 - acc: 0.9991 - val_loss: 0.0633 - val_acc: 0.9935\n",
      "Epoch 69/100\n",
      "12586/12586 [==============================] - 7s 543us/step - loss: 0.0020 - acc: 0.9990 - val_loss: 0.0628 - val_acc: 0.9943\n",
      "Epoch 70/100\n",
      "12586/12586 [==============================] - 7s 572us/step - loss: 0.0020 - acc: 0.9989 - val_loss: 0.0661 - val_acc: 0.9933\n",
      "Epoch 71/100\n",
      "12586/12586 [==============================] - 8s 667us/step - loss: 0.0020 - acc: 0.9990 - val_loss: 0.0644 - val_acc: 0.9939\n",
      "Epoch 72/100\n",
      "12586/12586 [==============================] - 7s 592us/step - loss: 0.0020 - acc: 0.9992 - val_loss: 0.0644 - val_acc: 0.9931\n",
      "Epoch 73/100\n",
      "12586/12586 [==============================] - 7s 561us/step - loss: 0.0019 - acc: 0.9993 - val_loss: 0.0676 - val_acc: 0.9918\n",
      "Epoch 74/100\n",
      "12586/12586 [==============================] - 9s 712us/step - loss: 0.0020 - acc: 0.9991 - val_loss: 0.0643 - val_acc: 0.9935\n",
      "Epoch 75/100\n",
      "12586/12586 [==============================] - 7s 592us/step - loss: 0.0019 - acc: 0.9993 - val_loss: 0.0641 - val_acc: 0.9939\n",
      "Epoch 76/100\n",
      "12586/12586 [==============================] - 10s 817us/step - loss: 0.0020 - acc: 0.9993 - val_loss: 0.0668 - val_acc: 0.9920\n",
      "Epoch 77/100\n",
      "12586/12586 [==============================] - 10s 779us/step - loss: 0.0022 - acc: 0.9992 - val_loss: 0.0662 - val_acc: 0.9930\n",
      "Epoch 78/100\n",
      "12586/12586 [==============================] - 11s 902us/step - loss: 0.0019 - acc: 0.9991 - val_loss: 0.0630 - val_acc: 0.9943\n",
      "Epoch 79/100\n",
      "12586/12586 [==============================] - 9s 689us/step - loss: 0.0020 - acc: 0.9993 - val_loss: 0.0655 - val_acc: 0.9935\n",
      "Epoch 80/100\n",
      "12586/12586 [==============================] - 7s 553us/step - loss: 0.0020 - acc: 0.9994 - val_loss: 0.0654 - val_acc: 0.9933\n",
      "Epoch 81/100\n",
      "12586/12586 [==============================] - 6s 477us/step - loss: 0.0019 - acc: 0.9992 - val_loss: 0.0650 - val_acc: 0.9935\n",
      "Epoch 82/100\n",
      "12586/12586 [==============================] - 8s 636us/step - loss: 0.0021 - acc: 0.9994 - val_loss: 0.0655 - val_acc: 0.9924\n",
      "Epoch 83/100\n",
      "12586/12586 [==============================] - 7s 584us/step - loss: 0.0020 - acc: 0.9992 - val_loss: 0.0646 - val_acc: 0.9941\n",
      "Epoch 84/100\n",
      "12586/12586 [==============================] - 6s 513us/step - loss: 0.0020 - acc: 0.9993 - val_loss: 0.0645 - val_acc: 0.9941\n",
      "Epoch 85/100\n",
      "12586/12586 [==============================] - 9s 700us/step - loss: 0.0020 - acc: 0.9993 - val_loss: 0.0643 - val_acc: 0.9939\n",
      "Epoch 86/100\n",
      "12586/12586 [==============================] - 12s 946us/step - loss: 0.0020 - acc: 0.9993 - val_loss: 0.0642 - val_acc: 0.9930\n",
      "Epoch 87/100\n",
      "12586/12586 [==============================] - 8s 648us/step - loss: 0.0021 - acc: 0.9994 - val_loss: 0.0663 - val_acc: 0.9935\n",
      "Epoch 88/100\n",
      "12586/12586 [==============================] - 9s 727us/step - loss: 0.0020 - acc: 0.9994 - val_loss: 0.0621 - val_acc: 0.9943\n",
      "Epoch 89/100\n",
      "12586/12586 [==============================] - 8s 672us/step - loss: 0.0021 - acc: 0.9994 - val_loss: 0.0618 - val_acc: 0.9941\n",
      "Epoch 90/100\n",
      "12586/12586 [==============================] - 7s 553us/step - loss: 0.0019 - acc: 0.9992 - val_loss: 0.0644 - val_acc: 0.9933\n",
      "Epoch 91/100\n",
      "12586/12586 [==============================] - 4s 324us/step - loss: 0.0020 - acc: 0.9993 - val_loss: 0.0641 - val_acc: 0.9941\n",
      "Epoch 92/100\n",
      "12586/12586 [==============================] - 4s 290us/step - loss: 0.0019 - acc: 0.9993 - val_loss: 0.0644 - val_acc: 0.9937\n",
      "Epoch 93/100\n",
      "12586/12586 [==============================] - 5s 383us/step - loss: 0.0020 - acc: 0.9992 - val_loss: 0.0642 - val_acc: 0.9941\n",
      "Epoch 94/100\n",
      "12586/12586 [==============================] - 4s 319us/step - loss: 0.0020 - acc: 0.9993 - val_loss: 0.0647 - val_acc: 0.9941\n",
      "Epoch 95/100\n",
      "12586/12586 [==============================] - 4s 333us/step - loss: 0.0019 - acc: 0.9993 - val_loss: 0.0646 - val_acc: 0.9944\n",
      "Epoch 96/100\n",
      "12586/12586 [==============================] - 6s 445us/step - loss: 0.0020 - acc: 0.9993 - val_loss: 0.0649 - val_acc: 0.9939\n",
      "Epoch 97/100\n",
      "12586/12586 [==============================] - 4s 347us/step - loss: 0.0020 - acc: 0.9992 - val_loss: 0.0653 - val_acc: 0.9943\n",
      "Epoch 98/100\n",
      "12586/12586 [==============================] - 4s 343us/step - loss: 0.0020 - acc: 0.9993 - val_loss: 0.0639 - val_acc: 0.9941\n",
      "Epoch 99/100\n",
      "12586/12586 [==============================] - 4s 342us/step - loss: 0.0020 - acc: 0.9993 - val_loss: 0.0637 - val_acc: 0.9944\n",
      "Epoch 100/100\n",
      "12586/12586 [==============================] - 5s 424us/step - loss: 0.0019 - acc: 0.9993 - val_loss: 0.0644 - val_acc: 0.9933\n"
     ]
    },
    {
     "data": {
      "text/plain": [
       "<keras.callbacks.History at 0x2301aaacdd8>"
      ]
     },
     "execution_count": 31,
     "metadata": {},
     "output_type": "execute_result"
    }
   ],
   "source": [
    "model.fit(X_tr, y_tr, batch_size=32, epochs=100, verbose=1, validation_data=(X_te, y_te))"
   ]
  },
  {
   "cell_type": "code",
   "execution_count": 32,
   "metadata": {},
   "outputs": [
    {
     "name": "stdout",
     "output_type": "stream",
     "text": [
      "5394/5394 [==============================] - 1s 205us/step\n"
     ]
    }
   ],
   "source": [
    "score = model.evaluate(X_te, y_te, batch_size=32)"
   ]
  },
  {
   "cell_type": "code",
   "execution_count": 33,
   "metadata": {},
   "outputs": [],
   "source": [
    "y_pred = model.predict(X_te, batch_size=32)"
   ]
  },
  {
   "cell_type": "markdown",
   "metadata": {},
   "source": [
    "### Create a deep learning model with keras and compare to the random forest"
   ]
  },
  {
   "cell_type": "code",
   "execution_count": 34,
   "metadata": {},
   "outputs": [],
   "source": [
    "from sklearn.metrics import roc_curve\n",
    "y_pred_keras = model.predict(X_te_tfidf).ravel()\n",
    "fpr_keras, tpr_keras, thresholds_keras = roc_curve(y_te, y_pred_keras)"
   ]
  },
  {
   "cell_type": "code",
   "execution_count": 35,
   "metadata": {},
   "outputs": [],
   "source": [
    "y_pred_keras = model.predict(X_te_tfidf, batch_size=32).ravel()"
   ]
  },
  {
   "cell_type": "code",
   "execution_count": 52,
   "metadata": {},
   "outputs": [],
   "source": [
    "y_pred_keras2 = np.squeeze(model.predict(X_te_tfidf))\n",
    "threshold = 0.5"
   ]
  },
  {
   "cell_type": "code",
   "execution_count": 53,
   "metadata": {},
   "outputs": [
    {
     "name": "stdout",
     "output_type": "stream",
     "text": [
      "             precision    recall  f1-score   support\n",
      "\n",
      "          0       0.99      0.99      0.99      2215\n",
      "          1       0.99      1.00      0.99      3179\n",
      "\n",
      "avg / total       0.99      0.99      0.99      5394\n",
      "\n"
     ]
    }
   ],
   "source": [
    "from sklearn.metrics import classification_report\n",
    "print(classification_report(y_te, y_pred_keras2 > threshold))"
   ]
  },
  {
   "cell_type": "code",
   "execution_count": 54,
   "metadata": {},
   "outputs": [],
   "source": [
    "fpr_keras, tpr_keras, thresholds_keras = roc_curve(y_te, y_pred_keras)"
   ]
  },
  {
   "cell_type": "code",
   "execution_count": 55,
   "metadata": {},
   "outputs": [],
   "source": [
    "from sklearn.metrics import auc\n",
    "auc_keras = auc(fpr_keras, tpr_keras)"
   ]
  },
  {
   "cell_type": "code",
   "execution_count": 56,
   "metadata": {},
   "outputs": [],
   "source": [
    "y_pred_rf = rf.predict_proba(X_te_tfidf)[:, 1]\n",
    "fpr_rf, tpr_rf, thresholds_rf = roc_curve(y_te, y_pred_rf)\n",
    "auc_rf = auc(fpr_rf, tpr_rf)"
   ]
  },
  {
   "cell_type": "code",
   "execution_count": 57,
   "metadata": {},
   "outputs": [
    {
     "data": {
      "image/png": "[encoded data removed]",
      "text/plain": [
       "<matplotlib.figure.Figure at 0x2301c209eb8>"
      ]
     },
     "metadata": {},
     "output_type": "display_data"
    },
    {
     "data": {
      "image/png": "[encoded data removed]",
      "text/plain": [
       "<matplotlib.figure.Figure at 0x2301c1ea2b0>"
      ]
     },
     "metadata": {},
     "output_type": "display_data"
    }
   ],
   "source": [
    "plt.figure(1)\n",
    "plt.plot([0, 1], [0, 1], 'k--')\n",
    "plt.plot(fpr_keras, tpr_keras, label='Keras (area = {:.3f})'.format(auc_keras))\n",
    "plt.plot(fpr_rf, tpr_rf, label='RF (area = {:.3f})'.format(auc_rf))\n",
    "plt.xlabel('False positive rate')\n",
    "plt.ylabel('True positive rate')\n",
    "plt.title('ROC curve')\n",
    "plt.legend(loc='best')\n",
    "plt.show()\n",
    "# Zoom in view of the upper left corner.\n",
    "plt.figure(2)\n",
    "plt.xlim(0, 0.2)\n",
    "plt.ylim(0.98, 1)\n",
    "plt.plot([0, 1], [0, 1], 'k--')\n",
    "plt.plot(fpr_keras, tpr_keras, label='Keras (area = {:.3f})'.format(auc_keras))\n",
    "plt.plot(fpr_rf, tpr_rf, label='RF (area = {:.3f})'.format(auc_rf))\n",
    "plt.xlabel('False positive rate')\n",
    "plt.ylabel('True positive rate')\n",
    "plt.title('ROC curve (zoomed in at top left)')\n",
    "plt.legend(loc='best')\n",
    "plt.show()"
   ]
  },
  {
   "cell_type": "code",
   "execution_count": 59,
   "metadata": {},
   "outputs": [],
   "source": [
    "y_pred_classes = []\n",
    "for i in y_pred:\n",
    "    if i > .5:\n",
    "        y_pred_classes.append(1)\n",
    "    else:\n",
    "        y_pred_classes.append(0)"
   ]
  },
  {
   "cell_type": "code",
   "execution_count": 60,
   "metadata": {},
   "outputs": [
    {
     "data": {
      "image/png": "[encoded data removed]",
      "text/plain": [
       "<matplotlib.figure.Figure at 0x2301d344c88>"
      ]
     },
     "metadata": {},
     "output_type": "display_data"
    }
   ],
   "source": [
    "# Plot the confusion matrix\n",
    "from sklearn.metrics import confusion_matrix\n",
    "confmat_y = confusion_matrix(y_test, y_pred)\n",
    "\n",
    "fig, ax = plt.subplots(figsize=(6, 6))\n",
    "ax.matshow(confmat_y, cmap=plt.cm.Blues, alpha=0.3)\n",
    "for i in range(confmat_y.shape[0]):\n",
    "    for j in range(confmat_y.shape[1]):\n",
    "        ax.text(x=j, y=i, s=confmat_y[i, j], va='center', ha='center')\n",
    "\n",
    "plt.xlabel('Predicted label')\n",
    "plt.ylabel('True label')\n",
    "plt.xticks([0, 1], ['Commercial', 'Residential'])\n",
    "plt.yticks([0, 1], ['Commercial', 'Residential'], rotation='vertical', va='center')\n",
    "ax.grid(False)\n",
    "plt.tight_layout()\n",
    "plt.show()"
   ]
  },
  {
   "cell_type": "markdown",
   "metadata": {},
   "source": [
    "### Convert predictions to text labels and join with the main dataframe to see where the errors occurred "
   ]
  },
  {
   "cell_type": "code",
   "execution_count": 54,
   "metadata": {},
   "outputs": [
    {
     "ename": "NameError",
     "evalue": "name 'y_pred_classes' is not defined",
     "output_type": "error",
     "traceback": [
      "\u001b[1;31m---------------------------------------------------------------------------\u001b[0m",
      "\u001b[1;31mNameError\u001b[0m                                 Traceback (most recent call last)",
      "\u001b[1;32m<ipython-input-54-c2322f8beff5>\u001b[0m in \u001b[0;36m<module>\u001b[1;34m()\u001b[0m\n\u001b[1;32m----> 1\u001b[1;33m \u001b[0mreal_v_pred\u001b[0m \u001b[1;33m=\u001b[0m \u001b[0mpd\u001b[0m\u001b[1;33m.\u001b[0m\u001b[0mconcat\u001b[0m\u001b[1;33m(\u001b[0m\u001b[1;33m[\u001b[0m\u001b[0my_te\u001b[0m\u001b[1;33m.\u001b[0m\u001b[0mreset_index\u001b[0m\u001b[1;33m(\u001b[0m\u001b[1;33m)\u001b[0m\u001b[1;33m,\u001b[0m \u001b[0mpd\u001b[0m\u001b[1;33m.\u001b[0m\u001b[0mSeries\u001b[0m\u001b[1;33m(\u001b[0m\u001b[0my_pred_classes\u001b[0m\u001b[1;33m)\u001b[0m\u001b[1;33m]\u001b[0m\u001b[1;33m,\u001b[0m \u001b[0maxis\u001b[0m\u001b[1;33m=\u001b[0m\u001b[1;36m1\u001b[0m\u001b[1;33m,\u001b[0m \u001b[0mjoin\u001b[0m\u001b[1;33m=\u001b[0m\u001b[1;34m'inner'\u001b[0m\u001b[1;33m,\u001b[0m \u001b[0mignore_index\u001b[0m\u001b[1;33m=\u001b[0m\u001b[1;32mTrue\u001b[0m\u001b[1;33m)\u001b[0m\u001b[1;33m.\u001b[0m\u001b[0mreset_index\u001b[0m\u001b[1;33m(\u001b[0m\u001b[0mdrop\u001b[0m\u001b[1;33m=\u001b[0m\u001b[1;32mTrue\u001b[0m\u001b[1;33m)\u001b[0m\u001b[1;33m.\u001b[0m\u001b[0mset_index\u001b[0m\u001b[1;33m(\u001b[0m\u001b[1;33m[\u001b[0m\u001b[1;36m1\u001b[0m\u001b[1;33m]\u001b[0m\u001b[1;33m)\u001b[0m\u001b[1;33m\u001b[0m\u001b[0m\n\u001b[0m",
      "\u001b[1;31mNameError\u001b[0m: name 'y_pred_classes' is not defined"
     ]
    }
   ],
   "source": [
    "real_v_pred = pd.concat([y_te.reset_index(), pd.Series(y_pred_classes)], axis=1, join='inner', ignore_index=True).reset_index(drop=True).set_index([1])"
   ]
  },
  {
   "cell_type": "code",
   "execution_count": null,
   "metadata": {},
   "outputs": [],
   "source": [
    "real_v_pred.reset_index(inplace=True)\n",
    "real_v_pred.columns = ['test', 'index', 'pred']"
   ]
  },
  {
   "cell_type": "code",
   "execution_count": null,
   "metadata": {},
   "outputs": [],
   "source": [
    "errors = real_v_pred[real_v_pred.test != real_v_pred.pred]\n",
    "errors.set_index(keys='index', inplace=True)"
   ]
  },
  {
   "cell_type": "code",
   "execution_count": null,
   "metadata": {},
   "outputs": [],
   "source": [
    "df_errors = df.join(errors, how='inner')"
   ]
  },
  {
   "cell_type": "markdown",
   "metadata": {},
   "source": [
    "### Descriptions of where 'Residential' was misclassified"
   ]
  },
  {
   "cell_type": "code",
   "execution_count": null,
   "metadata": {},
   "outputs": [],
   "source": [
    "for row in df_errors['description'][df_errors.usetype == 'Residential']:\n",
    "    print(\"-\", row)"
   ]
  },
  {
   "cell_type": "markdown",
   "metadata": {},
   "source": [
    "### Descriptions of where 'Commercial' was misclassified"
   ]
  },
  {
   "cell_type": "code",
   "execution_count": null,
   "metadata": {},
   "outputs": [],
   "source": [
    "for row in df_errors['description'][df_errors.usetype == 'Commercial']:\n",
    "    print(\"-\", row)"
   ]
  }
 ],
 "metadata": {
  "kernelspec": {
   "display_name": "Python 3",
   "language": "python",
   "name": "python3"
  },
  "language_info": {
   "codemirror_mode": {
    "name": "ipython",
    "version": 3
   },
   "file_extension": ".py",
   "mimetype": "text/x-python",
   "name": "python",
   "nbconvert_exporter": "python",
   "pygments_lexer": "ipython3",
   "version": "3.6.4"
  }
 },
 "nbformat": 4,
 "nbformat_minor": 1
}
