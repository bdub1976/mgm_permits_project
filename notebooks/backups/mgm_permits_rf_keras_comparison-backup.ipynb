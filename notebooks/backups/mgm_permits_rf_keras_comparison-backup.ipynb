{
 "cells": [
  {
   "cell_type": "code",
   "execution_count": 1,
   "metadata": {},
   "outputs": [],
   "source": [
    "import numpy as np\n",
    "import pandas as pd\n",
    "import matplotlib.pyplot as plt\n",
    "from sklearn.feature_extraction import text\n",
    "from sklearn.ensemble import RandomForestClassifier\n",
    "from sklearn.model_selection import train_test_split\n",
    "from sklearn.metrics import accuracy_score\n",
    "from sklearn.model_selection import cross_val_score\n",
    "from scipy import interp\n",
    "from sklearn.metrics import roc_curve, auc\n",
    "from sklearn.preprocessing import label_binarize"
   ]
  },
  {
   "cell_type": "markdown",
   "metadata": {},
   "source": [
    "### Load the data"
   ]
  },
  {
   "cell_type": "code",
   "execution_count": 2,
   "metadata": {},
   "outputs": [],
   "source": [
    "#open the locally saved csv\n",
    "df = pd.read_csv('C:/Users/595217/general-assembly/project-final/data/mgm.csv', usecols=['description', 'jobtype', 'usetype'])"
   ]
  },
  {
   "cell_type": "code",
   "execution_count": 3,
   "metadata": {},
   "outputs": [
    {
     "name": "stdout",
     "output_type": "stream",
     "text": [
      "<class 'pandas.core.frame.DataFrame'>\n",
      "RangeIndex: 18000 entries, 0 to 17999\n",
      "Data columns (total 3 columns):\n",
      "description    18000 non-null object\n",
      "jobtype        18000 non-null object\n",
      "usetype        18000 non-null object\n",
      "dtypes: object(3)\n",
      "memory usage: 422.0+ KB\n"
     ]
    }
   ],
   "source": [
    "df.info()"
   ]
  },
  {
   "cell_type": "markdown",
   "metadata": {},
   "source": [
    "### Create the features and target variables"
   ]
  },
  {
   "cell_type": "code",
   "execution_count": 4,
   "metadata": {},
   "outputs": [],
   "source": [
    "df = df[df.usetype != 'Mixed Occupancy']"
   ]
  },
  {
   "cell_type": "code",
   "execution_count": 5,
   "metadata": {},
   "outputs": [],
   "source": [
    "X = df['description']\n",
    "y = df['usetype']\n",
    "z = df['jobtype']"
   ]
  },
  {
   "cell_type": "code",
   "execution_count": 6,
   "metadata": {},
   "outputs": [],
   "source": [
    "y = y.map({'Commercial': 0, 'Residential': 1})\n",
    "z = z.map({'New': 0, 'Existing': 1, 'Alteration': 2, 'Repair': 3, 'Other': 4, 'Addition': 5})"
   ]
  },
  {
   "cell_type": "code",
   "execution_count": 7,
   "metadata": {
    "scrolled": true
   },
   "outputs": [
    {
     "data": {
      "text/plain": [
       "(1    10651\n",
       " 0     7329\n",
       " Name: usetype, dtype: int64, 0    4906\n",
       " 1    4137\n",
       " 2    3127\n",
       " 3    2386\n",
       " 4    2275\n",
       " 5    1149\n",
       " Name: jobtype, dtype: int64)"
      ]
     },
     "execution_count": 7,
     "metadata": {},
     "output_type": "execute_result"
    }
   ],
   "source": [
    "y.value_counts(), z.value_counts()"
   ]
  },
  {
   "cell_type": "code",
   "execution_count": 8,
   "metadata": {},
   "outputs": [],
   "source": [
    "# y_bin = label_binarize(y, classes=[0,1,2])\n",
    "# n_y_bin_classes = y_bin.shape[1]\n",
    "z_bin = label_binarize(z, classes=[0,1,2,3,4,5])\n",
    "n_z_bin_classes = z_bin.shape[1]"
   ]
  },
  {
   "cell_type": "code",
   "execution_count": 10,
   "metadata": {},
   "outputs": [],
   "source": [
    "X_tr, X_te, y_tr, y_te, = train_test_split(X, y, test_size=0.30, random_state=42)"
   ]
  },
  {
   "cell_type": "code",
   "execution_count": 16,
   "metadata": {},
   "outputs": [
    {
     "data": {
      "text/plain": [
       "26178"
      ]
     },
     "execution_count": 16,
     "metadata": {},
     "output_type": "execute_result"
    }
   ],
   "source": [
    "# create the BOW representation\n",
    "bow_transform = text.CountVectorizer(min_df=4, \n",
    "                                     stop_words=\"english\", \n",
    "                                     ngram_range=(1, 4), max_features=1_000_000)\n",
    "X_tr_bow = bow_transform.fit_transform(X_tr)\n",
    "X_te_bow = bow_transform.transform(X_te)\n",
    "len(bow_transform.vocabulary_)"
   ]
  },
  {
   "cell_type": "code",
   "execution_count": 17,
   "metadata": {},
   "outputs": [
    {
     "data": {
      "text/plain": [
       "(5394, 26178)"
      ]
     },
     "execution_count": 17,
     "metadata": {},
     "output_type": "execute_result"
    }
   ],
   "source": [
    "#create tf-idf representation using the bow matrix\n",
    "tfidf_trfm = text.TfidfTransformer(norm=None)\n",
    "X_tr_tfidf = tfidf_trfm.fit_transform(X_tr_bow)\n",
    "X_te_tfidf = tfidf_trfm.transform(X_te_bow)\n",
    "X_te_tfidf.shape"
   ]
  },
  {
   "cell_type": "code",
   "execution_count": 21,
   "metadata": {},
   "outputs": [],
   "source": [
    "def tokenize_test(vect):\n",
    "    X_train_dtm = vect.fit_transform(X_train)\n",
    "    print(('Features: ', X_train_dtm.shape[1]))\n",
    "    X_test_dtm = vect.transform(X_test)\n",
    "    nb = MultinomialNB()\n",
    "    nb.fit(X_train_dtm, y_train)\n",
    "    y_pred_class = nb.predict(X_test_dtm)\n",
    "    print(('Accuracy: ', metrics.accuracy_score(y_test, y_pred_class)))"
   ]
  },
  {
   "cell_type": "code",
   "execution_count": 20,
   "metadata": {},
   "outputs": [],
   "source": [
    "vect = bow_transform"
   ]
  },
  {
   "cell_type": "code",
   "execution_count": 19,
   "metadata": {},
   "outputs": [
    {
     "ename": "NameError",
     "evalue": "name 'tokenize_test' is not defined",
     "output_type": "error",
     "traceback": [
      "\u001b[1;31m---------------------------------------------------------------------------\u001b[0m",
      "\u001b[1;31mNameError\u001b[0m                                 Traceback (most recent call last)",
      "\u001b[1;32m<ipython-input-19-c3935e39249f>\u001b[0m in \u001b[0;36m<module>\u001b[1;34m()\u001b[0m\n\u001b[1;32m----> 1\u001b[1;33m \u001b[0mtokenize_test\u001b[0m\u001b[1;33m(\u001b[0m\u001b[0mbow_transform\u001b[0m\u001b[1;33m)\u001b[0m\u001b[1;33m\u001b[0m\u001b[0m\n\u001b[0m\u001b[0;32m      2\u001b[0m \u001b[0mbow_transform\u001b[0m\u001b[1;33m.\u001b[0m\u001b[0mget_params\u001b[0m\u001b[1;33m(\u001b[0m\u001b[1;33m)\u001b[0m\u001b[1;33m\u001b[0m\u001b[0m\n",
      "\u001b[1;31mNameError\u001b[0m: name 'tokenize_test' is not defined"
     ]
    }
   ],
   "source": [
    "tokenize_test(vact)\n",
    "vect.get_params()"
   ]
  },
  {
   "cell_type": "code",
   "execution_count": 18,
   "metadata": {},
   "outputs": [
    {
     "name": "stdout",
     "output_type": "stream",
     "text": [
      "['yard 10 structures meet', 'yard 30', 'yard 30 rear', 'yard 30 rear yard', 'yard comply', 'yard comply state', 'yard comply state energy', 'yard coverage', 'yard existing', 'yard existing dwelling', 'yard existing dwelling meet', 'yard existing single', 'yard existing single family', 'yard foundation', 'yard foundation framing', 'yard foundation framing inspection', 'yard meet', 'yard meet applicable', 'yard meet applicable codes', 'yard property', 'yard property line', 'yard setback', 'yard setback flood', 'yard setback flood elev', 'yard variance', 'yard variance addition', 'yard variance addition come', 'yard variance maintain', 'yard variance maintain 14', 'yard yard', 'yards', 'yards meet', 'yards meet applicable', 'yards meet applicable codes', 'year', 'yoga', 'yoga studio', 'yoga studio inspections', 'yoga studio inspections required', 'youth', 'youth facility', 'zone', 'zoning', 'zoning approval', 'zoning comply', 'zoning comply state', 'zoning comply state energy', 'zoning dept', 'zoning james', 'zoning james center']\n"
     ]
    }
   ],
   "source": [
    "print((bow_transform.get_feature_names()[-50:]))"
   ]
  },
  {
   "cell_type": "markdown",
   "metadata": {},
   "source": [
    "### Instantiate a random forest classifier, run on the target variables and score the model"
   ]
  },
  {
   "cell_type": "code",
   "execution_count": 12,
   "metadata": {},
   "outputs": [],
   "source": [
    "#instantiate the classifier\n",
    "rf = RandomForestClassifier()"
   ]
  },
  {
   "cell_type": "code",
   "execution_count": 13,
   "metadata": {},
   "outputs": [
    {
     "data": {
      "text/plain": [
       "RandomForestClassifier(bootstrap=True, class_weight=None, criterion='gini',\n",
       "            max_depth=None, max_features='auto', max_leaf_nodes=None,\n",
       "            min_impurity_decrease=0.0, min_impurity_split=None,\n",
       "            min_samples_leaf=1, min_samples_split=2,\n",
       "            min_weight_fraction_leaf=0.0, n_estimators=10, n_jobs=1,\n",
       "            oob_score=False, random_state=None, verbose=0,\n",
       "            warm_start=False)"
      ]
     },
     "execution_count": 13,
     "metadata": {},
     "output_type": "execute_result"
    }
   ],
   "source": [
    "rf.fit(X_tr_tfidf, y_tr)"
   ]
  },
  {
   "cell_type": "code",
   "execution_count": 14,
   "metadata": {},
   "outputs": [
    {
     "name": "stdout",
     "output_type": "stream",
     "text": [
      "RandomForestClassifier 0.9933899905571294\n"
     ]
    }
   ],
   "source": [
    "y_pred = rf.predict(X_te_tfidf)\n",
    "print(rf.__class__.__name__, accuracy_score(y_te, y_pred))"
   ]
  },
  {
   "cell_type": "code",
   "execution_count": 15,
   "metadata": {},
   "outputs": [],
   "source": [
    "def display_scores(scores):\n",
    "    print(\"Scores:\", scores)\n",
    "    print(\"Mean:\", scores.mean())\n",
    "    print(\"StDev:\", scores.std())"
   ]
  },
  {
   "cell_type": "code",
   "execution_count": 16,
   "metadata": {},
   "outputs": [],
   "source": [
    "y_tr_tfidf_scores = cross_val_score(rf, X_tr_tfidf, y_tr, cv=10, scoring=\"accuracy\")"
   ]
  },
  {
   "cell_type": "code",
   "execution_count": 17,
   "metadata": {},
   "outputs": [
    {
     "name": "stdout",
     "output_type": "stream",
     "text": [
      "Scores: [0.99352751 0.99595469 0.99514563 0.99595469 0.99029126 0.99110032\n",
      " 0.99190939 0.98541329 0.99027553 0.99270665]\n",
      "Mean: 0.9922278957058112\n",
      "StDev: 0.0030591406276746004\n"
     ]
    }
   ],
   "source": [
    "display_scores(y_tr_tfidf_scores)"
   ]
  },
  {
   "cell_type": "code",
   "execution_count": 18,
   "metadata": {},
   "outputs": [],
   "source": [
    "y_te_tfidf_scores = cross_val_score(rf, X_te_tfidf, y_te, cv=10, scoring=\"accuracy\")"
   ]
  },
  {
   "cell_type": "code",
   "execution_count": 19,
   "metadata": {},
   "outputs": [
    {
     "name": "stdout",
     "output_type": "stream",
     "text": [
      "Scores: [0.98681733 0.98870056 0.99245283 0.98865784 0.98298677 0.98865784\n",
      " 0.98109641 0.98865784 0.98865784 0.97731569]\n",
      "Mean: 0.98640009667075\n",
      "StDev: 0.004298812611257222\n"
     ]
    }
   ],
   "source": [
    "display_scores(y_te_tfidf_scores)"
   ]
  },
  {
   "cell_type": "code",
   "execution_count": 20,
   "metadata": {
    "scrolled": true
   },
   "outputs": [
    {
     "name": "stderr",
     "output_type": "stream",
     "text": [
      "C:\\Users\\595217\\AppData\\Local\\Continuum\\anaconda3\\lib\\site-packages\\h5py\\__init__.py:36: FutureWarning: Conversion of the second argument of issubdtype from `float` to `np.floating` is deprecated. In future, it will be treated as `np.float64 == np.dtype(float).type`.\n",
      "  from ._conv import register_converters as _register_converters\n",
      "Using TensorFlow backend.\n"
     ]
    }
   ],
   "source": [
    "import tensorflow as tf\n",
    "from keras.models import Sequential\n",
    "from keras.layers import Dense"
   ]
  },
  {
   "cell_type": "code",
   "execution_count": 21,
   "metadata": {},
   "outputs": [],
   "source": [
    "model = Sequential()"
   ]
  },
  {
   "cell_type": "code",
   "execution_count": 22,
   "metadata": {},
   "outputs": [],
   "source": [
    "model.add(Dense(12, input_dim=8190, kernel_initializer='uniform', activation='relu'))\n",
    "model.add(Dense(8, input_dim=8190, kernel_initializer='uniform', activation='relu'))\n",
    "model.add(Dense(8, input_dim=8190, kernel_initializer='uniform', activation='relu'))\n",
    "model.add(Dense(1, input_dim=8190, kernel_initializer='uniform', activation='sigmoid'))"
   ]
  },
  {
   "cell_type": "code",
   "execution_count": 23,
   "metadata": {},
   "outputs": [
    {
     "data": {
      "text/plain": [
       "(None, 1)"
      ]
     },
     "execution_count": 23,
     "metadata": {},
     "output_type": "execute_result"
    }
   ],
   "source": [
    "model.output_shape"
   ]
  },
  {
   "cell_type": "code",
   "execution_count": 24,
   "metadata": {},
   "outputs": [
    {
     "name": "stdout",
     "output_type": "stream",
     "text": [
      "_________________________________________________________________\n",
      "Layer (type)                 Output Shape              Param #   \n",
      "=================================================================\n",
      "dense_1 (Dense)              (None, 12)                98292     \n",
      "_________________________________________________________________\n",
      "dense_2 (Dense)              (None, 8)                 104       \n",
      "_________________________________________________________________\n",
      "dense_3 (Dense)              (None, 8)                 72        \n",
      "_________________________________________________________________\n",
      "dense_4 (Dense)              (None, 1)                 9         \n",
      "=================================================================\n",
      "Total params: 98,477\n",
      "Trainable params: 98,477\n",
      "Non-trainable params: 0\n",
      "_________________________________________________________________\n"
     ]
    }
   ],
   "source": [
    "model.summary()"
   ]
  },
  {
   "cell_type": "code",
   "execution_count": 25,
   "metadata": {},
   "outputs": [],
   "source": [
    "model.compile(optimizer='adam', loss='binary_crossentropy', metrics=['accuracy'])"
   ]
  },
  {
   "cell_type": "code",
   "execution_count": 26,
   "metadata": {},
   "outputs": [
    {
     "name": "stdout",
     "output_type": "stream",
     "text": [
      "Train on 12354 samples, validate on 5295 samples\n",
      "Epoch 1/100\n",
      "12354/12354 [==============================] - 3s 262us/step - loss: 0.1952 - acc: 0.9433 - val_loss: 0.0385 - val_acc: 0.9932\n",
      "Epoch 2/100\n",
      "12354/12354 [==============================] - 3s 275us/step - loss: 0.0388 - acc: 0.9926 - val_loss: 0.0348 - val_acc: 0.9930\n",
      "Epoch 3/100\n",
      "12354/12354 [==============================] - 3s 268us/step - loss: 0.0242 - acc: 0.9944 - val_loss: 0.0322 - val_acc: 0.9930\n",
      "Epoch 4/100\n",
      "12354/12354 [==============================] - 4s 314us/step - loss: 0.0159 - acc: 0.9964 - val_loss: 0.0318 - val_acc: 0.9930\n",
      "Epoch 5/100\n",
      "12354/12354 [==============================] - 3s 232us/step - loss: 0.0110 - acc: 0.9971 - val_loss: 0.0323 - val_acc: 0.9930\n",
      "Epoch 6/100\n",
      "12354/12354 [==============================] - 3s 231us/step - loss: 0.0070 - acc: 0.9983 - val_loss: 0.0353 - val_acc: 0.9917\n",
      "Epoch 7/100\n",
      "12354/12354 [==============================] - 3s 252us/step - loss: 0.0057 - acc: 0.9985 - val_loss: 0.0398 - val_acc: 0.9923\n",
      "Epoch 8/100\n",
      "12354/12354 [==============================] - 3s 230us/step - loss: 0.0048 - acc: 0.9986 - val_loss: 0.0474 - val_acc: 0.9911\n",
      "Epoch 9/100\n",
      "12354/12354 [==============================] - 3s 278us/step - loss: 0.0039 - acc: 0.9987 - val_loss: 0.0433 - val_acc: 0.9924\n",
      "Epoch 10/100\n",
      "12354/12354 [==============================] - 3s 239us/step - loss: 0.0031 - acc: 0.9989 - val_loss: 0.0429 - val_acc: 0.9924\n",
      "Epoch 11/100\n",
      "12354/12354 [==============================] - 3s 233us/step - loss: 0.0027 - acc: 0.9990 - val_loss: 0.0546 - val_acc: 0.9907\n",
      "Epoch 12/100\n",
      "12354/12354 [==============================] - 3s 230us/step - loss: 0.0032 - acc: 0.9988 - val_loss: 0.0477 - val_acc: 0.9919\n",
      "Epoch 13/100\n",
      "12354/12354 [==============================] - 3s 231us/step - loss: 0.0024 - acc: 0.9991 - val_loss: 0.0523 - val_acc: 0.9921\n",
      "Epoch 14/100\n",
      "12354/12354 [==============================] - 3s 261us/step - loss: 0.0019 - acc: 0.9994 - val_loss: 0.0534 - val_acc: 0.9913\n",
      "Epoch 15/100\n",
      "12354/12354 [==============================] - 3s 259us/step - loss: 0.0018 - acc: 0.9995 - val_loss: 0.0545 - val_acc: 0.9923\n",
      "Epoch 16/100\n",
      "12354/12354 [==============================] - 3s 232us/step - loss: 0.0021 - acc: 0.9992 - val_loss: 0.0625 - val_acc: 0.9907\n",
      "Epoch 17/100\n",
      "12354/12354 [==============================] - 3s 233us/step - loss: 0.0024 - acc: 0.9993 - val_loss: 0.0777 - val_acc: 0.9890\n",
      "Epoch 18/100\n",
      "12354/12354 [==============================] - 3s 234us/step - loss: 0.0022 - acc: 0.9992 - val_loss: 0.0601 - val_acc: 0.9913\n",
      "Epoch 19/100\n",
      "12354/12354 [==============================] - 3s 240us/step - loss: 0.0017 - acc: 0.9994 - val_loss: 0.0612 - val_acc: 0.9915\n",
      "Epoch 20/100\n",
      "12354/12354 [==============================] - 3s 278us/step - loss: 0.0015 - acc: 0.9995 - val_loss: 0.0608 - val_acc: 0.9919\n",
      "Epoch 21/100\n",
      "12354/12354 [==============================] - 3s 233us/step - loss: 0.0016 - acc: 0.9994 - val_loss: 0.0632 - val_acc: 0.9907\n",
      "Epoch 22/100\n",
      "12354/12354 [==============================] - 3s 233us/step - loss: 0.0015 - acc: 0.9994 - val_loss: 0.0666 - val_acc: 0.9907\n",
      "Epoch 23/100\n",
      "12354/12354 [==============================] - 3s 232us/step - loss: 0.0016 - acc: 0.9995 - val_loss: 0.0631 - val_acc: 0.9913\n",
      "Epoch 24/100\n",
      "12354/12354 [==============================] - 3s 236us/step - loss: 0.0015 - acc: 0.9995 - val_loss: 0.0656 - val_acc: 0.9904\n",
      "Epoch 25/100\n",
      "12354/12354 [==============================] - 3s 283us/step - loss: 0.0014 - acc: 0.9995 - val_loss: 0.0739 - val_acc: 0.9911\n",
      "Epoch 26/100\n",
      "12354/12354 [==============================] - 3s 241us/step - loss: 0.0015 - acc: 0.9994 - val_loss: 0.0752 - val_acc: 0.9909\n",
      "Epoch 27/100\n",
      "12354/12354 [==============================] - 3s 261us/step - loss: 0.0014 - acc: 0.9995 - val_loss: 0.0735 - val_acc: 0.9911\n",
      "Epoch 28/100\n",
      "12354/12354 [==============================] - 3s 237us/step - loss: 0.0015 - acc: 0.9995 - val_loss: 0.0674 - val_acc: 0.9907\n",
      "Epoch 29/100\n",
      "12354/12354 [==============================] - 3s 234us/step - loss: 0.0064 - acc: 0.9986 - val_loss: 0.0703 - val_acc: 0.9896\n",
      "Epoch 30/100\n",
      "12354/12354 [==============================] - 3s 276us/step - loss: 0.0015 - acc: 0.9994 - val_loss: 0.0692 - val_acc: 0.9907\n",
      "Epoch 31/100\n",
      "12354/12354 [==============================] - 3s 250us/step - loss: 0.0013 - acc: 0.9995 - val_loss: 0.0689 - val_acc: 0.9911\n",
      "Epoch 32/100\n",
      "12354/12354 [==============================] - 3s 232us/step - loss: 0.0013 - acc: 0.9995 - val_loss: 0.0697 - val_acc: 0.9911\n",
      "Epoch 33/100\n",
      "12354/12354 [==============================] - 3s 235us/step - loss: 0.0013 - acc: 0.9996 - val_loss: 0.0692 - val_acc: 0.9915\n",
      "Epoch 34/100\n",
      "12354/12354 [==============================] - 3s 233us/step - loss: 0.0013 - acc: 0.9995 - val_loss: 0.0696 - val_acc: 0.9911\n",
      "Epoch 35/100\n",
      "12354/12354 [==============================] - 3s 260us/step - loss: 0.0013 - acc: 0.9996 - val_loss: 0.0706 - val_acc: 0.9911\n",
      "Epoch 36/100\n",
      "12354/12354 [==============================] - 3s 264us/step - loss: 0.0014 - acc: 0.9995 - val_loss: 0.0711 - val_acc: 0.9911\n",
      "Epoch 37/100\n",
      "12354/12354 [==============================] - 3s 240us/step - loss: 0.0013 - acc: 0.9995 - val_loss: 0.0702 - val_acc: 0.9915\n",
      "Epoch 38/100\n",
      "12354/12354 [==============================] - 3s 238us/step - loss: 0.0013 - acc: 0.9995 - val_loss: 0.0697 - val_acc: 0.9913\n",
      "Epoch 39/100\n",
      "12354/12354 [==============================] - 3s 235us/step - loss: 0.0012 - acc: 0.9995 - val_loss: 0.0709 - val_acc: 0.9913\n",
      "Epoch 40/100\n",
      "12354/12354 [==============================] - 3s 242us/step - loss: 0.0013 - acc: 0.9995 - val_loss: 0.0731 - val_acc: 0.9911\n",
      "Epoch 41/100\n",
      "12354/12354 [==============================] - 4s 284us/step - loss: 0.0013 - acc: 0.9994 - val_loss: 0.0758 - val_acc: 0.9900\n",
      "Epoch 42/100\n",
      "12354/12354 [==============================] - 3s 236us/step - loss: 0.0013 - acc: 0.9994 - val_loss: 0.0779 - val_acc: 0.9894\n",
      "Epoch 43/100\n",
      "12354/12354 [==============================] - 3s 237us/step - loss: 0.0012 - acc: 0.9995 - val_loss: 0.0775 - val_acc: 0.9909\n",
      "Epoch 44/100\n",
      "12354/12354 [==============================] - 3s 239us/step - loss: 0.0013 - acc: 0.9996 - val_loss: 0.0768 - val_acc: 0.9911\n",
      "Epoch 45/100\n",
      "12354/12354 [==============================] - 3s 237us/step - loss: 0.0012 - acc: 0.9995 - val_loss: 0.0841 - val_acc: 0.9894\n",
      "Epoch 46/100\n",
      "12354/12354 [==============================] - 4s 295us/step - loss: 0.0013 - acc: 0.9994 - val_loss: 0.0824 - val_acc: 0.9904\n",
      "Epoch 47/100\n",
      "12354/12354 [==============================] - 3s 259us/step - loss: 0.0012 - acc: 0.9995 - val_loss: 0.1015 - val_acc: 0.9873\n",
      "Epoch 48/100\n",
      "12354/12354 [==============================] - 3s 235us/step - loss: 0.0015 - acc: 0.9994 - val_loss: 0.0873 - val_acc: 0.9898\n",
      "Epoch 49/100\n",
      "12354/12354 [==============================] - 3s 236us/step - loss: 0.0015 - acc: 0.9994 - val_loss: 0.0926 - val_acc: 0.9898\n",
      "Epoch 50/100\n",
      "12354/12354 [==============================] - 3s 237us/step - loss: 0.0012 - acc: 0.9994 - val_loss: 0.1014 - val_acc: 0.9894\n",
      "Epoch 51/100\n",
      "12354/12354 [==============================] - 4s 289us/step - loss: 0.0019 - acc: 0.9993 - val_loss: 0.0890 - val_acc: 0.9902\n",
      "Epoch 52/100\n",
      "12354/12354 [==============================] - 3s 246us/step - loss: 0.0012 - acc: 0.9995 - val_loss: 0.0884 - val_acc: 0.9904\n",
      "Epoch 53/100\n",
      "12354/12354 [==============================] - 3s 235us/step - loss: 0.0012 - acc: 0.9997 - val_loss: 0.0863 - val_acc: 0.9906\n",
      "Epoch 54/100\n",
      "12354/12354 [==============================] - 3s 242us/step - loss: 0.0011 - acc: 0.9996 - val_loss: 0.0871 - val_acc: 0.9906\n",
      "Epoch 55/100\n",
      "12354/12354 [==============================] - 3s 238us/step - loss: 0.0010 - acc: 0.9997 - val_loss: 0.0909 - val_acc: 0.9902\n",
      "Epoch 56/100\n",
      "12354/12354 [==============================] - 3s 273us/step - loss: 0.0010 - acc: 0.9996 - val_loss: 0.0881 - val_acc: 0.9904\n",
      "Epoch 57/100\n",
      "12354/12354 [==============================] - 3s 259us/step - loss: 0.0011 - acc: 0.9996 - val_loss: 0.0891 - val_acc: 0.9909\n",
      "Epoch 58/100\n",
      "12354/12354 [==============================] - 3s 234us/step - loss: 0.0011 - acc: 0.9996 - val_loss: 0.0915 - val_acc: 0.9904\n",
      "Epoch 59/100\n",
      "12354/12354 [==============================] - 3s 230us/step - loss: 0.0010 - acc: 0.9997 - val_loss: 0.0893 - val_acc: 0.9907\n",
      "Epoch 60/100\n",
      "12354/12354 [==============================] - 3s 229us/step - loss: 0.0010 - acc: 0.9996 - val_loss: 0.0905 - val_acc: 0.9909\n",
      "Epoch 61/100\n",
      "12354/12354 [==============================] - 3s 247us/step - loss: 0.0011 - acc: 0.9995 - val_loss: 0.0901 - val_acc: 0.9907\n",
      "Epoch 62/100\n",
      "12354/12354 [==============================] - 3s 258us/step - loss: 0.0010 - acc: 0.9997 - val_loss: 0.0892 - val_acc: 0.9909\n",
      "Epoch 63/100\n",
      "12354/12354 [==============================] - 3s 231us/step - loss: 0.0011 - acc: 0.9997 - val_loss: 0.0908 - val_acc: 0.9907\n",
      "Epoch 64/100\n",
      "12354/12354 [==============================] - 3s 245us/step - loss: 0.0010 - acc: 0.9997 - val_loss: 0.0909 - val_acc: 0.9909\n",
      "Epoch 65/100\n",
      "12354/12354 [==============================] - 3s 232us/step - loss: 0.0011 - acc: 0.9996 - val_loss: 0.0946 - val_acc: 0.9898\n",
      "Epoch 66/100\n",
      "12354/12354 [==============================] - 3s 230us/step - loss: 0.0011 - acc: 0.9996 - val_loss: 0.0875 - val_acc: 0.9911\n",
      "Epoch 67/100\n",
      "12354/12354 [==============================] - 4s 304us/step - loss: 0.0010 - acc: 0.9996 - val_loss: 0.0889 - val_acc: 0.9907\n",
      "Epoch 68/100\n",
      "12354/12354 [==============================] - 3s 234us/step - loss: 0.0010 - acc: 0.9996 - val_loss: 0.0933 - val_acc: 0.9917\n",
      "Epoch 69/100\n",
      "12354/12354 [==============================] - 3s 237us/step - loss: 0.0016 - acc: 0.9994 - val_loss: 0.1156 - val_acc: 0.9894\n",
      "Epoch 70/100\n",
      "12354/12354 [==============================] - 3s 233us/step - loss: 0.0018 - acc: 0.9995 - val_loss: 0.1127 - val_acc: 0.9890\n",
      "Epoch 71/100\n",
      "12354/12354 [==============================] - 3s 233us/step - loss: 0.0013 - acc: 0.9995 - val_loss: 0.0924 - val_acc: 0.9907\n",
      "Epoch 72/100\n",
      "12354/12354 [==============================] - 3s 271us/step - loss: 0.0011 - acc: 0.9996 - val_loss: 0.0928 - val_acc: 0.9909\n",
      "Epoch 73/100\n",
      "12354/12354 [==============================] - 3s 247us/step - loss: 0.0011 - acc: 0.9996 - val_loss: 0.0923 - val_acc: 0.9906\n",
      "Epoch 74/100\n",
      "12354/12354 [==============================] - 3s 231us/step - loss: 0.0011 - acc: 0.9995 - val_loss: 0.0916 - val_acc: 0.9906\n",
      "Epoch 75/100\n",
      "12354/12354 [==============================] - 3s 232us/step - loss: 0.0011 - acc: 0.9995 - val_loss: 0.0917 - val_acc: 0.9907\n",
      "Epoch 76/100\n",
      "12354/12354 [==============================] - 3s 253us/step - loss: 0.0010 - acc: 0.9995 - val_loss: 0.0938 - val_acc: 0.9917\n",
      "Epoch 77/100\n",
      "12354/12354 [==============================] - 3s 268us/step - loss: 0.0010 - acc: 0.9995 - val_loss: 0.0951 - val_acc: 0.9909\n",
      "Epoch 78/100\n",
      "12354/12354 [==============================] - 3s 261us/step - loss: 9.6280e-04 - acc: 0.9997 - val_loss: 0.0946 - val_acc: 0.9913\n",
      "Epoch 79/100\n",
      "12354/12354 [==============================] - 3s 233us/step - loss: 0.0010 - acc: 0.9996 - val_loss: 0.0956 - val_acc: 0.9907\n",
      "Epoch 80/100\n",
      "12354/12354 [==============================] - 3s 231us/step - loss: 9.7195e-04 - acc: 0.9997 - val_loss: 0.0942 - val_acc: 0.9909\n",
      "Epoch 81/100\n",
      "12354/12354 [==============================] - 3s 232us/step - loss: 0.0010 - acc: 0.9996 - val_loss: 0.0958 - val_acc: 0.9909\n",
      "Epoch 82/100\n",
      "12354/12354 [==============================] - 3s 237us/step - loss: 9.6035e-04 - acc: 0.9997 - val_loss: 0.0982 - val_acc: 0.9900\n",
      "Epoch 83/100\n",
      "12354/12354 [==============================] - 4s 285us/step - loss: 9.8978e-04 - acc: 0.9996 - val_loss: 0.1049 - val_acc: 0.9907\n",
      "Epoch 84/100\n",
      "12354/12354 [==============================] - 3s 233us/step - loss: 0.0018 - acc: 0.9994 - val_loss: 0.1030 - val_acc: 0.9902\n",
      "Epoch 85/100\n",
      "12354/12354 [==============================] - 3s 233us/step - loss: 9.6689e-04 - acc: 0.9997 - val_loss: 0.0987 - val_acc: 0.9902\n",
      "Epoch 86/100\n",
      "12354/12354 [==============================] - 3s 233us/step - loss: 8.7414e-04 - acc: 0.9997 - val_loss: 0.0988 - val_acc: 0.9904\n",
      "Epoch 87/100\n",
      "12354/12354 [==============================] - 3s 245us/step - loss: 9.0317e-04 - acc: 0.9997 - val_loss: 0.0986 - val_acc: 0.9909\n",
      "Epoch 88/100\n",
      "12354/12354 [==============================] - 4s 288us/step - loss: 8.9792e-04 - acc: 0.9995 - val_loss: 0.0984 - val_acc: 0.9909\n",
      "Epoch 89/100\n",
      "12354/12354 [==============================] - 3s 238us/step - loss: 0.0011 - acc: 0.9996 - val_loss: 0.0980 - val_acc: 0.9907\n",
      "Epoch 90/100\n",
      "12354/12354 [==============================] - 3s 245us/step - loss: 9.8235e-04 - acc: 0.9997 - val_loss: 0.0968 - val_acc: 0.9907\n",
      "Epoch 91/100\n",
      "12354/12354 [==============================] - 3s 232us/step - loss: 0.0010 - acc: 0.9997 - val_loss: 0.0952 - val_acc: 0.9913\n",
      "Epoch 92/100\n",
      "12354/12354 [==============================] - 3s 233us/step - loss: 9.8932e-04 - acc: 0.9996 - val_loss: 0.0962 - val_acc: 0.9904\n",
      "Epoch 93/100\n",
      "12354/12354 [==============================] - 3s 271us/step - loss: 9.6521e-04 - acc: 0.9997 - val_loss: 0.0948 - val_acc: 0.9913\n",
      "Epoch 94/100\n",
      "12354/12354 [==============================] - 3s 264us/step - loss: 9.7845e-04 - acc: 0.9996 - val_loss: 0.0959 - val_acc: 0.9907\n",
      "Epoch 95/100\n",
      "12354/12354 [==============================] - 3s 233us/step - loss: 9.0980e-04 - acc: 0.9996 - val_loss: 0.0971 - val_acc: 0.9913\n",
      "Epoch 96/100\n",
      "12354/12354 [==============================] - 3s 234us/step - loss: 9.4424e-04 - acc: 0.9997 - val_loss: 0.1003 - val_acc: 0.9904\n",
      "Epoch 97/100\n",
      "12354/12354 [==============================] - 3s 241us/step - loss: 9.9751e-04 - acc: 0.9996 - val_loss: 0.0965 - val_acc: 0.9907\n",
      "Epoch 98/100\n",
      "12354/12354 [==============================] - 3s 260us/step - loss: 9.4572e-04 - acc: 0.9997 - val_loss: 0.0975 - val_acc: 0.9907\n",
      "Epoch 99/100\n",
      "12354/12354 [==============================] - 3s 264us/step - loss: 9.4544e-04 - acc: 0.9997 - val_loss: 0.0937 - val_acc: 0.9915\n",
      "Epoch 100/100\n",
      "12354/12354 [==============================] - 3s 234us/step - loss: 9.4058e-04 - acc: 0.9997 - val_loss: 0.0945 - val_acc: 0.9909\n"
     ]
    },
    {
     "data": {
      "text/plain": [
       "<keras.callbacks.History at 0x1f5dd7086a0>"
      ]
     },
     "execution_count": 26,
     "metadata": {},
     "output_type": "execute_result"
    }
   ],
   "source": [
    "model.fit(X_tr_tfidf, y_tr, batch_size=32, epochs=100, verbose=1, validation_data=(X_te_tfidf, y_te))"
   ]
  },
  {
   "cell_type": "code",
   "execution_count": 27,
   "metadata": {},
   "outputs": [
    {
     "name": "stdout",
     "output_type": "stream",
     "text": [
      "5295/5295 [==============================] - 1s 115us/step\n"
     ]
    }
   ],
   "source": [
    "score = model.evaluate(X_te_tfidf, y_te, batch_size=32)"
   ]
  },
  {
   "cell_type": "code",
   "execution_count": 28,
   "metadata": {},
   "outputs": [],
   "source": [
    "y_pred = model.predict(X_te_tfidf, batch_size=32)"
   ]
  },
  {
   "cell_type": "markdown",
   "metadata": {},
   "source": [
    "### Convert predictions to text labels and join with the main dataframe to see where the errors occurred "
   ]
  },
  {
   "cell_type": "code",
   "execution_count": 29,
   "metadata": {},
   "outputs": [],
   "source": [
    "y_pred_classes = []\n",
    "for i in y_pred:\n",
    "    if i >= .5:\n",
    "        y_pred_classes.append(1)\n",
    "    else:\n",
    "        y_pred_classes.append(0)"
   ]
  },
  {
   "cell_type": "code",
   "execution_count": 30,
   "metadata": {},
   "outputs": [],
   "source": [
    "real_v_pred = pd.concat([y_te.reset_index(), pd.Series(y_pred_classes)], axis=1, join='inner', ignore_index=True).reset_index(drop=True).set_index([1])"
   ]
  },
  {
   "cell_type": "code",
   "execution_count": 31,
   "metadata": {},
   "outputs": [],
   "source": [
    "real_v_pred.reset_index(inplace=True)\n",
    "real_v_pred.columns = ['test', 'index', 'pred']"
   ]
  },
  {
   "cell_type": "code",
   "execution_count": 32,
   "metadata": {},
   "outputs": [],
   "source": [
    "errors = real_v_pred[real_v_pred.test != real_v_pred.pred]\n",
    "errors.set_index(keys='index', inplace=True)"
   ]
  },
  {
   "cell_type": "code",
   "execution_count": 33,
   "metadata": {},
   "outputs": [],
   "source": [
    "df_errors = df.join(errors, how='inner')"
   ]
  },
  {
   "cell_type": "code",
   "execution_count": 34,
   "metadata": {},
   "outputs": [],
   "source": [
    "df_errors.to_csv('df_errors.csv')"
   ]
  },
  {
   "cell_type": "markdown",
   "metadata": {},
   "source": [
    "### Create a deep learning model with keras and compare to the random forest"
   ]
  },
  {
   "cell_type": "code",
   "execution_count": 35,
   "metadata": {},
   "outputs": [],
   "source": [
    "from sklearn.metrics import roc_curve\n",
    "y_pred_keras = model.predict(X_te_tfidf).ravel()\n",
    "fpr_keras, tpr_keras, thresholds_keras = roc_curve(y_te, y_pred_keras)"
   ]
  },
  {
   "cell_type": "code",
   "execution_count": 36,
   "metadata": {},
   "outputs": [],
   "source": [
    "y_pred_keras = model.predict(X_te_tfidf, batch_size=32).ravel()"
   ]
  },
  {
   "cell_type": "code",
   "execution_count": 37,
   "metadata": {},
   "outputs": [],
   "source": [
    "fpr_keras, tpr_keras, thresholds_keras = roc_curve(y_te, y_pred_keras)"
   ]
  },
  {
   "cell_type": "code",
   "execution_count": 38,
   "metadata": {},
   "outputs": [],
   "source": [
    "from sklearn.metrics import auc\n",
    "auc_keras = auc(fpr_keras, tpr_keras)"
   ]
  },
  {
   "cell_type": "code",
   "execution_count": 39,
   "metadata": {},
   "outputs": [],
   "source": [
    "y_pred_rf = rf.predict_proba(X_te_tfidf)[:, 1]\n",
    "fpr_rf, tpr_rf, thresholds_rf = roc_curve(y_te, y_pred_rf)\n",
    "auc_rf = auc(fpr_rf, tpr_rf)"
   ]
  },
  {
   "cell_type": "code",
   "execution_count": 40,
   "metadata": {},
   "outputs": [
    {
     "data": {
      "image/png": "[encoded data removed]",
      "text/plain": [
       "<matplotlib.figure.Figure at 0x1f5deefd550>"
      ]
     },
     "metadata": {},
     "output_type": "display_data"
    },
    {
     "data": {
      "image/png": "[encoded data removed]",
      "text/plain": [
       "<matplotlib.figure.Figure at 0x1f5dec71d68>"
      ]
     },
     "metadata": {},
     "output_type": "display_data"
    }
   ],
   "source": [
    "plt.figure(1)\n",
    "plt.plot([0, 1], [0, 1], 'k--')\n",
    "plt.plot(fpr_keras, tpr_keras, label='Keras (area = {:.3f})'.format(auc_keras))\n",
    "plt.plot(fpr_rf, tpr_rf, label='RF (area = {:.3f})'.format(auc_rf))\n",
    "plt.xlabel('False positive rate')\n",
    "plt.ylabel('True positive rate')\n",
    "plt.title('ROC curve')\n",
    "plt.legend(loc='best')\n",
    "plt.show()\n",
    "# Zoom in view of the upper left corner.\n",
    "plt.figure(2)\n",
    "plt.xlim(0, 0.2)\n",
    "plt.ylim(0.98, 1)\n",
    "plt.plot([0, 1], [0, 1], 'k--')\n",
    "plt.plot(fpr_keras, tpr_keras, label='Keras (area = {:.3f})'.format(auc_keras))\n",
    "plt.plot(fpr_rf, tpr_rf, label='RF (area = {:.3f})'.format(auc_rf))\n",
    "plt.xlabel('False positive rate')\n",
    "plt.ylabel('True positive rate')\n",
    "plt.title('ROC curve (zoomed in at top left)')\n",
    "plt.legend(loc='best')\n",
    "plt.show()"
   ]
  },
  {
   "cell_type": "code",
   "execution_count": 48,
   "metadata": {},
   "outputs": [
    {
     "ename": "IndexError",
     "evalue": "index 283 is out of bounds for axis 0 with size 100",
     "output_type": "error",
     "traceback": [
      "\u001b[1;31m---------------------------------------------------------------------------\u001b[0m",
      "\u001b[1;31mIndexError\u001b[0m                                Traceback (most recent call last)",
      "\u001b[1;32m<ipython-input-48-3e40b69308f0>\u001b[0m in \u001b[0;36m<module>\u001b[1;34m()\u001b[0m\n\u001b[0;32m      5\u001b[0m \u001b[0msss\u001b[0m \u001b[1;33m=\u001b[0m \u001b[0mStratifiedShuffleSplit\u001b[0m\u001b[1;33m(\u001b[0m\u001b[0mn_splits\u001b[0m\u001b[1;33m=\u001b[0m\u001b[1;36m5\u001b[0m\u001b[1;33m,\u001b[0m \u001b[0mtest_size\u001b[0m\u001b[1;33m=\u001b[0m\u001b[1;36m0.5\u001b[0m\u001b[1;33m,\u001b[0m \u001b[0mrandom_state\u001b[0m\u001b[1;33m=\u001b[0m\u001b[1;36m0\u001b[0m\u001b[1;33m)\u001b[0m\u001b[1;33m\u001b[0m\u001b[0m\n\u001b[0;32m      6\u001b[0m \u001b[1;32mfor\u001b[0m \u001b[0mtrain_idx\u001b[0m\u001b[1;33m,\u001b[0m \u001b[0mtest_idx\u001b[0m \u001b[1;32min\u001b[0m \u001b[0msss\u001b[0m\u001b[1;33m.\u001b[0m\u001b[0msplit\u001b[0m\u001b[1;33m(\u001b[0m\u001b[0mX_te_tfidf\u001b[0m\u001b[1;33m,\u001b[0m \u001b[0my_te\u001b[0m\u001b[1;33m)\u001b[0m\u001b[1;33m:\u001b[0m\u001b[1;33m\u001b[0m\u001b[0m\n\u001b[1;32m----> 7\u001b[1;33m     \u001b[0mX_train\u001b[0m\u001b[1;33m,\u001b[0m \u001b[0mX_test\u001b[0m\u001b[1;33m,\u001b[0m \u001b[0my_train\u001b[0m\u001b[1;33m,\u001b[0m \u001b[0my_test\u001b[0m \u001b[1;33m=\u001b[0m \u001b[0mX\u001b[0m\u001b[1;33m[\u001b[0m\u001b[0mtrain_idx\u001b[0m\u001b[1;33m]\u001b[0m\u001b[1;33m,\u001b[0m \u001b[0mX\u001b[0m\u001b[1;33m[\u001b[0m\u001b[0mtest_idx\u001b[0m\u001b[1;33m]\u001b[0m\u001b[1;33m,\u001b[0m \u001b[0my\u001b[0m\u001b[1;33m[\u001b[0m\u001b[0mtrain_idx\u001b[0m\u001b[1;33m]\u001b[0m\u001b[1;33m,\u001b[0m \u001b[0my\u001b[0m\u001b[1;33m[\u001b[0m\u001b[0mtest_idx\u001b[0m\u001b[1;33m]\u001b[0m\u001b[1;33m\u001b[0m\u001b[0m\n\u001b[0m\u001b[0;32m      8\u001b[0m     \u001b[0mrf\u001b[0m\u001b[1;33m.\u001b[0m\u001b[0mfit\u001b[0m\u001b[1;33m(\u001b[0m\u001b[0mX_train\u001b[0m\u001b[1;33m,\u001b[0m \u001b[0my_train\u001b[0m\u001b[1;33m)\u001b[0m\u001b[1;33m\u001b[0m\u001b[0m\n\u001b[0;32m      9\u001b[0m     \u001b[0my_pred\u001b[0m \u001b[1;33m=\u001b[0m \u001b[0mrf\u001b[0m\u001b[1;33m.\u001b[0m\u001b[0mpredict\u001b[0m\u001b[1;33m(\u001b[0m\u001b[0mX_test\u001b[0m\u001b[1;33m)\u001b[0m\u001b[1;33m\u001b[0m\u001b[0m\n",
      "\u001b[1;31mIndexError\u001b[0m: index 283 is out of bounds for axis 0 with size 100"
     ]
    }
   ],
   "source": [
    "from sklearn.datasets import make_classification\n",
    "from sklearn.model_selection import StratifiedShuffleSplit\n",
    "from sklearn.metrics import accuracy_score, f1_score, precision_score, recall_score, classification_report, confusion_matrix\n",
    "\n",
    "sss = StratifiedShuffleSplit(n_splits=5, test_size=0.5, random_state=0)\n",
    "for train_idx, test_idx in sss.split(X_te_tfidf, y_te):\n",
    "    X_train, X_test, y_train, y_test = X[train_idx], X[test_idx], y[train_idx], y[test_idx]\n",
    "    rf.fit(X_train, y_train)\n",
    "    y_pred = rf.predict(X_test)\n",
    "    print(f1_score(y_test, y_pred, average=\"macro\"))\n",
    "    print(precision_score(y_test, y_pred, average=\"macro\"))\n",
    "    print(recall_score(y_test, y_pred, average=\"macro\"))"
   ]
  },
  {
   "cell_type": "code",
   "execution_count": null,
   "metadata": {},
   "outputs": [],
   "source": [
    "A, b = make_classification(n_samples=100, n_informative=10, n_classes=3)"
   ]
  },
  {
   "cell_type": "code",
   "execution_count": 51,
   "metadata": {},
   "outputs": [
    {
     "name": "stdout",
     "output_type": "stream",
     "text": [
      "             precision    recall  f1-score   support\n",
      "\n",
      "          0       0.43      0.59      0.50        17\n",
      "          1       0.60      0.53      0.56        17\n",
      "          2       0.42      0.31      0.36        16\n",
      "\n",
      "avg / total       0.49      0.48      0.48        50\n",
      "\n"
     ]
    }
   ],
   "source": [
    "from sklearn.metrics import classification_report\n",
    "print(classification_report(y_test, y_pred))"
   ]
  },
  {
   "cell_type": "code",
   "execution_count": null,
   "metadata": {},
   "outputs": [],
   "source": []
  }
 ],
 "metadata": {
  "kernelspec": {
   "display_name": "Python 3",
   "language": "python",
   "name": "python3"
  },
  "language_info": {
   "codemirror_mode": {
    "name": "ipython",
    "version": 3
   },
   "file_extension": ".py",
   "mimetype": "text/x-python",
   "name": "python",
   "nbconvert_exporter": "python",
   "pygments_lexer": "ipython3",
   "version": "3.6.4"
  }
 },
 "nbformat": 4,
 "nbformat_minor": 1
}
