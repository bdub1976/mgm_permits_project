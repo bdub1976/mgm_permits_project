{
 "cells": [
  {
   "cell_type": "code",
   "execution_count": 2,
   "metadata": {},
   "outputs": [],
   "source": [
    "import numpy as np\n",
    "import pandas as pd\n",
    "import matplotlib.pyplot as plt"
   ]
  },
  {
   "cell_type": "markdown",
   "metadata": {},
   "source": [
    "### Load the data"
   ]
  },
  {
   "cell_type": "code",
   "execution_count": 67,
   "metadata": {},
   "outputs": [],
   "source": [
    "#open the locally saved csv\n",
    "df = pd.read_csv('C:/Users/595217/general-assembly/project-final/data/mgm.csv', usecols=['description', 'jobtype', 'usetype'])"
   ]
  },
  {
   "cell_type": "code",
   "execution_count": 68,
   "metadata": {},
   "outputs": [
    {
     "name": "stdout",
     "output_type": "stream",
     "text": [
      "<class 'pandas.core.frame.DataFrame'>\n",
      "RangeIndex: 17669 entries, 0 to 17668\n",
      "Data columns (total 3 columns):\n",
      "description    17669 non-null object\n",
      "jobtype        17669 non-null object\n",
      "usetype        17669 non-null object\n",
      "dtypes: object(3)\n",
      "memory usage: 414.2+ KB\n"
     ]
    }
   ],
   "source": [
    "df.info()"
   ]
  },
  {
   "cell_type": "code",
   "execution_count": 69,
   "metadata": {},
   "outputs": [],
   "source": [
    "df = df[df.usetype != 'Mixed Occupancy'] # remove Mixed Occupancy occurances as there are too few"
   ]
  },
  {
   "cell_type": "markdown",
   "metadata": {},
   "source": [
    "### Create the features and target variables"
   ]
  },
  {
   "cell_type": "code",
   "execution_count": 70,
   "metadata": {},
   "outputs": [],
   "source": [
    "X = df['description']\n",
    "y = df['usetype']\n",
    "z = df['jobtype']"
   ]
  },
  {
   "cell_type": "code",
   "execution_count": 71,
   "metadata": {},
   "outputs": [],
   "source": [
    "y = y.map({'Commercial': 0, 'Residential': 1})\n",
    "z = z.map({'New': 0, 'Existing': 1, 'Alteration': 2, 'Repair': 3, 'Other': 4, 'Addition': 5})"
   ]
  },
  {
   "cell_type": "code",
   "execution_count": 72,
   "metadata": {
    "scrolled": true
   },
   "outputs": [
    {
     "data": {
      "text/plain": [
       "(1    10439\n",
       " 0     7210\n",
       " Name: usetype, dtype: int64, 0    4820\n",
       " 1    4017\n",
       " 2    3083\n",
       " 3    2322\n",
       " 4    2264\n",
       " 5    1143\n",
       " Name: jobtype, dtype: int64)"
      ]
     },
     "execution_count": 72,
     "metadata": {},
     "output_type": "execute_result"
    }
   ],
   "source": [
    "y.value_counts(), z.value_counts()"
   ]
  },
  {
   "cell_type": "code",
   "execution_count": 74,
   "metadata": {},
   "outputs": [],
   "source": [
    "from sklearn.preprocessing import label_binarize\n",
    "from sklearn.feature_extraction import text\n",
    "from sklearn.model_selection import train_test_split"
   ]
  },
  {
   "cell_type": "code",
   "execution_count": 75,
   "metadata": {},
   "outputs": [],
   "source": [
    "# y_bin = label_binarize(y, classes=[0,1,2])\n",
    "# n_y_bin_classes = y_bin.shape[1]\n",
    "z_bin = label_binarize(z, classes=[0,1,2,3,4,5])\n",
    "n_z_bin_classes = z_bin.shape[1]"
   ]
  },
  {
   "cell_type": "code",
   "execution_count": 76,
   "metadata": {},
   "outputs": [],
   "source": [
    "X_tr, X_te, y_tr, y_te, = train_test_split(X, y, test_size=0.30, random_state=42)"
   ]
  },
  {
   "cell_type": "code",
   "execution_count": 77,
   "metadata": {},
   "outputs": [
    {
     "data": {
      "text/plain": [
       "8190"
      ]
     },
     "execution_count": 77,
     "metadata": {},
     "output_type": "execute_result"
    }
   ],
   "source": [
    "# create the BOW representation\n",
    "bow_transform = text.CountVectorizer(min_df=0, stop_words=\"english\")\n",
    "X_tr_bow = bow_transform.fit_transform(X_tr)\n",
    "X_te_bow = bow_transform.transform(X_te)\n",
    "len(bow_transform.vocabulary_)"
   ]
  },
  {
   "cell_type": "code",
   "execution_count": 78,
   "metadata": {},
   "outputs": [
    {
     "data": {
      "text/plain": [
       "(5295, 8190)"
      ]
     },
     "execution_count": 78,
     "metadata": {},
     "output_type": "execute_result"
    }
   ],
   "source": [
    "#create tf-idf representation using the bow matrix\n",
    "tfidf_trfm = text.TfidfTransformer(norm=None)\n",
    "X_tr_tfidf = tfidf_trfm.fit_transform(X_tr_bow)\n",
    "X_te_tfidf = tfidf_trfm.transform(X_te_bow)\n",
    "X_te_tfidf.shape"
   ]
  },
  {
   "cell_type": "markdown",
   "metadata": {},
   "source": [
    "### Instantiate a random forest and score"
   ]
  },
  {
   "cell_type": "code",
   "execution_count": 79,
   "metadata": {},
   "outputs": [],
   "source": [
    "from sklearn.ensemble import RandomForestClassifier\n",
    "from sklearn.metrics import accuracy_score\n",
    "from sklearn.model_selection import cross_val_score"
   ]
  },
  {
   "cell_type": "code",
   "execution_count": 80,
   "metadata": {},
   "outputs": [],
   "source": [
    "#instantiate the classifier\n",
    "rf = RandomForestClassifier()"
   ]
  },
  {
   "cell_type": "code",
   "execution_count": 81,
   "metadata": {},
   "outputs": [
    {
     "data": {
      "text/plain": [
       "RandomForestClassifier(bootstrap=True, class_weight=None, criterion='gini',\n",
       "            max_depth=None, max_features='auto', max_leaf_nodes=None,\n",
       "            min_impurity_decrease=0.0, min_impurity_split=None,\n",
       "            min_samples_leaf=1, min_samples_split=2,\n",
       "            min_weight_fraction_leaf=0.0, n_estimators=10, n_jobs=1,\n",
       "            oob_score=False, random_state=None, verbose=0,\n",
       "            warm_start=False)"
      ]
     },
     "execution_count": 81,
     "metadata": {},
     "output_type": "execute_result"
    }
   ],
   "source": [
    "rf.fit(X_tr_tfidf, y_tr)"
   ]
  },
  {
   "cell_type": "code",
   "execution_count": 82,
   "metadata": {},
   "outputs": [
    {
     "name": "stdout",
     "output_type": "stream",
     "text": [
      "RandomForestClassifier 0.9937677053824363\n"
     ]
    }
   ],
   "source": [
    "y_pred = rf.predict(X_te_tfidf)\n",
    "print(rf.__class__.__name__, accuracy_score(y_te, y_pred))"
   ]
  },
  {
   "cell_type": "code",
   "execution_count": 83,
   "metadata": {},
   "outputs": [],
   "source": [
    "def display_scores(scores):\n",
    "    print(\"Scores:\", scores)\n",
    "    print(\"Mean:\", scores.mean())\n",
    "    print(\"StDev:\", scores.std())"
   ]
  },
  {
   "cell_type": "code",
   "execution_count": 84,
   "metadata": {},
   "outputs": [],
   "source": [
    "y_tr_tfidf_scores = cross_val_score(rf, X_tr_tfidf, y_tr, cv=10, scoring=\"accuracy\")"
   ]
  },
  {
   "cell_type": "code",
   "execution_count": 85,
   "metadata": {},
   "outputs": [
    {
     "name": "stdout",
     "output_type": "stream",
     "text": [
      "Scores: [0.99433657 0.99271845 0.99514563 0.99514563 0.99110032 0.99110032\n",
      " 0.99514563 0.98541329 0.99270665 0.99594814]\n",
      "Mean: 0.9928760627947109\n",
      "StDev: 0.002984569578523341\n"
     ]
    }
   ],
   "source": [
    "display_scores(y_tr_tfidf_scores)"
   ]
  },
  {
   "cell_type": "code",
   "execution_count": 86,
   "metadata": {},
   "outputs": [],
   "source": [
    "y_te_tfidf_scores = cross_val_score(rf, X_te_tfidf, y_te, cv=10, scoring=\"accuracy\")"
   ]
  },
  {
   "cell_type": "code",
   "execution_count": 87,
   "metadata": {},
   "outputs": [
    {
     "name": "stdout",
     "output_type": "stream",
     "text": [
      "Scores: [0.98116761 0.9905838  0.99433962 0.98487713 0.98676749 0.98865784\n",
      " 0.98487713 0.98676749 0.98487713 0.98109641]\n",
      "Mean: 0.986401163998582\n",
      "StDev: 0.0038519242512337648\n"
     ]
    }
   ],
   "source": [
    "display_scores(y_te_tfidf_scores)"
   ]
  },
  {
   "cell_type": "code",
   "execution_count": 88,
   "metadata": {},
   "outputs": [],
   "source": [
    "y_score = rf.predict_proba(X_te_tfidf)"
   ]
  },
  {
   "cell_type": "code",
   "execution_count": 89,
   "metadata": {},
   "outputs": [
    {
     "data": {
      "text/plain": [
       "array([[0., 1.],\n",
       "       [1., 0.],\n",
       "       [0., 1.],\n",
       "       ...,\n",
       "       [0., 1.],\n",
       "       [1., 0.],\n",
       "       [0., 1.]])"
      ]
     },
     "execution_count": 89,
     "metadata": {},
     "output_type": "execute_result"
    }
   ],
   "source": [
    "y_score"
   ]
  },
  {
   "cell_type": "code",
   "execution_count": 92,
   "metadata": {},
   "outputs": [],
   "source": [
    "rf.fit(X_tr_tfidf, y_tr)\n",
    "try:\n",
    "    scores = rf.decision_function(X_te_tfidf)\n",
    "except:\n",
    "    scores = rf.predict_proba(X_te_tfidf)[:,1]"
   ]
  },
  {
   "cell_type": "code",
   "execution_count": 99,
   "metadata": {
    "scrolled": true
   },
   "outputs": [
    {
     "ename": "ValueError",
     "evalue": "Found input variables with inconsistent numbers of samples: [12354, 10]",
     "output_type": "error",
     "traceback": [
      "\u001b[1;31m---------------------------------------------------------------------------\u001b[0m",
      "\u001b[1;31mValueError\u001b[0m                                Traceback (most recent call last)",
      "\u001b[1;32m<ipython-input-99-69040b08c5d9>\u001b[0m in \u001b[0;36m<module>\u001b[1;34m()\u001b[0m\n\u001b[0;32m      1\u001b[0m \u001b[1;32mfrom\u001b[0m \u001b[0msklearn\u001b[0m\u001b[1;33m.\u001b[0m\u001b[0mmetrics\u001b[0m \u001b[1;32mimport\u001b[0m \u001b[0maverage_precision_score\u001b[0m\u001b[1;33m\u001b[0m\u001b[0m\n\u001b[1;32m----> 2\u001b[1;33m \u001b[0maverage_precision\u001b[0m \u001b[1;33m=\u001b[0m \u001b[0maverage_precision_score\u001b[0m\u001b[1;33m(\u001b[0m\u001b[0my_tr\u001b[0m\u001b[1;33m,\u001b[0m \u001b[0my_tr_tfidf_scores\u001b[0m\u001b[1;33m)\u001b[0m\u001b[1;33m\u001b[0m\u001b[0m\n\u001b[0m\u001b[0;32m      3\u001b[0m \u001b[1;33m\u001b[0m\u001b[0m\n\u001b[0;32m      4\u001b[0m print('Average precision-recall score: {0:0.2f}'.format(\n\u001b[0;32m      5\u001b[0m       average_precision))\n",
      "\u001b[1;32m~\\AppData\\Local\\Continuum\\anaconda3\\lib\\site-packages\\sklearn\\metrics\\ranking.py\u001b[0m in \u001b[0;36maverage_precision_score\u001b[1;34m(y_true, y_score, average, sample_weight)\u001b[0m\n\u001b[0;32m    197\u001b[0m     return _average_binary_score(_binary_uninterpolated_average_precision,\n\u001b[0;32m    198\u001b[0m                                  \u001b[0my_true\u001b[0m\u001b[1;33m,\u001b[0m \u001b[0my_score\u001b[0m\u001b[1;33m,\u001b[0m \u001b[0maverage\u001b[0m\u001b[1;33m,\u001b[0m\u001b[1;33m\u001b[0m\u001b[0m\n\u001b[1;32m--> 199\u001b[1;33m                                  sample_weight=sample_weight)\n\u001b[0m\u001b[0;32m    200\u001b[0m \u001b[1;33m\u001b[0m\u001b[0m\n\u001b[0;32m    201\u001b[0m \u001b[1;33m\u001b[0m\u001b[0m\n",
      "\u001b[1;32m~\\AppData\\Local\\Continuum\\anaconda3\\lib\\site-packages\\sklearn\\metrics\\base.py\u001b[0m in \u001b[0;36m_average_binary_score\u001b[1;34m(binary_metric, y_true, y_score, average, sample_weight)\u001b[0m\n\u001b[0;32m     73\u001b[0m \u001b[1;33m\u001b[0m\u001b[0m\n\u001b[0;32m     74\u001b[0m     \u001b[1;32mif\u001b[0m \u001b[0my_type\u001b[0m \u001b[1;33m==\u001b[0m \u001b[1;34m\"binary\"\u001b[0m\u001b[1;33m:\u001b[0m\u001b[1;33m\u001b[0m\u001b[0m\n\u001b[1;32m---> 75\u001b[1;33m         \u001b[1;32mreturn\u001b[0m \u001b[0mbinary_metric\u001b[0m\u001b[1;33m(\u001b[0m\u001b[0my_true\u001b[0m\u001b[1;33m,\u001b[0m \u001b[0my_score\u001b[0m\u001b[1;33m,\u001b[0m \u001b[0msample_weight\u001b[0m\u001b[1;33m=\u001b[0m\u001b[0msample_weight\u001b[0m\u001b[1;33m)\u001b[0m\u001b[1;33m\u001b[0m\u001b[0m\n\u001b[0m\u001b[0;32m     76\u001b[0m \u001b[1;33m\u001b[0m\u001b[0m\n\u001b[0;32m     77\u001b[0m     \u001b[0mcheck_consistent_length\u001b[0m\u001b[1;33m(\u001b[0m\u001b[0my_true\u001b[0m\u001b[1;33m,\u001b[0m \u001b[0my_score\u001b[0m\u001b[1;33m,\u001b[0m \u001b[0msample_weight\u001b[0m\u001b[1;33m)\u001b[0m\u001b[1;33m\u001b[0m\u001b[0m\n",
      "\u001b[1;32m~\\AppData\\Local\\Continuum\\anaconda3\\lib\\site-packages\\sklearn\\metrics\\ranking.py\u001b[0m in \u001b[0;36m_binary_uninterpolated_average_precision\u001b[1;34m(y_true, y_score, sample_weight)\u001b[0m\n\u001b[0;32m    189\u001b[0m             y_true, y_score, sample_weight=None):\n\u001b[0;32m    190\u001b[0m         precision, recall, thresholds = precision_recall_curve(\n\u001b[1;32m--> 191\u001b[1;33m             y_true, y_score, sample_weight=sample_weight)\n\u001b[0m\u001b[0;32m    192\u001b[0m         \u001b[1;31m# Return the step function integral\u001b[0m\u001b[1;33m\u001b[0m\u001b[1;33m\u001b[0m\u001b[0m\n\u001b[0;32m    193\u001b[0m         \u001b[1;31m# The following works because the last entry of precision is\u001b[0m\u001b[1;33m\u001b[0m\u001b[1;33m\u001b[0m\u001b[0m\n",
      "\u001b[1;32m~\\AppData\\Local\\Continuum\\anaconda3\\lib\\site-packages\\sklearn\\metrics\\ranking.py\u001b[0m in \u001b[0;36mprecision_recall_curve\u001b[1;34m(y_true, probas_pred, pos_label, sample_weight)\u001b[0m\n\u001b[0;32m    439\u001b[0m     fps, tps, thresholds = _binary_clf_curve(y_true, probas_pred,\n\u001b[0;32m    440\u001b[0m                                              \u001b[0mpos_label\u001b[0m\u001b[1;33m=\u001b[0m\u001b[0mpos_label\u001b[0m\u001b[1;33m,\u001b[0m\u001b[1;33m\u001b[0m\u001b[0m\n\u001b[1;32m--> 441\u001b[1;33m                                              sample_weight=sample_weight)\n\u001b[0m\u001b[0;32m    442\u001b[0m \u001b[1;33m\u001b[0m\u001b[0m\n\u001b[0;32m    443\u001b[0m     \u001b[0mprecision\u001b[0m \u001b[1;33m=\u001b[0m \u001b[0mtps\u001b[0m \u001b[1;33m/\u001b[0m \u001b[1;33m(\u001b[0m\u001b[0mtps\u001b[0m \u001b[1;33m+\u001b[0m \u001b[0mfps\u001b[0m\u001b[1;33m)\u001b[0m\u001b[1;33m\u001b[0m\u001b[0m\n",
      "\u001b[1;32m~\\AppData\\Local\\Continuum\\anaconda3\\lib\\site-packages\\sklearn\\metrics\\ranking.py\u001b[0m in \u001b[0;36m_binary_clf_curve\u001b[1;34m(y_true, y_score, pos_label, sample_weight)\u001b[0m\n\u001b[0;32m    318\u001b[0m         \u001b[1;32mraise\u001b[0m \u001b[0mValueError\u001b[0m\u001b[1;33m(\u001b[0m\u001b[1;34m\"{0} format is not supported\"\u001b[0m\u001b[1;33m.\u001b[0m\u001b[0mformat\u001b[0m\u001b[1;33m(\u001b[0m\u001b[0my_type\u001b[0m\u001b[1;33m)\u001b[0m\u001b[1;33m)\u001b[0m\u001b[1;33m\u001b[0m\u001b[0m\n\u001b[0;32m    319\u001b[0m \u001b[1;33m\u001b[0m\u001b[0m\n\u001b[1;32m--> 320\u001b[1;33m     \u001b[0mcheck_consistent_length\u001b[0m\u001b[1;33m(\u001b[0m\u001b[0my_true\u001b[0m\u001b[1;33m,\u001b[0m \u001b[0my_score\u001b[0m\u001b[1;33m,\u001b[0m \u001b[0msample_weight\u001b[0m\u001b[1;33m)\u001b[0m\u001b[1;33m\u001b[0m\u001b[0m\n\u001b[0m\u001b[0;32m    321\u001b[0m     \u001b[0my_true\u001b[0m \u001b[1;33m=\u001b[0m \u001b[0mcolumn_or_1d\u001b[0m\u001b[1;33m(\u001b[0m\u001b[0my_true\u001b[0m\u001b[1;33m)\u001b[0m\u001b[1;33m\u001b[0m\u001b[0m\n\u001b[0;32m    322\u001b[0m     \u001b[0my_score\u001b[0m \u001b[1;33m=\u001b[0m \u001b[0mcolumn_or_1d\u001b[0m\u001b[1;33m(\u001b[0m\u001b[0my_score\u001b[0m\u001b[1;33m)\u001b[0m\u001b[1;33m\u001b[0m\u001b[0m\n",
      "\u001b[1;32m~\\AppData\\Local\\Continuum\\anaconda3\\lib\\site-packages\\sklearn\\utils\\validation.py\u001b[0m in \u001b[0;36mcheck_consistent_length\u001b[1;34m(*arrays)\u001b[0m\n\u001b[0;32m    202\u001b[0m     \u001b[1;32mif\u001b[0m \u001b[0mlen\u001b[0m\u001b[1;33m(\u001b[0m\u001b[0muniques\u001b[0m\u001b[1;33m)\u001b[0m \u001b[1;33m>\u001b[0m \u001b[1;36m1\u001b[0m\u001b[1;33m:\u001b[0m\u001b[1;33m\u001b[0m\u001b[0m\n\u001b[0;32m    203\u001b[0m         raise ValueError(\"Found input variables with inconsistent numbers of\"\n\u001b[1;32m--> 204\u001b[1;33m                          \" samples: %r\" % [int(l) for l in lengths])\n\u001b[0m\u001b[0;32m    205\u001b[0m \u001b[1;33m\u001b[0m\u001b[0m\n\u001b[0;32m    206\u001b[0m \u001b[1;33m\u001b[0m\u001b[0m\n",
      "\u001b[1;31mValueError\u001b[0m: Found input variables with inconsistent numbers of samples: [12354, 10]"
     ]
    }
   ],
   "source": [
    "from sklearn.metrics import average_precision_score\n",
    "average_precision = average_precision_score(y_tr, y_tr_tfidf_scores)\n",
    "\n",
    "print('Average precision-recall score: {0:0.2f}'.format(\n",
    "      average_precision))"
   ]
  },
  {
   "cell_type": "code",
   "execution_count": 95,
   "metadata": {},
   "outputs": [
    {
     "data": {
      "text/plain": [
       "Text(0.5,1,'2-class Precision-Recall curve: AP=1.00')"
      ]
     },
     "execution_count": 95,
     "metadata": {},
     "output_type": "execute_result"
    },
    {
     "data": {
      "image/png": "[encoded data removed]",
      "text/plain": [
       "<matplotlib.figure.Figure at 0x2103b5adac8>"
      ]
     },
     "metadata": {},
     "output_type": "display_data"
    }
   ],
   "source": [
    "from sklearn.metrics import precision_recall_curve\n",
    "import matplotlib.pyplot as plt\n",
    "\n",
    "precision, recall, _ = precision_recall_curve(y_te, scores)\n",
    "\n",
    "plt.step(recall, precision, color='b', alpha=0.2,\n",
    "         where='post')\n",
    "plt.fill_between(recall, precision, step='post', alpha=0.2,\n",
    "                 color='b')\n",
    "\n",
    "plt.xlabel('Recall')\n",
    "plt.ylabel('Precision')\n",
    "plt.ylim([0.0, 1.05])\n",
    "plt.xlim([0.0, 1.0])\n",
    "plt.title('2-class Precision-Recall curve: AP={0:0.2f}'.format(\n",
    "          average_precision))"
   ]
  },
  {
   "cell_type": "code",
   "execution_count": 41,
   "metadata": {},
   "outputs": [
    {
     "data": {
      "image/png": "[encoded data removed]",
      "text/plain": [
       "<matplotlib.figure.Figure at 0x257a2f71f98>"
      ]
     },
     "metadata": {},
     "output_type": "display_data"
    }
   ],
   "source": [
    "# Plot the confusion matrix\n",
    "from sklearn.metrics import confusion_matrix\n",
    "confmat_y = confusion_matrix(y_te, y_pred_classes)\n",
    "\n",
    "fig, ax = plt.subplots(figsize=(6, 6))\n",
    "ax.matshow(confmat_y, cmap=plt.cm.Blues, alpha=0.3)\n",
    "for i in range(confmat_y.shape[0]):\n",
    "    for j in range(confmat_y.shape[1]):\n",
    "        ax.text(x=j, y=i, s=confmat_y[i, j], va='center', ha='center')\n",
    "\n",
    "plt.xlabel('Predicted label')\n",
    "plt.ylabel('True label')\n",
    "plt.xticks([0, 1], ['Commercial', 'Residential'])\n",
    "plt.yticks([0, 1], ['Commercial', 'Residential'], rotation='vertical', va='center')\n",
    "ax.grid(False)\n",
    "plt.tight_layout()\n",
    "plt.show()"
   ]
  },
  {
   "cell_type": "markdown",
   "metadata": {},
   "source": [
    "### Convert predictions to text labels and join with the main dataframe to see where the errors occurred "
   ]
  },
  {
   "cell_type": "code",
   "execution_count": 35,
   "metadata": {},
   "outputs": [],
   "source": [
    "y_pred_classes = []\n",
    "for i in y_pred:\n",
    "    if i > .5:\n",
    "        y_pred_classes.append(1)\n",
    "    else:\n",
    "        y_pred_classes.append(0)"
   ]
  },
  {
   "cell_type": "code",
   "execution_count": 36,
   "metadata": {},
   "outputs": [],
   "source": [
    "real_v_pred = pd.concat([y_te.reset_index(), pd.Series(y_pred_classes)], axis=1, join='inner', ignore_index=True).reset_index(drop=True).set_index([1])"
   ]
  },
  {
   "cell_type": "code",
   "execution_count": 37,
   "metadata": {},
   "outputs": [],
   "source": [
    "real_v_pred.reset_index(inplace=True)\n",
    "real_v_pred.columns = ['test', 'index', 'pred']"
   ]
  },
  {
   "cell_type": "code",
   "execution_count": 38,
   "metadata": {},
   "outputs": [],
   "source": [
    "errors = real_v_pred[real_v_pred.test != real_v_pred.pred]\n",
    "errors.set_index(keys='index', inplace=True)"
   ]
  },
  {
   "cell_type": "code",
   "execution_count": 39,
   "metadata": {},
   "outputs": [],
   "source": [
    "df_errors = df.join(errors, how='inner')"
   ]
  },
  {
   "cell_type": "markdown",
   "metadata": {},
   "source": [
    "### Descriptions of where 'Residential' was misclassified"
   ]
  },
  {
   "cell_type": "code",
   "execution_count": 42,
   "metadata": {},
   "outputs": [
    {
     "name": "stdout",
     "output_type": "stream",
     "text": [
      "- GRADING PERMIT TO CLEAR NEW SUBDIVISION FOR RYAN RIDGE  RESIDENTIAL LOTS. PROPERTY IS IN A PRIORITY CONSTRUCTION SITE. NPDES PERMIT NO. ALR108382. TO MEET ALL APPLICABLE CODES.\n",
      "- ALTERATIONS TO EXISTING 1,395 (UNIT H) SF OF COMMERCIAL BUILDING TO BE USED FOR LOANS COMPANY. ALL INSPECTIONS ARE REQUIRED BY ALL APPLICABLE DEPTS. STAMPED COPY OF PLANS AND REVIEW LETTER MUST BE KEPT ON JOB SITE AT ALL TIMES. TO MEET ALL APPLICABLE CODES.\n",
      "- DEMOLISH EXISTING WOOD FRAME DWLLING TO CLERA LOT. HEALTH DEPT APPROVAL ON FILE. WATER WORKS NO. 5421. BOND NO. 321716. DEMOLITION MUST COMPLETED WITHIN 30 DAYS. TO MEET ALL APPLICABLE CODES.\n",
      "- DEMOLISH commercial STRUCTURE TO CLEAR LOT. BOND #321705, WATER WORKS 5416 AND HEALTH DEPT LETTER ON FILE.  THIS PERMIT IS GOOD FOR 30 DAYS.  FINAL INSPECTION WILL BE REQUIRED BY HOUSING CODES. TO MEET ALL APPLICABLE CODERS.\n",
      "- INSTALL A 10' X 25' SWIMMIING POOL ON SIDE OF EXISTING DWELLING.  44\" FENCE IS REQUIRED AROUND AREA WITH A LOCKABLE GATE.  DIRT WILL BE USED ON SITE.  TO MEET ALL APPLICABLE CODES.\n",
      "- REPLACING A 66\"X25 5/8\" ILLUMINATED MENU BOARD SIGN TO COMMERCIAL BUILDING (EXISTING FOUNDATION). UL#E122574/ HS080000-005. SIGN TO BE LISTED BY NATIONALLY RECOGINZED TESTING LABORATORIES (NRTL). WILL NEED AN ELECTRICAL INSPECTION. ALL APPLICABLE DEPARTMENT INSPECTIONS AS REQUIRED TO MEET ALL APPLICABLE CODES\n",
      "- REPLACING A 66\"X25 5/8\" ILLUMINATED MENU BOARD SIGN TO COMMERCIAL BUILDING (EXISTING FOUNDATION). UL#E122574/ HS080000-005. SIGN TO BE LISTED BY NATIONALLY RECOGINZED TESTING LABORATORIES (NRTL). WILL NEED AN ELECTRICAL INSPECTION. ALL APPLICABLE DEPARTMENT INSPECTIONS AS REQUIRED TO MEET ALL APPLICABLE CODES\n",
      "- ERECT A 25'X 31' ADDITION TO REAR OF EXISTING DWELLING TO BE USED FOR DEN AND STORAGE. FOUNDATION AND FRAMING INSPECTION WILL BE REQUIRED. APPROVAL PER PLANNING/HELEN/TONYA. TO MEET ALL APPLICABLE CODES.\n",
      "- ERECT A 25'X 31' ADDITION TO REAR OF EXISTING DWELLING TO BE USED FOR DEN AND STORAGE. FOUNDATION AND FRAMING INSPECTION WILL BE REQUIRED. APPROVAL PER PLANNING/HELEN/TONYA. TO MEET ALL APPLICABLE CODES.\n",
      "- GENERAL REPAIRS TO EXISTING COMMERCIAL BUILDING. APPROVAL PER PLANING/TONYA. TO MEET ALL APPLICABLE CODES.\n",
      "- GENERAL REPAIRS TO EXISTING COMMERCIAL BUILDING. APPROVAL PER PLANING/TONYA. TO MEET ALL APPLICABLE CODES.\n",
      "- GENERAL REPAIRS TO REPLACE SIDING/SOFFIT AND EXTERIOR DOORS OF COMMERCIAL BUILDING. ALL INSPECTIONS ARE REQUIRED BY ALL APPLICABLE DEPTS. TO MEET ALL APPLICABLE CODES. (FEES COLLECTED ON PERMIT B170165).\n",
      "- ERECT A 12' X 16' DETACHED WOOD FRAME/SIDING STORAGE BUILDING ON VACANT LOT. APPROVAL PER JAMES CENTER/PLANNING CONTROLS. TO MEET ALL APPLICABLE CODES.\n",
      "- ERECT A 12' X 16' DETACHED WOOD FRAME/SIDING STORAGE BUILDING ON VACANT LOT. APPROVAL PER JAMES CENTER/PLANNING CONTROLS. TO MEET ALL APPLICABLE CODES.\n",
      "- UNDERPIN EXISTING COMMERCIAL APARTMENTS WITH THREE PITS. ALL INSPECTOINS ARE REQUIRED BY ALL APPLICABLE DEPTS. TO MEET ALL APPLICABLE CODES.\n",
      "- UNDERPIN EXISTING COMMERCIAL APARTMENTS WITH THREE PITS. ALL INSPECTOINS ARE REQUIRED BY ALL APPLICABLE DEPTS. TO MEET ALL APPLICABLE CODES.\n",
      "- VOID*****VOID*****VOID****VOID****\n",
      "- ALTERATIONS TO EXISTING 1,395 (UNIT H) SF OF COMMERCIAL BUILDING TO BE USED FOR LOANS COMPANY. ALL INSPECTIONS ARE REQUIRED BY ALL APPLICABLE DEPTS. STAMPED COPY OF PLANS AND REVIEW LETTER MUST BE KEPT ON JOB SITE AT ALL TIMES. TO MEET ALL APPLICABLE CODES.\n",
      "- DEMOLISH COMMERCIAL STRUCTURE TO CLEAR LOT.  WORK TO BE COMPLETED BY CITY OF MONTGOMERY LANDFILL DEPT. ***NO FEE PERMIT***\n"
     ]
    }
   ],
   "source": [
    "for row in df_errors['description'][df_errors.usetype == 'Residential']:\n",
    "    print(\"-\", row)"
   ]
  },
  {
   "cell_type": "markdown",
   "metadata": {},
   "source": [
    "### Descriptions of where 'Commercial' was misclassified"
   ]
  },
  {
   "cell_type": "code",
   "execution_count": 43,
   "metadata": {},
   "outputs": [
    {
     "name": "stdout",
     "output_type": "stream",
     "text": [
      "- INSTALL 2-37.1/2\" X 12'-5/8\" ILLUMINATED CHANNEL LETTERS TO THE FACE OF AN EXISTING BUILDING AND 2-8 SQ FT. ILLUMINATED TENANT PANELS TO THE EXISTING TENANT POLE SIGN. UL NUMBERS C21762072 - C21762088, C21762089 - C21762105.  ALL INSPECTION REQ BY ALL APPLICABLE DEPTS.  TO MEET ALL APPLICABLE CODES.\n",
      "- DEMOLISH EXISTING BRICK VENEER COMMERCIAL BUILDING. HEALTH DEPT. APPROVAL ON FILE. WATER WORKS CLEARANCE NO. 4609. BOND NO. 427529. FINAL INSPECTION WILL BE REQURIED BY BUILDING DEPT. AND WATER WORKS. TO MEET ALL APPLICABLE CODES.\n",
      "- DEMOLISH EXISTING BRICK VENEER COMMERCIAL BUILDING. HEALTH DEPT. APPROVAL ON FILE. WATER WORKS CLEARANCE NO. 4609. BOND NO. 427529. FINAL INSPECTION WILL BE REQURIED BY BUILDING DEPT. AND WATER WORKS. TO MEET ALL APPLICABLE CODES.\n",
      "- 12-11-2013 DEMOLISH COMMERCIAL STRUCTURE TO CLEAR LOT**NO FEE- WORK COMPLETED BY CITY LANDFILL\n",
      "- GENERAL REPAIRS TO EXISTING APARTMENT 245-D OF EXISTING COMPLEX. FRAMING, ELEC, PLUMBING, MECHANICAL INSPECTONS WILL BE REQUIRED. TO MEET ALL APPLICABLE CODES.\n",
      "- GENERAL REPAIRS TO EXISTING APARTMENT 245-D OF EXISTING COMPLEX. FRAMING, ELEC, PLUMBING, MECHANICAL INSPECTONS WILL BE REQUIRED. TO MEET ALL APPLICABLE CODES.\n",
      "- DEMOLISH A DWELLIJNG TO CLEAR LOT. HEALTH DEPT APPROVAL, WATER WORKS 4528, BOND 427514. THIS PERMIT IS GOOD FOR 30 DAYS.  TO MEET ALL APPLICABLE CODES.\n",
      "- RENOVATIONS TO INTERIOR OF EXISTING APARTMENTS UNITS 209 & 211. DUE TO FIRE DAMAGE. WILL NEED FRAMING AND ELECTRICAL INSPECTIONS. ALL APPLICABLE DEPARTMENT INSPECTIONS AS REQUIRED. MUST COMPLY WITH STATE ENERGY CODE. TO MEET ALL APPLICABLE CODES.\n",
      "- RENOVATIONS TO INTERIOR OF EXISTING APARTMENTS UNITS 209 & 211. DUE TO FIRE DAMAGE. WILL NEED FRAMING AND ELECTRICAL INSPECTIONS. ALL APPLICABLE DEPARTMENT INSPECTIONS AS REQUIRED. MUST COMPLY WITH STATE ENERGY CODE. TO MEET ALL APPLICABLE CODES.\n",
      "- INSTALL 2-37.1/2\" X 12'-5/8\" ILLUMINATED CHANNEL LETTERS TO THE FACE OF AN EXISTING BUILDING AND 2-8 SQ FT. ILLUMINATED TENANT PANELS TO THE EXISTING TENANT POLE SIGN. UL NUMBERS C21762072 - C21762088, C21762089 - C21762105.  ALL INSPECTION REQ BY ALL APPLICABLE DEPTS.  TO MEET ALL APPLICABLE CODES.\n",
      "- ERECT 130 LINEAR FT OF A 10' HIGH RETAINING WALL. ALL INSPECTIONS ARE REQUIRED BY ALL APPLICABLE DEPTS. TO MEET ALL APPLICABLE CODES.  ***PERMIT FEES WAIVED***\n",
      "- GENERAL REPAIRS TO EXISTING SINGLE FAMILY DWELLING TO DUE SHEETROCK WORK, HEATING AND AIR WORK, ELECTRIC WORK AND REMODEL BATHROOM . ALL APPLICABLE DEPARTMENT INSPECTIONS AS REQUIRED. TO MEET ALL APPLICABLE CODES.\n",
      "- RENOVATIONS TO INTERIOR OF EXISTING SINGLE FAMILY DWELLING. DUE TO FIRE DAMAGE. WILL NEED FRAMING AND ELECTRICAL. ALL APPLICABLE DEPARTMENT INSPECTIONS AS REQUIRED. TO MEET ALL APPLICABLE CODES.\n",
      "- LOCATE A 80' X 32' MOBILE HOME FOR LIVING PURPOSES. TIE DOWN  AND ELEC INSPECTION WILL BE REQUIRED. APPROVAL PER PLANNING. TO MEET ALL APPLICABLE CODES.\n",
      "- OFFICE SPACE TO USED FOR OFFICE\n",
      "- BUS LIC INSP FOR VANITY BODY CONTOURING STUDIO LLC/ VANITY M. HUNTER  334-377-9853 OR 773-919-1141\n",
      "- BUS LIC INSP FOR VANITY BODY CONTOURING STUDIO LLC/ VANITY M. HUNTER  334-377-9853 OR 773-919-1141\n",
      "- DEMOLISH RESIDENTIAL STRUCTURE TO CLEAR LOT.  WORK TO BE COMPLETED BY CITY OF MONTGOMERY LANDFILL DEPT. ****NO FEE PERMIT****\n",
      "- DEMOLISH RESIDENTIAL STRUCTURE TO CLEAR LOT.  WORK TO BE COMPLETED BY CITY OF MONTGOMERY LANDFILL DEPT. ****NO FEE PERMIT****\n"
     ]
    }
   ],
   "source": [
    "for row in df_errors['description'][df_errors.usetype == 'Commercial']:\n",
    "    print(\"-\", row)"
   ]
  }
 ],
 "metadata": {
  "kernelspec": {
   "display_name": "Python 3",
   "language": "python",
   "name": "python3"
  },
  "language_info": {
   "codemirror_mode": {
    "name": "ipython",
    "version": 3
   },
   "file_extension": ".py",
   "mimetype": "text/x-python",
   "name": "python",
   "nbconvert_exporter": "python",
   "pygments_lexer": "ipython3",
   "version": "3.6.4"
  }
 },
 "nbformat": 4,
 "nbformat_minor": 1
}
